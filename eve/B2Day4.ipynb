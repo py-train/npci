{
 "cells": [
  {
   "cell_type": "markdown",
   "id": "e1693d0c-2dfc-425a-9820-ae44f6a9417b",
   "metadata": {},
   "source": [
    "# Day 4 Agenda\n",
    "\n",
    "- Modules\n",
    "- YAML\n",
    "- OO/Classes\n",
    "- "
   ]
  },
  {
   "cell_type": "code",
   "execution_count": 66,
   "id": "1a25a5b2-f739-44a5-b731-bcf2dbdaf7b1",
   "metadata": {},
   "outputs": [],
   "source": [
    "import random"
   ]
  },
  {
   "cell_type": "code",
   "execution_count": 2,
   "id": "457ad889-b163-4370-8ac3-b72f213725e2",
   "metadata": {},
   "outputs": [
    {
     "data": {
      "text/plain": [
       "<module 'random' from '/opt/anaconda3/lib/python3.11/random.py'>"
      ]
     },
     "execution_count": 2,
     "metadata": {},
     "output_type": "execute_result"
    }
   ],
   "source": [
    "random"
   ]
  },
  {
   "cell_type": "code",
   "execution_count": 12,
   "id": "d0272e1b-1171-4dde-a99b-9a7945c9edd0",
   "metadata": {},
   "outputs": [
    {
     "data": {
      "text/plain": [
       "11"
      ]
     },
     "execution_count": 12,
     "metadata": {},
     "output_type": "execute_result"
    }
   ],
   "source": [
    "random.randint(10,20)"
   ]
  },
  {
   "cell_type": "code",
   "execution_count": 13,
   "id": "ee5b3e59-5c1a-4698-8c34-0bca369b3bb7",
   "metadata": {},
   "outputs": [
    {
     "data": {
      "text/plain": [
       "[10, 20, 30, 40, 50, 60, 70, 80, 90]"
      ]
     },
     "execution_count": 13,
     "metadata": {},
     "output_type": "execute_result"
    }
   ],
   "source": [
    "list(range(10,100,10))"
   ]
  },
  {
   "cell_type": "code",
   "execution_count": 19,
   "id": "9fffdc61-4af9-45c9-8252-5336271b43b1",
   "metadata": {},
   "outputs": [
    {
     "data": {
      "text/plain": [
       "10"
      ]
     },
     "execution_count": 19,
     "metadata": {},
     "output_type": "execute_result"
    }
   ],
   "source": [
    "random.randrange(10,100,10)"
   ]
  },
  {
   "cell_type": "code",
   "execution_count": 29,
   "id": "e2dc7b10-53ae-499a-815c-47dd0651fc4d",
   "metadata": {},
   "outputs": [
    {
     "data": {
      "text/plain": [
       "2.0"
      ]
     },
     "execution_count": 29,
     "metadata": {},
     "output_type": "execute_result"
    }
   ],
   "source": [
    "random.randint(0,10) + random.randint(0,10) / 10"
   ]
  },
  {
   "cell_type": "code",
   "execution_count": 36,
   "id": "43be3da5-acd3-4b20-978f-2b04c089b931",
   "metadata": {},
   "outputs": [
    {
     "data": {
      "text/plain": [
       "107.18256053126393"
      ]
     },
     "execution_count": 36,
     "metadata": {},
     "output_type": "execute_result"
    }
   ],
   "source": [
    "random.gammavariate(10,20)"
   ]
  },
  {
   "cell_type": "code",
   "execution_count": 45,
   "id": "09cb670b-c280-49db-984a-26d2ea3d8715",
   "metadata": {},
   "outputs": [
    {
     "data": {
      "text/plain": [
       "0.10306084922743008"
      ]
     },
     "execution_count": 45,
     "metadata": {},
     "output_type": "execute_result"
    }
   ],
   "source": [
    "random.random()"
   ]
  },
  {
   "cell_type": "code",
   "execution_count": 46,
   "id": "7c3d6b05-38fd-4aea-beeb-93fe4345523c",
   "metadata": {},
   "outputs": [],
   "source": [
    "secret = random.randint(0,100)"
   ]
  },
  {
   "cell_type": "code",
   "execution_count": 52,
   "id": "2ede7b80-cc40-44be-9c73-64067ba90932",
   "metadata": {},
   "outputs": [
    {
     "name": "stdin",
     "output_type": "stream",
     "text": [
      "Your guess :  53\n"
     ]
    },
    {
     "name": "stdout",
     "output_type": "stream",
     "text": [
      "Go lower!\n"
     ]
    },
    {
     "name": "stdin",
     "output_type": "stream",
     "text": [
      "Your guess :  35\n"
     ]
    },
    {
     "name": "stdout",
     "output_type": "stream",
     "text": [
      "Go lower!\n"
     ]
    },
    {
     "name": "stdin",
     "output_type": "stream",
     "text": [
      "Your guess :  26\n"
     ]
    },
    {
     "name": "stdout",
     "output_type": "stream",
     "text": [
      "Go lower!\n"
     ]
    },
    {
     "name": "stdin",
     "output_type": "stream",
     "text": [
      "Your guess :  18\n"
     ]
    },
    {
     "name": "stdout",
     "output_type": "stream",
     "text": [
      "You got it in 4 chances!\n"
     ]
    }
   ],
   "source": [
    "secret = random.randint(0,100)\n",
    "count = 0\n",
    "while True:\n",
    "    count += 1\n",
    "    guess = int(input('Your guess : '))\n",
    "    if guess > secret:\n",
    "        print('Go lower!')\n",
    "    elif guess < secret:\n",
    "        print('Go higher')\n",
    "    else:\n",
    "        # print('You got it in ' + str(count) + ' chances')\n",
    "        print(f'You got it in {count} chances!')\n",
    "        break"
   ]
  },
  {
   "cell_type": "code",
   "execution_count": 55,
   "id": "9ed9ae75-47ab-49e7-a7fb-9733773cded1",
   "metadata": {},
   "outputs": [],
   "source": [
    "nums = [1,2,3,4]\n",
    "random.shuffle(nums)"
   ]
  },
  {
   "cell_type": "code",
   "execution_count": 56,
   "id": "d17d0fee-217a-4d9f-b013-f2ee6f83d491",
   "metadata": {},
   "outputs": [
    {
     "data": {
      "text/plain": [
       "[1, 4, 3, 2]"
      ]
     },
     "execution_count": 56,
     "metadata": {},
     "output_type": "execute_result"
    }
   ],
   "source": [
    "nums"
   ]
  },
  {
   "cell_type": "code",
   "execution_count": null,
   "id": "6fd9cc7a-235a-4e5a-9f15-1d05aec0068b",
   "metadata": {},
   "outputs": [],
   "source": [
    "carddeck = ['AH', 'KH', ...}"
   ]
  },
  {
   "cell_type": "code",
   "execution_count": 57,
   "id": "500f42e3-e77d-41ab-b15e-2f6ccc267710",
   "metadata": {},
   "outputs": [],
   "source": [
    "import glob"
   ]
  },
  {
   "cell_type": "markdown",
   "id": "a0689812-e39f-4fa8-9ace-706676ea8bff",
   "metadata": {},
   "source": [
    "## YAML"
   ]
  },
  {
   "cell_type": "code",
   "execution_count": 58,
   "id": "5ebe7999-4cb0-4c2d-ba54-203fae5c22b2",
   "metadata": {},
   "outputs": [],
   "source": [
    "import yaml"
   ]
  },
  {
   "cell_type": "code",
   "execution_count": 59,
   "id": "ebd74915-0796-42dc-b0d6-2dff0baa6cd6",
   "metadata": {},
   "outputs": [],
   "source": [
    "from yaml import load, dump, Loader, Dumper"
   ]
  },
  {
   "cell_type": "code",
   "execution_count": 63,
   "id": "f27278e2-0d39-4001-b318-9732ef43d5e4",
   "metadata": {},
   "outputs": [],
   "source": [
    "f = open('../data/readthedocs.yaml')"
   ]
  },
  {
   "cell_type": "code",
   "execution_count": null,
   "id": "de02ce19-13bd-40ba-bf9d-c14b66d703ed",
   "metadata": {},
   "outputs": [],
   "source": [
    "# yaml.load(f, yaml.Loader)"
   ]
  },
  {
   "cell_type": "code",
   "execution_count": 64,
   "id": "8e819436-eb87-416b-be8c-c9ca62af7728",
   "metadata": {},
   "outputs": [
    {
     "data": {
      "text/plain": [
       "{'version': 2,\n",
       " 'build': {'os': 'ubuntu-22.04', 'tools': {'python': '3.11'}},\n",
       " 'sphinx': {'configuration': 'mypyc/doc/conf.py'},\n",
       " 'formats': ['pdf', 'htmlzip', 'epub'],\n",
       " 'python': {'install': [{'requirements': 'docs/requirements-docs.txt'}]}}"
      ]
     },
     "execution_count": 64,
     "metadata": {},
     "output_type": "execute_result"
    }
   ],
   "source": [
    "rtdconfig = load(f, Loader)\n",
    "rtdconfig"
   ]
  },
  {
   "cell_type": "code",
   "execution_count": 65,
   "id": "9a7b1e9c-b7db-4262-8e42-c8163d30b0ba",
   "metadata": {},
   "outputs": [
    {
     "data": {
      "text/plain": [
       "'3.11'"
      ]
     },
     "execution_count": 65,
     "metadata": {},
     "output_type": "execute_result"
    }
   ],
   "source": [
    "rtdconfig['build']['tools']['python']"
   ]
  },
  {
   "cell_type": "markdown",
   "id": "9df808a7-b1b7-4e83-8564-505dddd11b17",
   "metadata": {},
   "source": [
    "## Classes/OO\n",
    "\n",
    "    Code + Data = Class (Encapsulation)\n",
    "\n",
    "### Thumb Rules for implementing python classes\n",
    "\n",
    "1. Use the `class` keyword and give your call a name\n",
    "   \n",
    "       class Stack:\n",
    "           ...\n",
    "\n",
    "2. Write all your methods with `self` as the first argument\n",
    "   \n",
    "       def push(self, val):\n",
    "           ...\n",
    "\n",
    "3. Define an `__init__` method that does data creation/instantiation/initialization (again with a `self` arg)\n",
    "\n",
    "       def __init__(self):\n",
    "           self.data = []\n",
    "\n",
    "### Notes\n",
    "- Remember: `self` is not a keyword in python!\n",
    "- Remember: the name `__init__` is important! `_init_` or `init` will work and not throw errors. But they will not have the effect of a constructor!"
   ]
  },
  {
   "cell_type": "code",
   "execution_count": 1,
   "id": "1c00dc6a-6455-41e9-8c85-f9eea98fa598",
   "metadata": {},
   "outputs": [],
   "source": [
    "stack = []"
   ]
  },
  {
   "cell_type": "code",
   "execution_count": 8,
   "id": "b9dec059-08cd-4358-be6c-79876eee34e5",
   "metadata": {},
   "outputs": [],
   "source": [
    "def push(s,val):\n",
    "    s.append(val)"
   ]
  },
  {
   "cell_type": "code",
   "execution_count": 7,
   "id": "c1b397ee-79a9-4d82-bb61-8a5c7f2d6851",
   "metadata": {},
   "outputs": [],
   "source": [
    "def pop(s):\n",
    "    return s.pop()"
   ]
  },
  {
   "cell_type": "code",
   "execution_count": 4,
   "id": "b8d4eaae-3480-4cc2-bf53-1e79cf56406e",
   "metadata": {},
   "outputs": [],
   "source": [
    "push(10)\n",
    "push(20)\n",
    "push(30)\n",
    "v1 = pop()\n",
    "push(40)\n",
    "v2 = pop()\n",
    "push(50)"
   ]
  },
  {
   "cell_type": "code",
   "execution_count": 5,
   "id": "a74acc73-be2f-4267-beef-bba3e1df6dda",
   "metadata": {},
   "outputs": [
    {
     "data": {
      "text/plain": [
       "[10, 20, 50]"
      ]
     },
     "execution_count": 5,
     "metadata": {},
     "output_type": "execute_result"
    }
   ],
   "source": [
    "stack"
   ]
  },
  {
   "cell_type": "code",
   "execution_count": 6,
   "id": "1e1d171a-7100-4da1-bccb-870ef5061c3f",
   "metadata": {},
   "outputs": [
    {
     "data": {
      "text/plain": [
       "(30, 40)"
      ]
     },
     "execution_count": 6,
     "metadata": {},
     "output_type": "execute_result"
    }
   ],
   "source": [
    "v1, v2"
   ]
  },
  {
   "cell_type": "code",
   "execution_count": 9,
   "id": "fe866a78-02e0-4476-a2a8-e149409b6c63",
   "metadata": {},
   "outputs": [],
   "source": [
    "s1 = []\n",
    "s2 = []"
   ]
  },
  {
   "cell_type": "code",
   "execution_count": 11,
   "id": "978b6e31-823f-487e-85bb-2cd5ee319df9",
   "metadata": {},
   "outputs": [],
   "source": [
    "push(s1, 10)\n",
    "push(s1, 20)\n",
    "push(s2, 30)\n",
    "v1 = pop(s1)\n",
    "push(s1, 40)\n",
    "v2 = pop(s2)\n",
    "push(s1, 50)"
   ]
  },
  {
   "cell_type": "code",
   "execution_count": null,
   "id": "22d42a35-e0fe-428d-a359-01e53719160b",
   "metadata": {},
   "outputs": [],
   "source": [
    "s3 = {}\n",
    "\n",
    "push(s3, 100)"
   ]
  },
  {
   "cell_type": "code",
   "execution_count": 21,
   "id": "cf10b12c-f7ea-4f15-a6f9-675dae2798e4",
   "metadata": {},
   "outputs": [],
   "source": [
    "class Stack:\n",
    "    def __init__(self):\n",
    "        print('Created!')\n",
    "        self.stack = []\n",
    "\n",
    "    def _init_(self):\n",
    "        ...\n",
    "        # Doesn't help for construction!!\n",
    "\n",
    "    def init(self):\n",
    "        ...\n",
    "        # Doesn't help for construction!!\n",
    "\n",
    "    def push(self,val):\n",
    "        self.stack.append(val)\n",
    "\n",
    "    def pop(self):\n",
    "        return self.stack.pop()"
   ]
  },
  {
   "cell_type": "code",
   "execution_count": 19,
   "id": "27a3b549-1b06-41ee-9928-a71859056f2a",
   "metadata": {},
   "outputs": [
    {
     "name": "stdout",
     "output_type": "stream",
     "text": [
      "Created!\n",
      "Created!\n"
     ]
    }
   ],
   "source": [
    "s1 = Stack()\n",
    "s2 = Stack()"
   ]
  },
  {
   "cell_type": "code",
   "execution_count": 14,
   "id": "e279626c-44c3-4f80-8a90-f95e03aa78f8",
   "metadata": {},
   "outputs": [
    {
     "data": {
      "text/plain": [
       "200"
      ]
     },
     "execution_count": 14,
     "metadata": {},
     "output_type": "execute_result"
    }
   ],
   "source": [
    "s1.push(100)\n",
    "s1.push(200)\n",
    "s1.pop()"
   ]
  },
  {
   "cell_type": "code",
   "execution_count": 15,
   "id": "6ca0a820-d425-4eaa-ba2a-8559d2569cc6",
   "metadata": {},
   "outputs": [
    {
     "data": {
      "text/plain": [
       "[100]"
      ]
     },
     "execution_count": 15,
     "metadata": {},
     "output_type": "execute_result"
    }
   ],
   "source": [
    "s1.stack"
   ]
  },
  {
   "cell_type": "code",
   "execution_count": 16,
   "id": "a3380ccc-aa87-4589-8360-63845f7691e6",
   "metadata": {},
   "outputs": [
    {
     "data": {
      "text/plain": [
       "[]"
      ]
     },
     "execution_count": 16,
     "metadata": {},
     "output_type": "execute_result"
    }
   ],
   "source": [
    "s2.stack"
   ]
  },
  {
   "cell_type": "code",
   "execution_count": 22,
   "id": "cbac8ceb-3836-4496-bd05-2c7f0e501fcd",
   "metadata": {},
   "outputs": [
    {
     "data": {
      "text/plain": [
       "274877906944"
      ]
     },
     "execution_count": 22,
     "metadata": {},
     "output_type": "execute_result"
    }
   ],
   "source": [
    "2**38"
   ]
  },
  {
   "cell_type": "code",
   "execution_count": 23,
   "id": "f07594e9-920b-454b-bd33-9cabc3e15448",
   "metadata": {},
   "outputs": [],
   "source": [
    "crypt = '''g fmnc wms bgblr rpylqjyrc gr zw fylb. rfyrq ufyr amknsrcpq ypc dmp. bmgle gr gl zw fylb gq glcddgagclr ylb rfyr'q ufw rfgq rcvr gq qm jmle. sqgle qrpgle.kyicrpylq() gq pcamkkclbcb. lmu ynnjw ml rfc spj.'''"
   ]
  },
  {
   "cell_type": "code",
   "execution_count": 28,
   "id": "b3de9223-ed64-49df-96a9-2e553ccc13fa",
   "metadata": {},
   "outputs": [
    {
     "name": "stdout",
     "output_type": "stream",
     "text": [
      "i\"hope\"you\"didnt\"tr{nsl{te\"it\"|y\"h{nd0\"th{ts\"wh{t\"computers\"{re\"for0\"doing\"it\"in\"|y\"h{nd\"is\"inefficient\"{nd\"th{t)s\"why\"this\"text\"is\"so\"long0\"using\"string0m{ketr{ns*+\"is\"recommended0\"now\"{pply\"on\"the\"url0"
     ]
    }
   ],
   "source": [
    "for char in crypt:\n",
    "    print(chr(ord(char)+2), end='')"
   ]
  },
  {
   "cell_type": "code",
   "execution_count": 24,
   "id": "05b89153-9c20-4084-b95a-b09ae9b395c9",
   "metadata": {},
   "outputs": [
    {
     "data": {
      "text/plain": [
       "65"
      ]
     },
     "execution_count": 24,
     "metadata": {},
     "output_type": "execute_result"
    }
   ],
   "source": [
    "ord('A')"
   ]
  },
  {
   "cell_type": "code",
   "execution_count": 26,
   "id": "1dd9d2e3-5323-4210-a84b-360527ca5709",
   "metadata": {},
   "outputs": [
    {
     "data": {
      "text/plain": [
       "'A'"
      ]
     },
     "execution_count": 26,
     "metadata": {},
     "output_type": "execute_result"
    }
   ],
   "source": [
    "chr(65)"
   ]
  },
  {
   "cell_type": "code",
   "execution_count": 29,
   "id": "b3f74578-32da-4835-beed-635f3ec98974",
   "metadata": {},
   "outputs": [
    {
     "name": "stdout",
     "output_type": "stream",
     "text": [
      "ocr"
     ]
    }
   ],
   "source": [
    "for char in 'map':\n",
    "    print(chr(ord(char)+2), end='')"
   ]
  },
  {
   "cell_type": "code",
   "execution_count": null,
   "id": "f64cec69-79ef-4406-b212-00a8fce0f5c0",
   "metadata": {},
   "outputs": [],
   "source": []
  },
  {
   "cell_type": "code",
   "execution_count": null,
   "id": "f5f5a12e-8df3-47e2-9a91-a2500d18f92c",
   "metadata": {},
   "outputs": [],
   "source": []
  }
 ],
 "metadata": {
  "kernelspec": {
   "display_name": "Python 3 (ipykernel)",
   "language": "python",
   "name": "python3"
  },
  "language_info": {
   "codemirror_mode": {
    "name": "ipython",
    "version": 3
   },
   "file_extension": ".py",
   "mimetype": "text/x-python",
   "name": "python",
   "nbconvert_exporter": "python",
   "pygments_lexer": "ipython3",
   "version": "3.11.0"
  }
 },
 "nbformat": 4,
 "nbformat_minor": 5
}
