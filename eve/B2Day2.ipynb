{
 "cells": [
  {
   "cell_type": "markdown",
   "id": "2267c23e-361f-4053-b6cb-a8581a5aa6f4",
   "metadata": {},
   "source": [
    "# Day2 Agenda\n",
    "\n",
    "- Strings\n",
    "- Dictionaries\n",
    "- Flow control\n",
    "    - if-else\n",
    "    - for loops\n",
    "- Tuples\n",
    "- Sets"
   ]
  },
  {
   "cell_type": "markdown",
   "id": "49bc84b8-b9f7-4c38-8f9f-9b53ed436bd0",
   "metadata": {},
   "source": [
    "## Strings"
   ]
  },
  {
   "cell_type": "code",
   "execution_count": 8,
   "id": "ba966198-c159-4449-88cb-e421927cd7d9",
   "metadata": {},
   "outputs": [],
   "source": [
    "name = 'Alexandar'\n",
    "address = \"1'st, 2'nd main, Bangalore\"\n",
    "address = '1\\'st, 2\\'nd main, Bangalore'\n",
    "longstr = '''this\n",
    "string\n",
    "spans\n",
    "across \n",
    "many line'''\n",
    "\n",
    "winpath = 'c:\\windows\\test\\newfile.txt'\n",
    "winpath = 'c:\\\\windows\\\\test\\\\newfile.txt'\n",
    "winpath = r'c:\\windows\\test\\newfile.txt'\n",
    "\n",
    "email_patt = r'\\w+@\\w+\\.\\w+'      # regex"
   ]
  },
  {
   "cell_type": "code",
   "execution_count": 12,
   "id": "6a7de33a-bf48-48e9-851c-61ae51b6f6c9",
   "metadata": {},
   "outputs": [
    {
     "data": {
      "text/plain": [
       "'c:\\\\windows\\\\test\\\\newfile.txt'"
      ]
     },
     "execution_count": 12,
     "metadata": {},
     "output_type": "execute_result"
    }
   ],
   "source": [
    "winpath"
   ]
  },
  {
   "cell_type": "code",
   "execution_count": 11,
   "id": "10628255-049d-4556-8267-e7bfa7a17e6d",
   "metadata": {},
   "outputs": [
    {
     "name": "stdout",
     "output_type": "stream",
     "text": [
      "c:\\windows\\test\\newfile.txt\n"
     ]
    }
   ],
   "source": [
    "print(winpath)"
   ]
  },
  {
   "cell_type": "code",
   "execution_count": 9,
   "id": "f984ec99-7d0f-4dbd-ae17-f1efab28a95b",
   "metadata": {},
   "outputs": [
    {
     "data": {
      "text/plain": [
       "str"
      ]
     },
     "execution_count": 9,
     "metadata": {},
     "output_type": "execute_result"
    }
   ],
   "source": [
    "type(winpath)"
   ]
  },
  {
   "cell_type": "code",
   "execution_count": 13,
   "id": "5e278848-0d48-4788-8cfb-a29d72970eb3",
   "metadata": {},
   "outputs": [
    {
     "data": {
      "text/plain": [
       "\"Alexandar1'st, 2'nd main, Bangaloreabc\""
      ]
     },
     "execution_count": 13,
     "metadata": {},
     "output_type": "execute_result"
    }
   ],
   "source": [
    "name + address + 'abc'"
   ]
  },
  {
   "cell_type": "code",
   "execution_count": 14,
   "id": "9912ba73-962b-4e11-b80d-4c1183eb15e6",
   "metadata": {},
   "outputs": [
    {
     "data": {
      "text/plain": [
       "'AlexandarAlexandarAlexandar'"
      ]
     },
     "execution_count": 14,
     "metadata": {},
     "output_type": "execute_result"
    }
   ],
   "source": [
    "name * 3"
   ]
  },
  {
   "cell_type": "code",
   "execution_count": 15,
   "id": "af204b86-53e3-4df8-88a3-5a44b8131983",
   "metadata": {},
   "outputs": [
    {
     "data": {
      "text/plain": [
       "'A'"
      ]
     },
     "execution_count": 15,
     "metadata": {},
     "output_type": "execute_result"
    }
   ],
   "source": [
    "name[0]"
   ]
  },
  {
   "cell_type": "code",
   "execution_count": 16,
   "id": "70472892-d7c5-4659-8623-71d723966e60",
   "metadata": {},
   "outputs": [
    {
     "data": {
      "text/plain": [
       "'r'"
      ]
     },
     "execution_count": 16,
     "metadata": {},
     "output_type": "execute_result"
    }
   ],
   "source": [
    "name[-1]"
   ]
  },
  {
   "cell_type": "code",
   "execution_count": 17,
   "id": "b7c2525e-c50f-471f-94a8-c013250a052c",
   "metadata": {},
   "outputs": [
    {
     "data": {
      "text/plain": [
       "'andar'"
      ]
     },
     "execution_count": 17,
     "metadata": {},
     "output_type": "execute_result"
    }
   ],
   "source": [
    "name[-5:]"
   ]
  },
  {
   "cell_type": "code",
   "execution_count": 18,
   "id": "f072074a-6d47-4c97-9e64-286c052d25cd",
   "metadata": {},
   "outputs": [
    {
     "data": {
      "text/plain": [
       "'ALEXANDAR'"
      ]
     },
     "execution_count": 18,
     "metadata": {},
     "output_type": "execute_result"
    }
   ],
   "source": [
    "name.upper()"
   ]
  },
  {
   "cell_type": "code",
   "execution_count": 19,
   "id": "16f81962-ee8e-473c-8991-81b20b2753e6",
   "metadata": {},
   "outputs": [
    {
     "data": {
      "text/plain": [
       "'alexandar'"
      ]
     },
     "execution_count": 19,
     "metadata": {},
     "output_type": "execute_result"
    }
   ],
   "source": [
    "name.lower()"
   ]
  },
  {
   "cell_type": "code",
   "execution_count": 20,
   "id": "56543bcf-45e4-461b-b822-930ee791e707",
   "metadata": {},
   "outputs": [
    {
     "data": {
      "text/plain": [
       "'Alexandar'"
      ]
     },
     "execution_count": 20,
     "metadata": {},
     "output_type": "execute_result"
    }
   ],
   "source": [
    "name"
   ]
  },
  {
   "cell_type": "code",
   "execution_count": 21,
   "id": "ba8db1d2-0c15-447a-8845-c6ab170f9ce5",
   "metadata": {},
   "outputs": [
    {
     "data": {
      "text/plain": [
       "1"
      ]
     },
     "execution_count": 21,
     "metadata": {},
     "output_type": "execute_result"
    }
   ],
   "source": [
    "name.index('lex')"
   ]
  },
  {
   "cell_type": "code",
   "execution_count": 22,
   "id": "c32b267f-3ad8-4387-908a-5a6abd5ff194",
   "metadata": {},
   "outputs": [
    {
     "ename": "ValueError",
     "evalue": "substring not found",
     "output_type": "error",
     "traceback": [
      "\u001b[0;31m---------------------------------------------------------------------------\u001b[0m",
      "\u001b[0;31mValueError\u001b[0m                                Traceback (most recent call last)",
      "Cell \u001b[0;32mIn[22], line 1\u001b[0m\n\u001b[0;32m----> 1\u001b[0m name\u001b[38;5;241m.\u001b[39mindex(\u001b[38;5;124m'\u001b[39m\u001b[38;5;124mzap\u001b[39m\u001b[38;5;124m'\u001b[39m)\n",
      "\u001b[0;31mValueError\u001b[0m: substring not found"
     ]
    }
   ],
   "source": [
    "name.index('zap')"
   ]
  },
  {
   "cell_type": "code",
   "execution_count": 23,
   "id": "4f536787-77f5-4ad0-9429-a19662ac063f",
   "metadata": {},
   "outputs": [
    {
     "data": {
      "text/plain": [
       "-1"
      ]
     },
     "execution_count": 23,
     "metadata": {},
     "output_type": "execute_result"
    }
   ],
   "source": [
    "name.find('zap')"
   ]
  },
  {
   "cell_type": "code",
   "execution_count": 25,
   "id": "484ba587-12ca-4848-8478-a678d107aa79",
   "metadata": {},
   "outputs": [],
   "source": [
    "if 'zap' in name:      # membership check operator\n",
    "    name.index('zap')"
   ]
  },
  {
   "cell_type": "code",
   "execution_count": 26,
   "id": "d36a01ba-bc32-4ad1-962e-5bdb9610cf2b",
   "metadata": {},
   "outputs": [
    {
     "data": {
      "text/plain": [
       "True"
      ]
     },
     "execution_count": 26,
     "metadata": {},
     "output_type": "execute_result"
    }
   ],
   "source": [
    "1 in [1,2,3,4]"
   ]
  },
  {
   "cell_type": "code",
   "execution_count": 27,
   "id": "b870e418-f102-4522-823c-f7583c6b2048",
   "metadata": {},
   "outputs": [
    {
     "data": {
      "text/plain": [
       "True"
      ]
     },
     "execution_count": 27,
     "metadata": {},
     "output_type": "execute_result"
    }
   ],
   "source": [
    "name.endswith('dar')     # predicates"
   ]
  },
  {
   "cell_type": "code",
   "execution_count": 28,
   "id": "06d32426-4c05-49a0-aa20-91d2647a6571",
   "metadata": {},
   "outputs": [
    {
     "data": {
      "text/plain": [
       "False"
      ]
     },
     "execution_count": 28,
     "metadata": {},
     "output_type": "execute_result"
    }
   ],
   "source": [
    "name.startswith('alex')"
   ]
  },
  {
   "cell_type": "code",
   "execution_count": 29,
   "id": "8ebd225a-5509-4797-b30d-14e3a98b47e4",
   "metadata": {},
   "outputs": [],
   "source": [
    "if name.endswith('dar') and name.startswith('alex'):\n",
    "    ..."
   ]
  },
  {
   "cell_type": "code",
   "execution_count": 30,
   "id": "f1888b8c-bc22-4605-bfff-5c81fd62c2bc",
   "metadata": {},
   "outputs": [
    {
     "data": {
      "text/plain": [
       "True"
      ]
     },
     "execution_count": 30,
     "metadata": {},
     "output_type": "execute_result"
    }
   ],
   "source": [
    "name.isalpha()"
   ]
  },
  {
   "cell_type": "code",
   "execution_count": 32,
   "id": "a4bcdfd7-c58b-4082-ba20-5f298e3a7a66",
   "metadata": {},
   "outputs": [
    {
     "data": {
      "text/plain": [
       "False"
      ]
     },
     "execution_count": 32,
     "metadata": {},
     "output_type": "execute_result"
    }
   ],
   "source": [
    "address.isalnum()"
   ]
  },
  {
   "cell_type": "code",
   "execution_count": 33,
   "id": "8f07cf15-be9c-47c4-aa53-a7d3c9eec5f5",
   "metadata": {},
   "outputs": [
    {
     "data": {
      "text/plain": [
       "True"
      ]
     },
     "execution_count": 33,
     "metadata": {},
     "output_type": "execute_result"
    }
   ],
   "source": [
    "address.isascii()"
   ]
  },
  {
   "cell_type": "code",
   "execution_count": 36,
   "id": "c2fa46e1-3ade-4c34-9140-b790d7ee5176",
   "metadata": {},
   "outputs": [
    {
     "data": {
      "text/plain": [
       "3"
      ]
     },
     "execution_count": 36,
     "metadata": {},
     "output_type": "execute_result"
    }
   ],
   "source": [
    "name.count('a')\n",
    "name.lower().count('a')"
   ]
  },
  {
   "cell_type": "code",
   "execution_count": 37,
   "id": "78e420e9-9057-49b2-a657-a63bd096716a",
   "metadata": {},
   "outputs": [],
   "source": [
    "names = '      amar  akbar   anthony     '"
   ]
  },
  {
   "cell_type": "code",
   "execution_count": 38,
   "id": "898784b7-6f11-49bd-98cf-673a168d8127",
   "metadata": {},
   "outputs": [
    {
     "data": {
      "text/plain": [
       "False"
      ]
     },
     "execution_count": 38,
     "metadata": {},
     "output_type": "execute_result"
    }
   ],
   "source": [
    "names.startswith('am')"
   ]
  },
  {
   "cell_type": "code",
   "execution_count": 39,
   "id": "f88b5ad1-6e76-4499-a64c-093c2c853056",
   "metadata": {},
   "outputs": [
    {
     "data": {
      "text/plain": [
       "'amar  akbar   anthony'"
      ]
     },
     "execution_count": 39,
     "metadata": {},
     "output_type": "execute_result"
    }
   ],
   "source": [
    "names.strip()"
   ]
  },
  {
   "cell_type": "code",
   "execution_count": 40,
   "id": "6475c23a-e284-4080-b709-3a4cf1e51191",
   "metadata": {},
   "outputs": [
    {
     "data": {
      "text/plain": [
       "['amar', 'akbar', 'anthony']"
      ]
     },
     "execution_count": 40,
     "metadata": {},
     "output_type": "execute_result"
    }
   ],
   "source": [
    "names.split()"
   ]
  },
  {
   "cell_type": "code",
   "execution_count": 42,
   "id": "0eb908f9-cfc1-4625-b415-e1188859643b",
   "metadata": {},
   "outputs": [
    {
     "data": {
      "text/plain": [
       "['c:\\\\windows\\\\test\\\\newfile.txt']"
      ]
     },
     "execution_count": 42,
     "metadata": {},
     "output_type": "execute_result"
    }
   ],
   "source": [
    "winpath.split()"
   ]
  },
  {
   "cell_type": "code",
   "execution_count": 43,
   "id": "f6f1d8d3-8d92-4f84-85b0-f2d88c7db3d5",
   "metadata": {},
   "outputs": [
    {
     "data": {
      "text/plain": [
       "['c:', 'windows', 'test', 'newfile.txt']"
      ]
     },
     "execution_count": 43,
     "metadata": {},
     "output_type": "execute_result"
    }
   ],
   "source": [
    "winpath.split('\\\\')"
   ]
  },
  {
   "cell_type": "code",
   "execution_count": 45,
   "id": "f24afd0f-2fab-4bb5-b147-f2fa7c6d43cc",
   "metadata": {},
   "outputs": [
    {
     "data": {
      "text/plain": [
       "'abcAlexandardefAlexandarxyz'"
      ]
     },
     "execution_count": 45,
     "metadata": {},
     "output_type": "execute_result"
    }
   ],
   "source": [
    "name.join(['abc', 'def', 'xyz'])"
   ]
  },
  {
   "cell_type": "code",
   "execution_count": 46,
   "id": "7c4732d3-454e-451d-be00-0f387c2dafb5",
   "metadata": {},
   "outputs": [
    {
     "data": {
      "text/plain": [
       "'abc def xyz'"
      ]
     },
     "execution_count": 46,
     "metadata": {},
     "output_type": "execute_result"
    }
   ],
   "source": [
    "' '.join(['abc', 'def', 'xyz'])"
   ]
  },
  {
   "cell_type": "code",
   "execution_count": 47,
   "id": "eab730cc-5c6f-4f6c-8dc7-ad09f40c51cb",
   "metadata": {},
   "outputs": [],
   "source": [
    "first = 'mahender'\n",
    "middle = 'singh'\n",
    "last = 'dhoni'"
   ]
  },
  {
   "cell_type": "code",
   "execution_count": null,
   "id": "013fadd0-afad-47b4-9b44-a74a1af9f0aa",
   "metadata": {},
   "outputs": [],
   "source": [
    "'Mahender Singh Dhoni'"
   ]
  },
  {
   "cell_type": "code",
   "execution_count": 50,
   "id": "8a10531c-484b-4e90-beba-ea42e3b8d64e",
   "metadata": {},
   "outputs": [
    {
     "data": {
      "text/plain": [
       "'Mahender Singh Dhoni'"
      ]
     },
     "execution_count": 50,
     "metadata": {},
     "output_type": "execute_result"
    }
   ],
   "source": [
    "first.capitalize() + ' ' + middle.capitalize() + ' '+ last.capitalize()"
   ]
  },
  {
   "cell_type": "code",
   "execution_count": 54,
   "id": "16f07e4b-4d4b-4085-8c0a-22030c67405d",
   "metadata": {},
   "outputs": [
    {
     "data": {
      "text/plain": [
       "'Mahender Singh Dhoni'"
      ]
     },
     "execution_count": 54,
     "metadata": {},
     "output_type": "execute_result"
    }
   ],
   "source": [
    "' '.join([first.capitalize(), middle.capitalize(), last.capitalize()])"
   ]
  },
  {
   "cell_type": "code",
   "execution_count": 53,
   "id": "bffc44c0-9e04-4887-8e6e-37d5e6b2d3fa",
   "metadata": {},
   "outputs": [
    {
     "data": {
      "text/plain": [
       "'Mahender Singh Dhoni'"
      ]
     },
     "execution_count": 53,
     "metadata": {},
     "output_type": "execute_result"
    }
   ],
   "source": [
    "' '.join([first, middle, last]).title()"
   ]
  },
  {
   "cell_type": "code",
   "execution_count": 51,
   "id": "71f94a96-bcd8-4bfe-847e-f9f98d24bbe1",
   "metadata": {},
   "outputs": [
    {
     "data": {
      "text/plain": [
       "'Abc Def Xyz'"
      ]
     },
     "execution_count": 51,
     "metadata": {},
     "output_type": "execute_result"
    }
   ],
   "source": [
    "'abc def xyz'.title()"
   ]
  },
  {
   "cell_type": "code",
   "execution_count": null,
   "id": "8faab384-8aab-410f-9311-c14f554e3875",
   "metadata": {},
   "outputs": [],
   "source": [
    "'M.S.Dhoni'"
   ]
  },
  {
   "cell_type": "code",
   "execution_count": 55,
   "id": "bc6750a4-655a-4d51-980a-484aecc69964",
   "metadata": {},
   "outputs": [],
   "source": [
    "full = ' '.join([first, middle, last]).title()"
   ]
  },
  {
   "cell_type": "code",
   "execution_count": 56,
   "id": "c4731e11-8149-453d-8a82-6f453528e309",
   "metadata": {},
   "outputs": [
    {
     "data": {
      "text/plain": [
       "['Mahender', 'Singh', 'Dhoni']"
      ]
     },
     "execution_count": 56,
     "metadata": {},
     "output_type": "execute_result"
    }
   ],
   "source": [
    "full.split()"
   ]
  },
  {
   "cell_type": "code",
   "execution_count": 60,
   "id": "8a4a5d27-f4a9-43e4-8d1b-03c5c2e34265",
   "metadata": {},
   "outputs": [],
   "source": [
    "x = 10\n",
    "y = 20\n",
    "x, y = 10, 20      # parallel/tuple assignment\n",
    "x, y = [10, 20]"
   ]
  },
  {
   "cell_type": "code",
   "execution_count": 61,
   "id": "b6804d6c-2e23-44fc-9c2a-8a173545fbc3",
   "metadata": {},
   "outputs": [],
   "source": [
    "f, m, l = full.split()"
   ]
  },
  {
   "cell_type": "code",
   "execution_count": 62,
   "id": "a210696c-4177-4c70-bbe7-19dd73426634",
   "metadata": {},
   "outputs": [
    {
     "data": {
      "text/plain": [
       "'M.S.Dhoni'"
      ]
     },
     "execution_count": 62,
     "metadata": {},
     "output_type": "execute_result"
    }
   ],
   "source": [
    "'.'.join([f[0], m[0], l])"
   ]
  },
  {
   "cell_type": "code",
   "execution_count": 63,
   "id": "8290fb0c-1e44-42e1-96d9-baf557e3c54b",
   "metadata": {},
   "outputs": [
    {
     "data": {
      "text/plain": [
       "'M.S'"
      ]
     },
     "execution_count": 63,
     "metadata": {},
     "output_type": "execute_result"
    }
   ],
   "source": [
    "first.capitalize()[0] + '.' + middle.capitalize()[0]"
   ]
  },
  {
   "cell_type": "markdown",
   "id": "ae4c2df9-2252-4f47-aa42-fb2876d6b8de",
   "metadata": {},
   "source": [
    "## Dictionaries\n",
    "\n",
    "    Lookup\n",
    "    Key-value store\n",
    "    Association"
   ]
  },
  {
   "cell_type": "code",
   "execution_count": 64,
   "id": "943f1c66-cae4-4342-8635-af4084f81129",
   "metadata": {},
   "outputs": [],
   "source": [
    "prices = [12.34, 123.45, 1.25]\n",
    "items  = ['biscuit', 'chocolate', 'toffee']"
   ]
  },
  {
   "cell_type": "code",
   "execution_count": 76,
   "id": "d3e0a473-0d13-40d7-8b6e-a3a294256b24",
   "metadata": {},
   "outputs": [
    {
     "name": "stdin",
     "output_type": "stream",
     "text": [
      "Enter item coffee\n"
     ]
    }
   ],
   "source": [
    "item = input('Enter item')\n",
    "item = item.strip()"
   ]
  },
  {
   "cell_type": "code",
   "execution_count": 77,
   "id": "716ab8f5-25d2-4fd9-b43a-3f9f3940e030",
   "metadata": {},
   "outputs": [
    {
     "name": "stdout",
     "output_type": "stream",
     "text": [
      "coffee not present\n",
      "Done\n"
     ]
    }
   ],
   "source": [
    "if item in items:\n",
    "    idx = items.index(item)\n",
    "    print(prices[idx])\n",
    "else:\n",
    "    print(item, 'not present')\n",
    "\n",
    "print('Done')"
   ]
  },
  {
   "cell_type": "code",
   "execution_count": 78,
   "id": "ecfc6fc4-f46e-481d-a8f3-ec054951c2be",
   "metadata": {},
   "outputs": [],
   "source": [
    "item_prices = {'biscuit': 12.34, 'chocolate': 123.45, 'toffee': 1.25}\n",
    "\n",
    "squares = {1: 1, 2: 4, 3: 9, 4: 16}"
   ]
  },
  {
   "cell_type": "code",
   "execution_count": 79,
   "id": "0fe019cc-6eed-4bee-8e90-99005e9772f5",
   "metadata": {},
   "outputs": [
    {
     "data": {
      "text/plain": [
       "dict"
      ]
     },
     "execution_count": 79,
     "metadata": {},
     "output_type": "execute_result"
    }
   ],
   "source": [
    "type(squares)"
   ]
  },
  {
   "cell_type": "code",
   "execution_count": 80,
   "id": "611146d1-3274-47bc-be72-10603854da10",
   "metadata": {},
   "outputs": [
    {
     "data": {
      "text/plain": [
       "16"
      ]
     },
     "execution_count": 80,
     "metadata": {},
     "output_type": "execute_result"
    }
   ],
   "source": [
    "squares[4]"
   ]
  },
  {
   "cell_type": "code",
   "execution_count": 81,
   "id": "14356362-5001-4642-869f-3da429a4d1fa",
   "metadata": {},
   "outputs": [
    {
     "data": {
      "text/plain": [
       "1.25"
      ]
     },
     "execution_count": 81,
     "metadata": {},
     "output_type": "execute_result"
    }
   ],
   "source": [
    "item_prices['toffee']"
   ]
  },
  {
   "cell_type": "code",
   "execution_count": 82,
   "id": "187b7a26-8a3c-4524-bb7f-478db7b9c857",
   "metadata": {},
   "outputs": [
    {
     "ename": "KeyError",
     "evalue": "'coffee'",
     "output_type": "error",
     "traceback": [
      "\u001b[0;31m---------------------------------------------------------------------------\u001b[0m",
      "\u001b[0;31mKeyError\u001b[0m                                  Traceback (most recent call last)",
      "Cell \u001b[0;32mIn[82], line 1\u001b[0m\n\u001b[0;32m----> 1\u001b[0m item_prices[\u001b[38;5;124m'\u001b[39m\u001b[38;5;124mcoffee\u001b[39m\u001b[38;5;124m'\u001b[39m]\n",
      "\u001b[0;31mKeyError\u001b[0m: 'coffee'"
     ]
    }
   ],
   "source": [
    "item_prices['coffee']"
   ]
  },
  {
   "cell_type": "code",
   "execution_count": 86,
   "id": "a990d86e-f2b6-4a7d-b5e7-3137e1bd321c",
   "metadata": {},
   "outputs": [],
   "source": [
    "price_items = {1.25: 'toffee', 12.34: 'biscuit', 1.25: 'candy'}"
   ]
  },
  {
   "cell_type": "code",
   "execution_count": 87,
   "id": "e8f8bc4e-31f6-44db-9032-0423d8148550",
   "metadata": {},
   "outputs": [
    {
     "data": {
      "text/plain": [
       "'candy'"
      ]
     },
     "execution_count": 87,
     "metadata": {},
     "output_type": "execute_result"
    }
   ],
   "source": [
    "price_items[1.25]"
   ]
  },
  {
   "cell_type": "code",
   "execution_count": 88,
   "id": "6e73f0fc-6995-4296-8ebd-5fbb810f9f32",
   "metadata": {},
   "outputs": [
    {
     "data": {
      "text/plain": [
       "{1.25: 'candy', 12.34: 'biscuit'}"
      ]
     },
     "execution_count": 88,
     "metadata": {},
     "output_type": "execute_result"
    }
   ],
   "source": [
    "price_items"
   ]
  },
  {
   "cell_type": "code",
   "execution_count": 89,
   "id": "40fd7ff2-bd05-4c85-a09b-52a5b53f8867",
   "metadata": {},
   "outputs": [
    {
     "data": {
      "text/plain": [
       "2"
      ]
     },
     "execution_count": 89,
     "metadata": {},
     "output_type": "execute_result"
    }
   ],
   "source": [
    "len(price_items)"
   ]
  },
  {
   "cell_type": "code",
   "execution_count": 90,
   "id": "eff725ca-31d5-4420-a0be-61470b382a6c",
   "metadata": {},
   "outputs": [
    {
     "data": {
      "text/plain": [
       "9"
      ]
     },
     "execution_count": 90,
     "metadata": {},
     "output_type": "execute_result"
    }
   ],
   "source": [
    "len(name)"
   ]
  },
  {
   "cell_type": "code",
   "execution_count": 91,
   "id": "096534ac-87bc-4458-bdb1-d7c0a95f407a",
   "metadata": {},
   "outputs": [
    {
     "data": {
      "text/plain": [
       "{'biscuit': 12.34, 'chocolate': 123.45, 'toffee': 1.25, 'candy': 11.11}"
      ]
     },
     "execution_count": 91,
     "metadata": {},
     "output_type": "execute_result"
    }
   ],
   "source": [
    "item_prices['candy'] = 11.11\n",
    "item_prices"
   ]
  },
  {
   "cell_type": "code",
   "execution_count": 92,
   "id": "3842c0f0-d264-43ee-8688-05768586dc64",
   "metadata": {},
   "outputs": [],
   "source": [
    "item_prices['chocolate'] += 10"
   ]
  },
  {
   "cell_type": "code",
   "execution_count": 93,
   "id": "f4eec443-f0cc-4fc6-8ef4-ceea3dbe6fc6",
   "metadata": {},
   "outputs": [
    {
     "data": {
      "text/plain": [
       "dict_keys(['biscuit', 'chocolate', 'toffee', 'candy'])"
      ]
     },
     "execution_count": 93,
     "metadata": {},
     "output_type": "execute_result"
    }
   ],
   "source": [
    "item_prices.keys()"
   ]
  },
  {
   "cell_type": "code",
   "execution_count": 94,
   "id": "75a4ca1e-ee60-4688-891f-64a99f6a2384",
   "metadata": {},
   "outputs": [
    {
     "data": {
      "text/plain": [
       "dict_values([12.34, 133.45, 1.25, 11.11])"
      ]
     },
     "execution_count": 94,
     "metadata": {},
     "output_type": "execute_result"
    }
   ],
   "source": [
    "item_prices.values()"
   ]
  },
  {
   "cell_type": "code",
   "execution_count": 95,
   "id": "d95c7c97-a7ef-4e13-98d1-412646eb7836",
   "metadata": {},
   "outputs": [
    {
     "data": {
      "text/plain": [
       "dict_items([('biscuit', 12.34), ('chocolate', 133.45), ('toffee', 1.25), ('candy', 11.11)])"
      ]
     },
     "execution_count": 95,
     "metadata": {},
     "output_type": "execute_result"
    }
   ],
   "source": [
    "item_prices.items()"
   ]
  },
  {
   "cell_type": "code",
   "execution_count": null,
   "id": "87ec78a4-ac0b-4576-b2d2-20a070948c5b",
   "metadata": {},
   "outputs": [],
   "source": [
    "item_prices.get("
   ]
  },
  {
   "cell_type": "code",
   "execution_count": 98,
   "id": "f5029810-e577-4fe1-aeaa-2a670e8eb59b",
   "metadata": {},
   "outputs": [
    {
     "data": {
      "text/plain": [
       "1.25"
      ]
     },
     "execution_count": 98,
     "metadata": {},
     "output_type": "execute_result"
    }
   ],
   "source": [
    "item_prices['toffee']"
   ]
  },
  {
   "cell_type": "code",
   "execution_count": 99,
   "id": "1491751f-3cb6-4236-806d-74fbb43a6794",
   "metadata": {},
   "outputs": [
    {
     "ename": "KeyError",
     "evalue": "'coffee'",
     "output_type": "error",
     "traceback": [
      "\u001b[0;31m---------------------------------------------------------------------------\u001b[0m",
      "\u001b[0;31mKeyError\u001b[0m                                  Traceback (most recent call last)",
      "Cell \u001b[0;32mIn[99], line 1\u001b[0m\n\u001b[0;32m----> 1\u001b[0m item_prices[\u001b[38;5;124m'\u001b[39m\u001b[38;5;124mcoffee\u001b[39m\u001b[38;5;124m'\u001b[39m]\n",
      "\u001b[0;31mKeyError\u001b[0m: 'coffee'"
     ]
    }
   ],
   "source": [
    "item_prices['coffee']"
   ]
  },
  {
   "cell_type": "code",
   "execution_count": 103,
   "id": "f3cd90b4-db80-427b-a0da-412820842e76",
   "metadata": {},
   "outputs": [
    {
     "data": {
      "text/plain": [
       "'not found'"
      ]
     },
     "execution_count": 103,
     "metadata": {},
     "output_type": "execute_result"
    }
   ],
   "source": [
    "item_prices.get('coffee', 'not found')"
   ]
  },
  {
   "cell_type": "code",
   "execution_count": 106,
   "id": "1c53aa1f-5ed2-417d-92af-c9a8dd30185e",
   "metadata": {},
   "outputs": [],
   "source": [
    "item_prices.update({'coffee': 225, 'scotch': 2255, 'chocolate': 100})"
   ]
  },
  {
   "cell_type": "code",
   "execution_count": 107,
   "id": "885c242b-d94a-4cd2-bb18-0529c9e330aa",
   "metadata": {},
   "outputs": [
    {
     "data": {
      "text/plain": [
       "{'biscuit': 12.34,\n",
       " 'chocolate': 100,\n",
       " 'toffee': 1.25,\n",
       " 'candy': 11.11,\n",
       " 'coffee': 225,\n",
       " 'scotch': 2255}"
      ]
     },
     "execution_count": 107,
     "metadata": {},
     "output_type": "execute_result"
    }
   ],
   "source": [
    "item_prices"
   ]
  },
  {
   "cell_type": "markdown",
   "id": "5c00201f-65f8-4169-9f79-a7b97cb01989",
   "metadata": {},
   "source": [
    "## Looping"
   ]
  },
  {
   "cell_type": "code",
   "execution_count": 108,
   "id": "f6c9d144-f100-4973-889b-3f3f8460a0c2",
   "metadata": {},
   "outputs": [],
   "source": [
    "nums = list(range(10,20,2))"
   ]
  },
  {
   "cell_type": "code",
   "execution_count": 110,
   "id": "ba55b4bf-220b-46a8-80f8-13987eb988c8",
   "metadata": {},
   "outputs": [
    {
     "name": "stdout",
     "output_type": "stream",
     "text": [
      "10\n",
      "100\n",
      "12\n",
      "144\n",
      "14\n",
      "196\n",
      "16\n",
      "256\n",
      "18\n",
      "324\n"
     ]
    }
   ],
   "source": [
    "# foreach \n",
    "for num in nums:\n",
    "    print(num)\n",
    "    print(num**2)"
   ]
  },
  {
   "cell_type": "markdown",
   "id": "fcb3d442-e2f8-4d17-a819-b03955502767",
   "metadata": {},
   "source": [
    "Indexed for loop not present in python\n",
    "\n",
    "    for (i=0; i<10; i++) {\n",
    "        arr[i]"
   ]
  },
  {
   "cell_type": "code",
   "execution_count": 112,
   "id": "ba89b199-722a-4da5-8d0e-7b32c68c13ad",
   "metadata": {},
   "outputs": [
    {
     "data": {
      "text/plain": [
       "'Alexandar'"
      ]
     },
     "execution_count": 112,
     "metadata": {},
     "output_type": "execute_result"
    }
   ],
   "source": [
    "name"
   ]
  },
  {
   "cell_type": "code",
   "execution_count": 113,
   "id": "530c6253-227c-4446-9082-41de2bedfb02",
   "metadata": {},
   "outputs": [
    {
     "name": "stdout",
     "output_type": "stream",
     "text": [
      "A\n",
      "l\n",
      "e\n",
      "x\n",
      "a\n",
      "n\n",
      "d\n",
      "a\n",
      "r\n"
     ]
    }
   ],
   "source": [
    "for char in name:\n",
    "    print(char)"
   ]
  },
  {
   "cell_type": "code",
   "execution_count": 114,
   "id": "4ced9f70-2aff-4bd1-8638-35b772229e58",
   "metadata": {},
   "outputs": [
    {
     "name": "stdout",
     "output_type": "stream",
     "text": [
      "biscuit\n",
      "chocolate\n",
      "toffee\n",
      "candy\n",
      "coffee\n",
      "scotch\n"
     ]
    }
   ],
   "source": [
    "for key in item_prices.keys():\n",
    "    print(key)"
   ]
  },
  {
   "cell_type": "code",
   "execution_count": 117,
   "id": "e011b1e1-c9e4-43f2-aa56-07b85b9cbe64",
   "metadata": {},
   "outputs": [
    {
     "name": "stdout",
     "output_type": "stream",
     "text": [
      "biscuit 12.34\n",
      "chocolate 100\n",
      "toffee 1.25\n",
      "candy 11.11\n",
      "coffee 225\n",
      "scotch 2255\n"
     ]
    }
   ],
   "source": [
    "for key, value in item_prices.items():\n",
    "    print(key, value)"
   ]
  },
  {
   "cell_type": "code",
   "execution_count": 118,
   "id": "0022e600-3c1d-4405-961e-f217224fb189",
   "metadata": {},
   "outputs": [
    {
     "data": {
      "text/plain": [
       "['biscuit', 'chocolate', 'toffee']"
      ]
     },
     "execution_count": 118,
     "metadata": {},
     "output_type": "execute_result"
    }
   ],
   "source": [
    "items"
   ]
  },
  {
   "cell_type": "code",
   "execution_count": 119,
   "id": "8ed6ac0c-e1d2-40ad-b8d1-3f28fa85453f",
   "metadata": {},
   "outputs": [
    {
     "data": {
      "text/plain": [
       "[12.34, 123.45, 1.25]"
      ]
     },
     "execution_count": 119,
     "metadata": {},
     "output_type": "execute_result"
    }
   ],
   "source": [
    "prices"
   ]
  },
  {
   "cell_type": "code",
   "execution_count": 120,
   "id": "a3536fdb-9183-4dbb-9e84-3eea3c608121",
   "metadata": {},
   "outputs": [
    {
     "ename": "SyntaxError",
     "evalue": "incomplete input (2096998314.py, line 1)",
     "output_type": "error",
     "traceback": [
      "\u001b[0;36m  Cell \u001b[0;32mIn[120], line 1\u001b[0;36m\u001b[0m\n\u001b[0;31m    for item, price in items, prices:\u001b[0m\n\u001b[0m                                     ^\u001b[0m\n\u001b[0;31mSyntaxError\u001b[0m\u001b[0;31m:\u001b[0m incomplete input\n"
     ]
    }
   ],
   "source": [
    "for item, price in items + prices:"
   ]
  },
  {
   "cell_type": "code",
   "execution_count": 122,
   "id": "eb9fe33a-f81a-498e-84f4-48b6a2e7861a",
   "metadata": {},
   "outputs": [
    {
     "data": {
      "text/plain": [
       "[('biscuit', 12.34), ('chocolate', 123.45), ('toffee', 1.25)]"
      ]
     },
     "execution_count": 122,
     "metadata": {},
     "output_type": "execute_result"
    }
   ],
   "source": [
    "list(zip(items, prices))"
   ]
  },
  {
   "cell_type": "code",
   "execution_count": 125,
   "id": "574f89e6-0640-4827-a1ea-e6ab0abdaaab",
   "metadata": {},
   "outputs": [
    {
     "name": "stdout",
     "output_type": "stream",
     "text": [
      "biscuit 12.34\n",
      "chocolate 123.45\n",
      "toffee 1.25\n"
     ]
    }
   ],
   "source": [
    "for item, price in zip(items, prices):\n",
    "    print(item, price)"
   ]
  },
  {
   "cell_type": "code",
   "execution_count": 126,
   "id": "fdad70db-5b78-4090-b30f-6f6c416a12ef",
   "metadata": {},
   "outputs": [],
   "source": [
    "iprices = {}\n",
    "for item, price in zip(items, prices):\n",
    "    iprices[item] = price"
   ]
  },
  {
   "cell_type": "code",
   "execution_count": 127,
   "id": "a82677a4-b8f6-4f20-be7f-809453cdce56",
   "metadata": {},
   "outputs": [
    {
     "data": {
      "text/plain": [
       "{'biscuit': 12.34, 'chocolate': 123.45, 'toffee': 1.25}"
      ]
     },
     "execution_count": 127,
     "metadata": {},
     "output_type": "execute_result"
    }
   ],
   "source": [
    "iprices"
   ]
  },
  {
   "cell_type": "code",
   "execution_count": 131,
   "id": "d0e72ecc-0423-4666-bb52-d54da9e20011",
   "metadata": {},
   "outputs": [
    {
     "data": {
      "text/plain": [
       "{'biscuit': 12.34, 'chocolate': 123.45, 'toffee': 1.25}"
      ]
     },
     "execution_count": 131,
     "metadata": {},
     "output_type": "execute_result"
    }
   ],
   "source": [
    "dict(zip(items, prices))"
   ]
  },
  {
   "cell_type": "code",
   "execution_count": 128,
   "id": "36df7f4c-54c4-49f2-83e2-d553575a4017",
   "metadata": {},
   "outputs": [
    {
     "data": {
      "text/plain": [
       "{}"
      ]
     },
     "execution_count": 128,
     "metadata": {},
     "output_type": "execute_result"
    }
   ],
   "source": [
    "dict()"
   ]
  },
  {
   "cell_type": "code",
   "execution_count": 129,
   "id": "1f22db54-727c-4827-9ea2-08a6d9edf4b2",
   "metadata": {},
   "outputs": [
    {
     "data": {
      "text/plain": [
       "[]"
      ]
     },
     "execution_count": 129,
     "metadata": {},
     "output_type": "execute_result"
    }
   ],
   "source": [
    "list()"
   ]
  },
  {
   "cell_type": "code",
   "execution_count": 130,
   "id": "ae54f8fe-4b90-49c5-8737-3363ef8a5662",
   "metadata": {},
   "outputs": [
    {
     "data": {
      "text/plain": [
       "0"
      ]
     },
     "execution_count": 130,
     "metadata": {},
     "output_type": "execute_result"
    }
   ],
   "source": [
    "int()"
   ]
  },
  {
   "cell_type": "markdown",
   "id": "55c9828b-c673-4206-91e8-e8ffdb0e0f40",
   "metadata": {},
   "source": [
    "## Exercises\n",
    "\n",
    "1. squares dict for number 1 to 10\n",
    "2. 'the quick brown fox jumps over the lazy dog' : dict of word -> len of word\n",
    "    {'the': 3, 'quick': 5, ...}\n",
    "3. piggybank = [2, 1, 2, 1, 5, 5, 10, 2, 1, 5, 1]\n",
    "   {1: 5, 2: 3, 5: 2, 10: 1}\n",
    "   - sort, ...\n",
    "   - unique, list.count"
   ]
  },
  {
   "cell_type": "code",
   "execution_count": 135,
   "id": "5112d205-72ac-4cb1-aefe-59596aa1f1ee",
   "metadata": {},
   "outputs": [],
   "source": [
    "squares = dict()\n",
    "\n",
    "for num in range(1, 11):\n",
    "    # key = num\n",
    "    # val = num**2\n",
    "    # squares[key] = val\n",
    "    squares[num] = num**2"
   ]
  },
  {
   "cell_type": "code",
   "execution_count": 136,
   "id": "c3098cdc-c479-4372-bb0b-2ec5a6a0f490",
   "metadata": {},
   "outputs": [
    {
     "data": {
      "text/plain": [
       "{1: 1, 2: 4, 3: 9, 4: 16, 5: 25, 6: 36, 7: 49, 8: 64, 9: 81, 10: 100}"
      ]
     },
     "execution_count": 136,
     "metadata": {},
     "output_type": "execute_result"
    }
   ],
   "source": [
    "squares"
   ]
  },
  {
   "cell_type": "code",
   "execution_count": null,
   "id": "f2c827b4-ee3c-4944-8db1-03dc4e2b3307",
   "metadata": {},
   "outputs": [],
   "source": [
    "{1: 1, 2: 4, 3: 9, ... 10: 100}"
   ]
  },
  {
   "cell_type": "code",
   "execution_count": 137,
   "id": "317b776d-32b4-404f-b432-3382cd386345",
   "metadata": {},
   "outputs": [],
   "source": [
    "sentence = 'the quick brown fox jumps over the lazy dog'"
   ]
  },
  {
   "cell_type": "code",
   "execution_count": 138,
   "id": "7fe8af68-1c3e-419f-9384-fc822d7fa0c5",
   "metadata": {},
   "outputs": [
    {
     "data": {
      "text/plain": [
       "['the', 'quick', 'brown', 'fox', 'jumps', 'over', 'the', 'lazy', 'dog']"
      ]
     },
     "execution_count": 138,
     "metadata": {},
     "output_type": "execute_result"
    }
   ],
   "source": [
    "sentence.split()"
   ]
  },
  {
   "cell_type": "code",
   "execution_count": 140,
   "id": "0653d507-9b7c-4e35-9d79-832f9f7a573c",
   "metadata": {},
   "outputs": [],
   "source": [
    "word_lengths = {}\n",
    "\n",
    "for word in sentence.split():\n",
    "    word_lengths[word] = len(word)"
   ]
  },
  {
   "cell_type": "code",
   "execution_count": 141,
   "id": "ecf118d4-642c-458b-8437-0d66fabb71da",
   "metadata": {},
   "outputs": [
    {
     "data": {
      "text/plain": [
       "{'the': 3,\n",
       " 'quick': 5,\n",
       " 'brown': 5,\n",
       " 'fox': 3,\n",
       " 'jumps': 5,\n",
       " 'over': 4,\n",
       " 'lazy': 4,\n",
       " 'dog': 3}"
      ]
     },
     "execution_count": 141,
     "metadata": {},
     "output_type": "execute_result"
    }
   ],
   "source": [
    "word_lengths"
   ]
  },
  {
   "cell_type": "code",
   "execution_count": 139,
   "id": "a7724cde-fe07-418c-8618-bcdc3d01c521",
   "metadata": {},
   "outputs": [
    {
     "data": {
      "text/plain": [
       "3"
      ]
     },
     "execution_count": 139,
     "metadata": {},
     "output_type": "execute_result"
    }
   ],
   "source": [
    "word = 'the'\n",
    "len(word)"
   ]
  },
  {
   "cell_type": "code",
   "execution_count": 142,
   "id": "a91ba402-a49e-4a41-9829-199cd33e0cb8",
   "metadata": {},
   "outputs": [
    {
     "data": {
      "text/plain": [
       "9"
      ]
     },
     "execution_count": 142,
     "metadata": {},
     "output_type": "execute_result"
    }
   ],
   "source": [
    "len(sentence.split())"
   ]
  },
  {
   "cell_type": "code",
   "execution_count": 143,
   "id": "0a202f8b-4305-43d2-a0f2-7400619599ea",
   "metadata": {},
   "outputs": [
    {
     "data": {
      "text/plain": [
       "8"
      ]
     },
     "execution_count": 143,
     "metadata": {},
     "output_type": "execute_result"
    }
   ],
   "source": [
    "len(word_lengths)"
   ]
  },
  {
   "cell_type": "code",
   "execution_count": 144,
   "id": "5c7aaaff-1933-4b4d-a409-c9e58972c6c0",
   "metadata": {},
   "outputs": [
    {
     "data": {
      "text/plain": [
       "'the quick brown fox jumps over the lazy dog'"
      ]
     },
     "execution_count": 144,
     "metadata": {},
     "output_type": "execute_result"
    }
   ],
   "source": [
    "sentence"
   ]
  },
  {
   "cell_type": "code",
   "execution_count": null,
   "id": "ddbf4b68-d401-4a17-95f0-a8966e8952f5",
   "metadata": {},
   "outputs": [],
   "source": [
    "{3: 'dog', .."
   ]
  },
  {
   "cell_type": "code",
   "execution_count": 147,
   "id": "97540818-8152-46d9-ae1e-3b79d343cf5c",
   "metadata": {},
   "outputs": [
    {
     "data": {
      "text/plain": [
       "{3: [1, 2, 3]}"
      ]
     },
     "execution_count": 147,
     "metadata": {},
     "output_type": "execute_result"
    }
   ],
   "source": [
    "test_dict = {3: [1,2,3]}\n",
    "test_dict"
   ]
  },
  {
   "cell_type": "code",
   "execution_count": 149,
   "id": "8f92ffce-7304-4be8-80a9-a8581f7308b6",
   "metadata": {},
   "outputs": [
    {
     "data": {
      "text/plain": [
       "3"
      ]
     },
     "execution_count": 149,
     "metadata": {},
     "output_type": "execute_result"
    }
   ],
   "source": [
    "test_dict[3][-1]"
   ]
  },
  {
   "cell_type": "code",
   "execution_count": 150,
   "id": "1127309e-bc90-4857-950d-2601f46104c3",
   "metadata": {},
   "outputs": [
    {
     "data": {
      "text/plain": [
       "{3: ['the', 'fox', 'dog']}"
      ]
     },
     "execution_count": 150,
     "metadata": {},
     "output_type": "execute_result"
    }
   ],
   "source": [
    "test_dict = {3: ['the', 'fox', 'dog']}\n",
    "test_dict"
   ]
  },
  {
   "cell_type": "code",
   "execution_count": 151,
   "id": "1598bb0a-7601-4f83-b251-4c38669ba804",
   "metadata": {},
   "outputs": [
    {
     "data": {
      "text/plain": [
       "'dog'"
      ]
     },
     "execution_count": 151,
     "metadata": {},
     "output_type": "execute_result"
    }
   ],
   "source": [
    "test_dict[3][-1]"
   ]
  },
  {
   "cell_type": "code",
   "execution_count": 152,
   "id": "ef1cbcdc-66cc-4b55-86a3-03e9eb63ec22",
   "metadata": {},
   "outputs": [
    {
     "data": {
      "text/plain": [
       "'the'"
      ]
     },
     "execution_count": 152,
     "metadata": {},
     "output_type": "execute_result"
    }
   ],
   "source": [
    "test_dict[3][0]"
   ]
  },
  {
   "cell_type": "code",
   "execution_count": 153,
   "id": "323ba7ff-3b33-40c0-97be-1c6e4bf00add",
   "metadata": {},
   "outputs": [],
   "source": [
    "piggybank = [2, 1, 2, 1, 5, 5, 10, 2, 1, 5, 1]"
   ]
  },
  {
   "cell_type": "code",
   "execution_count": 154,
   "id": "528095ae-b175-409f-bfe0-10efef9f4ec4",
   "metadata": {},
   "outputs": [
    {
     "data": {
      "text/plain": [
       "4"
      ]
     },
     "execution_count": 154,
     "metadata": {},
     "output_type": "execute_result"
    }
   ],
   "source": [
    "piggybank.count(1)"
   ]
  },
  {
   "cell_type": "code",
   "execution_count": 155,
   "id": "edc17661-551b-4219-9d69-fa8ff4985737",
   "metadata": {},
   "outputs": [
    {
     "data": {
      "text/plain": [
       "(1, 2, 3)"
      ]
     },
     "execution_count": 155,
     "metadata": {},
     "output_type": "execute_result"
    }
   ],
   "source": [
    "t"
   ]
  },
  {
   "cell_type": "code",
   "execution_count": 156,
   "id": "1483badd-c412-4ea7-8b4c-e6dcde143b14",
   "metadata": {},
   "outputs": [
    {
     "data": {
      "text/plain": [
       "tuple"
      ]
     },
     "execution_count": 156,
     "metadata": {},
     "output_type": "execute_result"
    }
   ],
   "source": [
    "type(t)"
   ]
  },
  {
   "cell_type": "code",
   "execution_count": null,
   "id": "d93b1e19-0a08-4fcb-b5bd-3ad2dca513f6",
   "metadata": {},
   "outputs": [],
   "source": [
    "t."
   ]
  },
  {
   "cell_type": "code",
   "execution_count": null,
   "id": "c457a213-8c71-423b-a09d-eed74c8b2eac",
   "metadata": {},
   "outputs": [],
   "source": []
  },
  {
   "cell_type": "code",
   "execution_count": null,
   "id": "de3fb2fa-7ab3-462a-8f29-e80131b61129",
   "metadata": {},
   "outputs": [],
   "source": [
    "list."
   ]
  },
  {
   "cell_type": "code",
   "execution_count": null,
   "id": "15773844-e743-4a59-aada-8884cf52e105",
   "metadata": {},
   "outputs": [],
   "source": [
    "govt_records = {\n",
    "    ('ajay gupta', 'shambhu gupta', '), : [],\n",
    "    ('ajay gupta', 'shambhu gupta'): "
   ]
  },
  {
   "cell_type": "code",
   "execution_count": 158,
   "id": "d7d65368-b05f-4752-9e34-212ba9c7747a",
   "metadata": {},
   "outputs": [],
   "source": [
    "d = {}\n",
    "\n",
    "d['abc'] = 123"
   ]
  },
  {
   "cell_type": "code",
   "execution_count": 159,
   "id": "6463f4aa-24d0-4601-9992-2cd9a1793942",
   "metadata": {},
   "outputs": [
    {
     "ename": "TypeError",
     "evalue": "unhashable type: 'list'",
     "output_type": "error",
     "traceback": [
      "\u001b[0;31m---------------------------------------------------------------------------\u001b[0m",
      "\u001b[0;31mTypeError\u001b[0m                                 Traceback (most recent call last)",
      "Cell \u001b[0;32mIn[159], line 1\u001b[0m\n\u001b[0;32m----> 1\u001b[0m d[[\u001b[38;5;124m'\u001b[39m\u001b[38;5;124mabc\u001b[39m\u001b[38;5;124m'\u001b[39m, \u001b[38;5;124m'\u001b[39m\u001b[38;5;124mpqr\u001b[39m\u001b[38;5;124m'\u001b[39m]] \u001b[38;5;241m=\u001b[39m \u001b[38;5;241m111\u001b[39m\n",
      "\u001b[0;31mTypeError\u001b[0m: unhashable type: 'list'"
     ]
    }
   ],
   "source": [
    "d[['abc', 'pqr']] = 111"
   ]
  },
  {
   "cell_type": "code",
   "execution_count": 160,
   "id": "05ac8c04-9300-4885-95be-f925498007e7",
   "metadata": {},
   "outputs": [],
   "source": [
    "d[('abc', 'pqr')] = 111"
   ]
  },
  {
   "cell_type": "code",
   "execution_count": 163,
   "id": "ab8af6de-c762-4660-bfaf-8becd91e09c1",
   "metadata": {},
   "outputs": [],
   "source": [
    "nums = {1, 2, 3, 3, 2, 1}"
   ]
  },
  {
   "cell_type": "code",
   "execution_count": 164,
   "id": "1967a392-774d-4b80-8618-b5990bcb81d0",
   "metadata": {},
   "outputs": [
    {
     "data": {
      "text/plain": [
       "set"
      ]
     },
     "execution_count": 164,
     "metadata": {},
     "output_type": "execute_result"
    }
   ],
   "source": [
    "type(nums)"
   ]
  },
  {
   "cell_type": "code",
   "execution_count": 165,
   "id": "b51e6125-4c68-4f08-b92d-3b9253ae37c2",
   "metadata": {},
   "outputs": [
    {
     "data": {
      "text/plain": [
       "3"
      ]
     },
     "execution_count": 165,
     "metadata": {},
     "output_type": "execute_result"
    }
   ],
   "source": [
    "len(nums)"
   ]
  },
  {
   "cell_type": "code",
   "execution_count": 166,
   "id": "66e83513-993f-4474-b33a-ab7773b9b8dd",
   "metadata": {},
   "outputs": [
    {
     "data": {
      "text/plain": [
       "{1, 2, 3}"
      ]
     },
     "execution_count": 166,
     "metadata": {},
     "output_type": "execute_result"
    }
   ],
   "source": [
    "nums"
   ]
  },
  {
   "cell_type": "code",
   "execution_count": 167,
   "id": "f5608092-c1b7-48c0-80b8-1e4d0faeca21",
   "metadata": {},
   "outputs": [
    {
     "data": {
      "text/plain": [
       "{1, 2, 5, 10}"
      ]
     },
     "execution_count": 167,
     "metadata": {},
     "output_type": "execute_result"
    }
   ],
   "source": [
    "set(piggybank)"
   ]
  },
  {
   "cell_type": "code",
   "execution_count": 168,
   "id": "56a16012-8a87-4973-9624-ed8f24dfda4c",
   "metadata": {},
   "outputs": [
    {
     "name": "stdout",
     "output_type": "stream",
     "text": [
      "1\n",
      "2\n",
      "10\n",
      "5\n"
     ]
    }
   ],
   "source": [
    "for coin in set(piggybank):\n",
    "    print(coin)"
   ]
  },
  {
   "cell_type": "code",
   "execution_count": null,
   "id": "941b5447-5399-4e54-a4b5-cef9977066af",
   "metadata": {},
   "outputs": [],
   "source": [
    "set."
   ]
  },
  {
   "cell_type": "markdown",
   "id": "1b2feb7b-531c-4b8b-b344-0210fbf2bbc1",
   "metadata": {},
   "source": [
    "# https://github.com/py-train/npci"
   ]
  },
  {
   "cell_type": "code",
   "execution_count": null,
   "id": "bc03e684-8fef-476f-a0ad-060001840d64",
   "metadata": {},
   "outputs": [],
   "source": []
  },
  {
   "cell_type": "code",
   "execution_count": null,
   "id": "97257b95-0405-4e51-af7f-09e892280847",
   "metadata": {},
   "outputs": [],
   "source": []
  }
 ],
 "metadata": {
  "kernelspec": {
   "display_name": "Python 3 (ipykernel)",
   "language": "python",
   "name": "python3"
  },
  "language_info": {
   "codemirror_mode": {
    "name": "ipython",
    "version": 3
   },
   "file_extension": ".py",
   "mimetype": "text/x-python",
   "name": "python",
   "nbconvert_exporter": "python",
   "pygments_lexer": "ipython3",
   "version": "3.11.0"
  }
 },
 "nbformat": 4,
 "nbformat_minor": 5
}
