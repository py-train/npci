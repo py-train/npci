{
 "cells": [
  {
   "cell_type": "code",
   "execution_count": 1,
   "id": "7117bf0f-6aac-4a7f-8b36-55020dc8829e",
   "metadata": {},
   "outputs": [
    {
     "name": "stdout",
     "output_type": "stream",
     "text": [
      "Hello, world!\n"
     ]
    }
   ],
   "source": [
    "print('Hello, world!')"
   ]
  },
  {
   "cell_type": "code",
   "execution_count": 2,
   "id": "85676448-62ec-4b7b-880d-86292431b160",
   "metadata": {},
   "outputs": [
    {
     "data": {
      "text/plain": [
       "5"
      ]
     },
     "execution_count": 2,
     "metadata": {},
     "output_type": "execute_result"
    }
   ],
   "source": [
    "2+3"
   ]
  },
  {
   "cell_type": "markdown",
   "id": "1c89365d-b25d-4425-a822-287ccc38ad4b",
   "metadata": {},
   "source": [
    "## Python Features\n",
    "\n",
    "- Interpreted\n",
    "- Implicitly typed (no type declarations)\n",
    "- Line-by-line (run-time errors)\n",
    "- Dynamic"
   ]
  },
  {
   "cell_type": "code",
   "execution_count": 5,
   "id": "c396091d-ad28-44e3-b362-877c791c19ae",
   "metadata": {},
   "outputs": [],
   "source": [
    "value = 123"
   ]
  },
  {
   "cell_type": "code",
   "execution_count": 6,
   "id": "61074326-36de-4d40-9e85-e088c9f1ee44",
   "metadata": {},
   "outputs": [
    {
     "data": {
      "text/plain": [
       "int"
      ]
     },
     "execution_count": 6,
     "metadata": {},
     "output_type": "execute_result"
    }
   ],
   "source": [
    "type(value)"
   ]
  },
  {
   "cell_type": "code",
   "execution_count": 7,
   "id": "b4668c2c-524e-4a1c-b888-b36bbc165fb8",
   "metadata": {},
   "outputs": [],
   "source": [
    "large = 987314098213049823904872349087"
   ]
  },
  {
   "cell_type": "code",
   "execution_count": 8,
   "id": "e2db3889-0a54-4e35-b2c6-2b6f53d2af9f",
   "metadata": {},
   "outputs": [
    {
     "data": {
      "text/plain": [
       "int"
      ]
     },
     "execution_count": 8,
     "metadata": {},
     "output_type": "execute_result"
    }
   ],
   "source": [
    "type(large)"
   ]
  },
  {
   "cell_type": "markdown",
   "id": "2abd22d4-5794-4d9a-830b-940e855fb671",
   "metadata": {},
   "source": [
    "### Primary Types\n",
    "\n",
    "- int\n",
    "- float\n",
    "- bool\n",
    "- str\n",
    "\n",
    "### Expressions\n",
    "\n",
    "- BEMDAS"
   ]
  },
  {
   "cell_type": "code",
   "execution_count": 9,
   "id": "7c01f1e4-31ad-4e3a-8543-083280ea3267",
   "metadata": {},
   "outputs": [],
   "source": [
    "cost = 123.45"
   ]
  },
  {
   "cell_type": "code",
   "execution_count": 10,
   "id": "e7b68861-e1bb-42dd-8592-6d51518c3e41",
   "metadata": {},
   "outputs": [
    {
     "data": {
      "text/plain": [
       "float"
      ]
     },
     "execution_count": 10,
     "metadata": {},
     "output_type": "execute_result"
    }
   ],
   "source": [
    "type(cost)"
   ]
  },
  {
   "cell_type": "code",
   "execution_count": 11,
   "id": "8ed2c84b-9dee-49fe-9400-92d701846ee0",
   "metadata": {},
   "outputs": [
    {
     "data": {
      "text/plain": [
       "1.7695381634655706e+287"
      ]
     },
     "execution_count": 11,
     "metadata": {},
     "output_type": "execute_result"
    }
   ],
   "source": [
    "large * cost ** value"
   ]
  },
  {
   "cell_type": "code",
   "execution_count": 13,
   "id": "4b06b4ee-bcf1-4c6a-9ce9-9de554dcdc51",
   "metadata": {},
   "outputs": [],
   "source": [
    "principle = 12_345.67\n",
    "rate = 15\n",
    "period = 3"
   ]
  },
  {
   "cell_type": "code",
   "execution_count": 17,
   "id": "964dc0e9-b01c-405f-b481-383d58737af2",
   "metadata": {},
   "outputs": [
    {
     "data": {
      "text/plain": [
       "17901.22"
      ]
     },
     "execution_count": 17,
     "metadata": {},
     "output_type": "execute_result"
    }
   ],
   "source": [
    "# calculate accrued amount (on SI)\n",
    "round(principle + principle * rate * period / 100, 2)"
   ]
  },
  {
   "cell_type": "code",
   "execution_count": 18,
   "id": "b50879e3-8812-4201-bdbc-8c517690f276",
   "metadata": {},
   "outputs": [
    {
     "name": "stdout",
     "output_type": "stream",
     "text": [
      "Help on built-in function round in module builtins:\n",
      "\n",
      "round(number, ndigits=None)\n",
      "    Round a number to a given precision in decimal digits.\n",
      "    \n",
      "    The return value is an integer if ndigits is omitted or None.  Otherwise\n",
      "    the return value has the same type as the number.  ndigits may be negative.\n",
      "\n"
     ]
    }
   ],
   "source": [
    "help(round)"
   ]
  },
  {
   "cell_type": "code",
   "execution_count": null,
   "id": "9752cf92-5638-4814-a6fd-13216f12855c",
   "metadata": {},
   "outputs": [],
   "source": [
    "p (1+r/100)^n"
   ]
  },
  {
   "cell_type": "code",
   "execution_count": 21,
   "id": "05b6dd6d-1e6b-44c9-9795-bbf6f6285244",
   "metadata": {},
   "outputs": [
    {
     "data": {
      "text/plain": [
       "18776.22"
      ]
     },
     "execution_count": 21,
     "metadata": {},
     "output_type": "execute_result"
    }
   ],
   "source": [
    "round(principle * (1 + rate/100) ** period, 2)"
   ]
  },
  {
   "cell_type": "code",
   "execution_count": 22,
   "id": "56624e43-b096-41cd-a30d-869884ffb101",
   "metadata": {},
   "outputs": [
    {
     "ename": "TypeError",
     "evalue": "unsupported operand type(s) for +: 'float' and 'str'",
     "output_type": "error",
     "traceback": [
      "\u001b[0;31m---------------------------------------------------------------------------\u001b[0m",
      "\u001b[0;31mTypeError\u001b[0m                                 Traceback (most recent call last)",
      "Cell \u001b[0;32mIn[22], line 1\u001b[0m\n\u001b[0;32m----> 1\u001b[0m principle \u001b[38;5;241m+\u001b[39m \u001b[38;5;124m'\u001b[39m\u001b[38;5;124mhello\u001b[39m\u001b[38;5;124m'\u001b[39m\n",
      "\u001b[0;31mTypeError\u001b[0m: unsupported operand type(s) for +: 'float' and 'str'"
     ]
    }
   ],
   "source": [
    "principle + 'hello'"
   ]
  },
  {
   "cell_type": "markdown",
   "id": "ed376e4b-45ad-4b2a-837a-927a6981ceb7",
   "metadata": {},
   "source": [
    "## Lists\n",
    "\n",
    "- Heteregenous"
   ]
  },
  {
   "cell_type": "code",
   "execution_count": 29,
   "id": "46eaccd4-07d0-4952-a894-0d1292c72da6",
   "metadata": {},
   "outputs": [],
   "source": [
    "prices = [12.34, 123.45, 1.25]\n",
    "items  = ['biscuit', 'chocolate', 'toffee']\n",
    "misc = [11, 42.31, 'hello']\n",
    "lol = [prices, [items, misc]] "
   ]
  },
  {
   "cell_type": "code",
   "execution_count": 24,
   "id": "7b876f26-c33a-4279-8434-375290ed406d",
   "metadata": {},
   "outputs": [
    {
     "data": {
      "text/plain": [
       "list"
      ]
     },
     "execution_count": 24,
     "metadata": {},
     "output_type": "execute_result"
    }
   ],
   "source": [
    "type(prices)"
   ]
  },
  {
   "cell_type": "code",
   "execution_count": 25,
   "id": "bd115480-4294-4a91-89cc-fadb443d28f2",
   "metadata": {},
   "outputs": [
    {
     "data": {
      "text/plain": [
       "list"
      ]
     },
     "execution_count": 25,
     "metadata": {},
     "output_type": "execute_result"
    }
   ],
   "source": [
    "type(items)"
   ]
  },
  {
   "cell_type": "code",
   "execution_count": 28,
   "id": "aeff68b3-248d-4a3b-b65e-c8497e2ef914",
   "metadata": {},
   "outputs": [
    {
     "data": {
      "text/plain": [
       "3"
      ]
     },
     "execution_count": 28,
     "metadata": {},
     "output_type": "execute_result"
    }
   ],
   "source": [
    "len(items)"
   ]
  },
  {
   "cell_type": "code",
   "execution_count": 30,
   "id": "b72b0912-05d9-4b73-98a8-79c7b2d53437",
   "metadata": {},
   "outputs": [
    {
     "data": {
      "text/plain": [
       "2"
      ]
     },
     "execution_count": 30,
     "metadata": {},
     "output_type": "execute_result"
    }
   ],
   "source": [
    "len(lol)"
   ]
  },
  {
   "cell_type": "code",
   "execution_count": 27,
   "id": "31129d3d-7be9-4b77-a93a-c94c69ac9312",
   "metadata": {},
   "outputs": [
    {
     "name": "stdout",
     "output_type": "stream",
     "text": [
      "Help on built-in function len in module builtins:\n",
      "\n",
      "len(obj, /)\n",
      "    Return the number of items in a container.\n",
      "\n"
     ]
    }
   ],
   "source": [
    "help(len)"
   ]
  },
  {
   "cell_type": "code",
   "execution_count": 31,
   "id": "9b0b5e9c-6ab3-4e25-8e27-48b151ebd667",
   "metadata": {},
   "outputs": [
    {
     "data": {
      "text/plain": [
       "[12.34, 123.45, 1.25]"
      ]
     },
     "execution_count": 31,
     "metadata": {},
     "output_type": "execute_result"
    }
   ],
   "source": [
    "prices"
   ]
  },
  {
   "cell_type": "code",
   "execution_count": 32,
   "id": "7d4e889d-f224-452b-ac4f-499eb3b35d61",
   "metadata": {},
   "outputs": [
    {
     "data": {
      "text/plain": [
       "12.34"
      ]
     },
     "execution_count": 32,
     "metadata": {},
     "output_type": "execute_result"
    }
   ],
   "source": [
    "prices[0]"
   ]
  },
  {
   "cell_type": "code",
   "execution_count": 33,
   "id": "c0327f2f-5f1b-4b30-8767-6420d2d11571",
   "metadata": {},
   "outputs": [
    {
     "data": {
      "text/plain": [
       "1.25"
      ]
     },
     "execution_count": 33,
     "metadata": {},
     "output_type": "execute_result"
    }
   ],
   "source": [
    "prices[-1]"
   ]
  },
  {
   "cell_type": "code",
   "execution_count": 34,
   "id": "b648285c-176c-457b-a4d8-966c7e4107a7",
   "metadata": {},
   "outputs": [
    {
     "data": {
      "text/plain": [
       "123.45"
      ]
     },
     "execution_count": 34,
     "metadata": {},
     "output_type": "execute_result"
    }
   ],
   "source": [
    "prices[-2]"
   ]
  },
  {
   "cell_type": "code",
   "execution_count": 35,
   "id": "8d29a39f-18ef-4026-be59-fe089608cf38",
   "metadata": {},
   "outputs": [
    {
     "data": {
      "text/plain": [
       "[[12.34, 123.45, 1.25],\n",
       " [['biscuit', 'chocolate', 'toffee'], [11, 42.31, 'hello']]]"
      ]
     },
     "execution_count": 35,
     "metadata": {},
     "output_type": "execute_result"
    }
   ],
   "source": [
    "lol"
   ]
  },
  {
   "cell_type": "code",
   "execution_count": 36,
   "id": "f1558b45-6ab5-46ae-a2f6-a9050e52829e",
   "metadata": {},
   "outputs": [
    {
     "data": {
      "text/plain": [
       "[12.34, 123.45, 1.25]"
      ]
     },
     "execution_count": 36,
     "metadata": {},
     "output_type": "execute_result"
    }
   ],
   "source": [
    "lol[0]"
   ]
  },
  {
   "cell_type": "code",
   "execution_count": 37,
   "id": "09797ab0-0c3a-4e17-904a-d5f1a4b6ffc3",
   "metadata": {},
   "outputs": [
    {
     "data": {
      "text/plain": [
       "3"
      ]
     },
     "execution_count": 37,
     "metadata": {},
     "output_type": "execute_result"
    }
   ],
   "source": [
    "len(lol[0])"
   ]
  },
  {
   "cell_type": "code",
   "execution_count": 38,
   "id": "d524e0c9-42b4-4607-950b-f521c4d0ab07",
   "metadata": {},
   "outputs": [
    {
     "data": {
      "text/plain": [
       "1.25"
      ]
     },
     "execution_count": 38,
     "metadata": {},
     "output_type": "execute_result"
    }
   ],
   "source": [
    "lol[0][-1]"
   ]
  },
  {
   "cell_type": "code",
   "execution_count": 39,
   "id": "5dcd53b1-caec-4f54-99c9-80b4dd74c38b",
   "metadata": {},
   "outputs": [
    {
     "data": {
      "text/plain": [
       "'hello'"
      ]
     },
     "execution_count": 39,
     "metadata": {},
     "output_type": "execute_result"
    }
   ],
   "source": [
    "lol[-1][1][-1]"
   ]
  },
  {
   "cell_type": "code",
   "execution_count": 41,
   "id": "98d108c7-645d-4cb1-bf50-47471ad194dd",
   "metadata": {},
   "outputs": [
    {
     "data": {
      "text/plain": [
       "'o'"
      ]
     },
     "execution_count": 41,
     "metadata": {},
     "output_type": "execute_result"
    }
   ],
   "source": [
    "lol[-1][1][-1][-1]"
   ]
  },
  {
   "cell_type": "code",
   "execution_count": 42,
   "id": "1aea9715-b4b5-4d0e-be58-f8d5a5148418",
   "metadata": {},
   "outputs": [
    {
     "ename": "TypeError",
     "evalue": "'float' object is not subscriptable",
     "output_type": "error",
     "traceback": [
      "\u001b[0;31m---------------------------------------------------------------------------\u001b[0m",
      "\u001b[0;31mTypeError\u001b[0m                                 Traceback (most recent call last)",
      "Cell \u001b[0;32mIn[42], line 1\u001b[0m\n\u001b[0;32m----> 1\u001b[0m lol[\u001b[38;5;241m0\u001b[39m][\u001b[38;5;241m0\u001b[39m][\u001b[38;5;241m0\u001b[39m]\n",
      "\u001b[0;31mTypeError\u001b[0m: 'float' object is not subscriptable"
     ]
    }
   ],
   "source": [
    "lol[0][0][0]"
   ]
  },
  {
   "cell_type": "code",
   "execution_count": 43,
   "id": "484a00d0-7d26-413f-95bc-465ddd797bce",
   "metadata": {},
   "outputs": [
    {
     "ename": "IndexError",
     "evalue": "list index out of range",
     "output_type": "error",
     "traceback": [
      "\u001b[0;31m---------------------------------------------------------------------------\u001b[0m",
      "\u001b[0;31mIndexError\u001b[0m                                Traceback (most recent call last)",
      "Cell \u001b[0;32mIn[43], line 1\u001b[0m\n\u001b[0;32m----> 1\u001b[0m lol[\u001b[38;5;241m5\u001b[39m]\n",
      "\u001b[0;31mIndexError\u001b[0m: list index out of range"
     ]
    }
   ],
   "source": [
    "lol[5]"
   ]
  },
  {
   "cell_type": "code",
   "execution_count": 44,
   "id": "74f4079e-2107-4ca5-a042-aacae920a9ee",
   "metadata": {},
   "outputs": [
    {
     "data": {
      "text/plain": [
       "['biscuit', 'chocolate', 'toffee']"
      ]
     },
     "execution_count": 44,
     "metadata": {},
     "output_type": "execute_result"
    }
   ],
   "source": [
    "items"
   ]
  },
  {
   "cell_type": "markdown",
   "id": "050de2fa-0ec3-4f09-a517-589adda24c8c",
   "metadata": {},
   "source": [
    "### List Slicing\n",
    "\n",
    "    list [start: end: optional-step]\n",
    "\n",
    "    start: inclusive, default: 0(beginning)\n",
    "    end: non-inclusive, default: end\n",
    "    optional-step: 1"
   ]
  },
  {
   "cell_type": "code",
   "execution_count": 46,
   "id": "2e369f3a-9252-44bc-b189-e089585ea10f",
   "metadata": {},
   "outputs": [
    {
     "data": {
      "text/plain": [
       "['biscuit', 'chocolate']"
      ]
     },
     "execution_count": 46,
     "metadata": {},
     "output_type": "execute_result"
    }
   ],
   "source": [
    "items[0:2]"
   ]
  },
  {
   "cell_type": "code",
   "execution_count": 47,
   "id": "4d3e689a-20b8-40a0-85de-d200e4a8f73c",
   "metadata": {},
   "outputs": [
    {
     "data": {
      "text/plain": [
       "['biscuit', 'chocolate']"
      ]
     },
     "execution_count": 47,
     "metadata": {},
     "output_type": "execute_result"
    }
   ],
   "source": [
    "items[:2]"
   ]
  },
  {
   "cell_type": "code",
   "execution_count": 48,
   "id": "2ddf56c6-142b-42ed-94a1-672f7f1122d2",
   "metadata": {},
   "outputs": [
    {
     "data": {
      "text/plain": [
       "['chocolate', 'toffee']"
      ]
     },
     "execution_count": 48,
     "metadata": {},
     "output_type": "execute_result"
    }
   ],
   "source": [
    "items[1:]"
   ]
  },
  {
   "cell_type": "code",
   "execution_count": 49,
   "id": "82038f7c-1502-4f8c-a803-16b587103c74",
   "metadata": {},
   "outputs": [
    {
     "data": {
      "text/plain": [
       "['chocolate', 'toffee']"
      ]
     },
     "execution_count": 49,
     "metadata": {},
     "output_type": "execute_result"
    }
   ],
   "source": [
    "items[-2:]"
   ]
  },
  {
   "cell_type": "code",
   "execution_count": 75,
   "id": "4708e680-cc94-49dd-bdfa-bb0010e6b86f",
   "metadata": {},
   "outputs": [
    {
     "data": {
      "text/plain": [
       "[0, 1, 2, 3, 4, 5, 6, 7, 8, 9]"
      ]
     },
     "execution_count": 75,
     "metadata": {},
     "output_type": "execute_result"
    }
   ],
   "source": [
    "range(10)    # lazy objects\n",
    "list(range(10))   # eager object"
   ]
  },
  {
   "cell_type": "code",
   "execution_count": 52,
   "id": "a82ceafb-ea76-4055-9630-460680c1fda5",
   "metadata": {},
   "outputs": [
    {
     "data": {
      "text/plain": [
       "[10, 15, 20, 25, 30, 35, 40, 45]"
      ]
     },
     "execution_count": 52,
     "metadata": {},
     "output_type": "execute_result"
    }
   ],
   "source": [
    "list(range(10,50,5))"
   ]
  },
  {
   "cell_type": "code",
   "execution_count": 53,
   "id": "5fe46722-7836-4093-920d-1d85d38e23c2",
   "metadata": {},
   "outputs": [
    {
     "data": {
      "text/plain": [
       "[50, 45, 40, 35, 30, 25, 20, 15]"
      ]
     },
     "execution_count": 53,
     "metadata": {},
     "output_type": "execute_result"
    }
   ],
   "source": [
    "list(range(50,10,-5))"
   ]
  },
  {
   "cell_type": "code",
   "execution_count": 54,
   "id": "3aeabbc1-cfa0-4faa-b204-a52e49a819c8",
   "metadata": {},
   "outputs": [
    {
     "data": {
      "text/plain": [
       "[]"
      ]
     },
     "execution_count": 54,
     "metadata": {},
     "output_type": "execute_result"
    }
   ],
   "source": [
    "list(range(10,50,-5))"
   ]
  },
  {
   "cell_type": "code",
   "execution_count": 55,
   "id": "042aa911-7cc6-49b0-bf6d-79d34b28fcbd",
   "metadata": {},
   "outputs": [
    {
     "data": {
      "text/plain": [
       "[50, 45, 40, 35, 30, 25, 20, 15, 10, 5]"
      ]
     },
     "execution_count": 55,
     "metadata": {},
     "output_type": "execute_result"
    }
   ],
   "source": [
    "nums = list(range(50,0,-5))\n",
    "nums"
   ]
  },
  {
   "cell_type": "code",
   "execution_count": 56,
   "id": "cdbb2123-3ff0-48e9-848a-161bc0e11fe7",
   "metadata": {},
   "outputs": [
    {
     "data": {
      "text/plain": [
       "10"
      ]
     },
     "execution_count": 56,
     "metadata": {},
     "output_type": "execute_result"
    }
   ],
   "source": [
    "len(nums)"
   ]
  },
  {
   "cell_type": "code",
   "execution_count": 59,
   "id": "e3ece0c6-376c-4446-b878-606fc49cb326",
   "metadata": {},
   "outputs": [
    {
     "data": {
      "text/plain": [
       "[40, 35, 30, 25, 20]"
      ]
     },
     "execution_count": 59,
     "metadata": {},
     "output_type": "execute_result"
    }
   ],
   "source": [
    "nums[2:6+1]"
   ]
  },
  {
   "cell_type": "code",
   "execution_count": 61,
   "id": "b86926e5-1e87-4167-9d1e-a60f22541da8",
   "metadata": {},
   "outputs": [
    {
     "data": {
      "text/plain": [
       "[50, 45, 40, 35, 30]"
      ]
     },
     "execution_count": 61,
     "metadata": {},
     "output_type": "execute_result"
    }
   ],
   "source": [
    "nums[:5]"
   ]
  },
  {
   "cell_type": "code",
   "execution_count": 62,
   "id": "82ebf3bb-d90c-46f9-bef6-116ca5b6a40e",
   "metadata": {},
   "outputs": [
    {
     "data": {
      "text/plain": [
       "[25, 20, 15, 10, 5]"
      ]
     },
     "execution_count": 62,
     "metadata": {},
     "output_type": "execute_result"
    }
   ],
   "source": [
    "nums[-5:]"
   ]
  },
  {
   "cell_type": "code",
   "execution_count": 63,
   "id": "24a78964-d297-4f8b-8f76-6071a88d60ca",
   "metadata": {},
   "outputs": [
    {
     "data": {
      "text/plain": [
       "[25, 20, 15, 10, 5]"
      ]
     },
     "execution_count": 63,
     "metadata": {},
     "output_type": "execute_result"
    }
   ],
   "source": [
    "nums[5:]"
   ]
  },
  {
   "cell_type": "code",
   "execution_count": 64,
   "id": "aaabec56-b08f-42d5-b937-a00a4120a609",
   "metadata": {},
   "outputs": [
    {
     "data": {
      "text/plain": [
       "[12.34, 123.45, 1.25]"
      ]
     },
     "execution_count": 64,
     "metadata": {},
     "output_type": "execute_result"
    }
   ],
   "source": [
    "prices"
   ]
  },
  {
   "cell_type": "code",
   "execution_count": 65,
   "id": "8217ac34-ddb1-40c3-9efe-12f32fd19a66",
   "metadata": {},
   "outputs": [
    {
     "data": {
      "text/plain": [
       "['biscuit', 'chocolate', 'toffee']"
      ]
     },
     "execution_count": 65,
     "metadata": {},
     "output_type": "execute_result"
    }
   ],
   "source": [
    "items"
   ]
  },
  {
   "cell_type": "code",
   "execution_count": 66,
   "id": "72a229c8-452b-4513-a4e5-773b15fd9375",
   "metadata": {},
   "outputs": [
    {
     "data": {
      "text/plain": [
       "[12.34, 123.45, 1.25, 'biscuit', 'chocolate', 'toffee']"
      ]
     },
     "execution_count": 66,
     "metadata": {},
     "output_type": "execute_result"
    }
   ],
   "source": [
    "prices + items"
   ]
  },
  {
   "cell_type": "code",
   "execution_count": 67,
   "id": "e2a764d1-4a56-4efd-ae15-63352ee7c56a",
   "metadata": {},
   "outputs": [
    {
     "data": {
      "text/plain": [
       "[50, 45, 40, 35, 30, 25, 20, 15, 10, 5]"
      ]
     },
     "execution_count": 67,
     "metadata": {},
     "output_type": "execute_result"
    }
   ],
   "source": [
    "nums"
   ]
  },
  {
   "cell_type": "code",
   "execution_count": 68,
   "id": "5e125ebd-4b50-4f2e-be60-2ddb94847e5d",
   "metadata": {},
   "outputs": [
    {
     "data": {
      "text/plain": [
       "[50, 45, 40, 15, 10, 5]"
      ]
     },
     "execution_count": 68,
     "metadata": {},
     "output_type": "execute_result"
    }
   ],
   "source": [
    "[50, 45, 40, 15, 10, 5]\n",
    "nums[:3] + nums[-3:]"
   ]
  },
  {
   "cell_type": "code",
   "execution_count": 70,
   "id": "4d9212c0-8f4b-42b4-9f92-b79dbddf4ec9",
   "metadata": {},
   "outputs": [
    {
     "data": {
      "text/plain": [
       "[50, 45, 40, 35, 30, 25]"
      ]
     },
     "execution_count": 70,
     "metadata": {},
     "output_type": "execute_result"
    }
   ],
   "source": [
    "nums[:3 + 3:]"
   ]
  },
  {
   "cell_type": "code",
   "execution_count": 74,
   "id": "14dc08b2-7ac3-4ea7-b6c9-4ef23eb0bdb6",
   "metadata": {},
   "outputs": [
    {
     "data": {
      "text/plain": [
       "[50, 45, 40, 35, 30, 25, 20, 15, 40, 35, 30, 25, 20, 15, 10, 5]"
      ]
     },
     "execution_count": 74,
     "metadata": {},
     "output_type": "execute_result"
    }
   ],
   "source": [
    "n = 8\n",
    "nums[:n] + nums[-n:]"
   ]
  },
  {
   "cell_type": "code",
   "execution_count": 76,
   "id": "70afb168-f935-4f78-9003-8c4cc25e1640",
   "metadata": {},
   "outputs": [
    {
     "ename": "TypeError",
     "evalue": "can't multiply sequence by non-int of type 'list'",
     "output_type": "error",
     "traceback": [
      "\u001b[0;31m---------------------------------------------------------------------------\u001b[0m",
      "\u001b[0;31mTypeError\u001b[0m                                 Traceback (most recent call last)",
      "Cell \u001b[0;32mIn[76], line 1\u001b[0m\n\u001b[0;32m----> 1\u001b[0m items \u001b[38;5;241m*\u001b[39m prices\n",
      "\u001b[0;31mTypeError\u001b[0m: can't multiply sequence by non-int of type 'list'"
     ]
    }
   ],
   "source": [
    "items * prices"
   ]
  },
  {
   "cell_type": "code",
   "execution_count": 77,
   "id": "9f69062f-13f0-4164-aff3-e98f445ad11e",
   "metadata": {},
   "outputs": [
    {
     "data": {
      "text/plain": [
       "['biscuit',\n",
       " 'chocolate',\n",
       " 'toffee',\n",
       " 'biscuit',\n",
       " 'chocolate',\n",
       " 'toffee',\n",
       " 'biscuit',\n",
       " 'chocolate',\n",
       " 'toffee']"
      ]
     },
     "execution_count": 77,
     "metadata": {},
     "output_type": "execute_result"
    }
   ],
   "source": [
    "items * 3 # repitition"
   ]
  },
  {
   "cell_type": "markdown",
   "id": "79679c3b-d920-44f8-8622-4d58d5c51572",
   "metadata": {},
   "source": [
    "### List methods"
   ]
  },
  {
   "cell_type": "code",
   "execution_count": 78,
   "id": "09a392ba-8361-4f1d-b1d8-71d3cd8193da",
   "metadata": {},
   "outputs": [],
   "source": [
    "nums.append(100)"
   ]
  },
  {
   "cell_type": "code",
   "execution_count": 79,
   "id": "71fab189-eb8b-4d38-8c0b-447909fe9702",
   "metadata": {},
   "outputs": [
    {
     "data": {
      "text/plain": [
       "[50, 45, 40, 35, 30, 25, 20, 15, 10, 5, 100]"
      ]
     },
     "execution_count": 79,
     "metadata": {},
     "output_type": "execute_result"
    }
   ],
   "source": [
    "nums"
   ]
  },
  {
   "cell_type": "code",
   "execution_count": 80,
   "id": "2a4dc586-8831-42f5-9303-6418391f87b1",
   "metadata": {},
   "outputs": [
    {
     "data": {
      "text/plain": [
       "[200, 50, 45, 40, 35, 30, 25, 20, 15, 10, 5, 100]"
      ]
     },
     "execution_count": 80,
     "metadata": {},
     "output_type": "execute_result"
    }
   ],
   "source": [
    "nums.insert(0, 200)\n",
    "nums"
   ]
  },
  {
   "cell_type": "code",
   "execution_count": 81,
   "id": "434b301d-659f-4bcf-952c-38380813a050",
   "metadata": {},
   "outputs": [
    {
     "data": {
      "text/plain": [
       "100"
      ]
     },
     "execution_count": 81,
     "metadata": {},
     "output_type": "execute_result"
    }
   ],
   "source": [
    "nums.pop()"
   ]
  },
  {
   "cell_type": "code",
   "execution_count": 82,
   "id": "806f6ead-e0fc-499c-9857-7c97f1e11044",
   "metadata": {},
   "outputs": [
    {
     "data": {
      "text/plain": [
       "[200, 50, 45, 40, 35, 30, 25, 20, 15, 10, 5]"
      ]
     },
     "execution_count": 82,
     "metadata": {},
     "output_type": "execute_result"
    }
   ],
   "source": [
    "nums"
   ]
  },
  {
   "cell_type": "code",
   "execution_count": 83,
   "id": "8a7b08d9-2a02-4b13-a1f9-a9604b5623b9",
   "metadata": {},
   "outputs": [],
   "source": [
    "second = nums.pop(1)"
   ]
  },
  {
   "cell_type": "code",
   "execution_count": 84,
   "id": "5dde7318-3c5f-4c5f-9eb5-134ec2135e2b",
   "metadata": {},
   "outputs": [
    {
     "data": {
      "text/plain": [
       "[200, 45, 40, 35, 30, 25, 20, 15, 10, 5]"
      ]
     },
     "execution_count": 84,
     "metadata": {},
     "output_type": "execute_result"
    }
   ],
   "source": [
    "nums"
   ]
  },
  {
   "cell_type": "code",
   "execution_count": 85,
   "id": "47d011a2-eef1-4b3c-adcc-5501b9c00d93",
   "metadata": {},
   "outputs": [
    {
     "data": {
      "text/plain": [
       "50"
      ]
     },
     "execution_count": 85,
     "metadata": {},
     "output_type": "execute_result"
    }
   ],
   "source": [
    "second"
   ]
  },
  {
   "cell_type": "code",
   "execution_count": 86,
   "id": "70b023f3-efa3-4a11-98c4-9cf95685f801",
   "metadata": {},
   "outputs": [
    {
     "data": {
      "text/plain": [
       "[200, 45, 40, 35, 25, 20, 15, 10, 5]"
      ]
     },
     "execution_count": 86,
     "metadata": {},
     "output_type": "execute_result"
    }
   ],
   "source": [
    "nums.remove(30)\n",
    "nums"
   ]
  },
  {
   "cell_type": "code",
   "execution_count": 87,
   "id": "9e03b821-a279-4aea-9509-a299ebe36417",
   "metadata": {},
   "outputs": [
    {
     "data": {
      "text/plain": [
       "0"
      ]
     },
     "execution_count": 87,
     "metadata": {},
     "output_type": "execute_result"
    }
   ],
   "source": [
    "nums.count(30)"
   ]
  },
  {
   "cell_type": "code",
   "execution_count": 88,
   "id": "39ec4274-f297-4a73-a954-20006af45ef5",
   "metadata": {},
   "outputs": [
    {
     "ename": "ValueError",
     "evalue": "list.remove(x): x not in list",
     "output_type": "error",
     "traceback": [
      "\u001b[0;31m---------------------------------------------------------------------------\u001b[0m",
      "\u001b[0;31mValueError\u001b[0m                                Traceback (most recent call last)",
      "Cell \u001b[0;32mIn[88], line 1\u001b[0m\n\u001b[0;32m----> 1\u001b[0m nums\u001b[38;5;241m.\u001b[39mremove(\u001b[38;5;241m101\u001b[39m)\n",
      "\u001b[0;31mValueError\u001b[0m: list.remove(x): x not in list"
     ]
    }
   ],
   "source": [
    "nums.remove(101)"
   ]
  },
  {
   "cell_type": "code",
   "execution_count": 89,
   "id": "7e0020e7-2131-428a-bfcb-a9bb38f6bbe1",
   "metadata": {},
   "outputs": [
    {
     "data": {
      "text/plain": [
       "3"
      ]
     },
     "execution_count": 89,
     "metadata": {},
     "output_type": "execute_result"
    }
   ],
   "source": [
    "nums.index(35)"
   ]
  },
  {
   "cell_type": "code",
   "execution_count": 90,
   "id": "95ebeca4-8125-4a41-bb4c-74c0e22db6a1",
   "metadata": {},
   "outputs": [
    {
     "ename": "ValueError",
     "evalue": "30 is not in list",
     "output_type": "error",
     "traceback": [
      "\u001b[0;31m---------------------------------------------------------------------------\u001b[0m",
      "\u001b[0;31mValueError\u001b[0m                                Traceback (most recent call last)",
      "Cell \u001b[0;32mIn[90], line 1\u001b[0m\n\u001b[0;32m----> 1\u001b[0m nums\u001b[38;5;241m.\u001b[39mindex(\u001b[38;5;241m30\u001b[39m)\n",
      "\u001b[0;31mValueError\u001b[0m: 30 is not in list"
     ]
    }
   ],
   "source": [
    "nums.index(30)"
   ]
  },
  {
   "cell_type": "code",
   "execution_count": 94,
   "id": "bcef96de-9e39-4318-aff1-c79573171f23",
   "metadata": {},
   "outputs": [],
   "source": [
    "nums.sort(reverse=True)"
   ]
  },
  {
   "cell_type": "code",
   "execution_count": 95,
   "id": "21311d1b-a053-45ee-aebe-53d9843b2ee3",
   "metadata": {},
   "outputs": [
    {
     "data": {
      "text/plain": [
       "[200, 45, 40, 35, 25, 20, 15, 10, 5]"
      ]
     },
     "execution_count": 95,
     "metadata": {},
     "output_type": "execute_result"
    }
   ],
   "source": [
    "nums"
   ]
  },
  {
   "cell_type": "code",
   "execution_count": 96,
   "id": "ede50310-d8f1-4edd-91e0-55a08dca1970",
   "metadata": {},
   "outputs": [
    {
     "data": {
      "text/plain": [
       "[200, 45, 40, 35, 25, 20, 15, 10, 5]"
      ]
     },
     "execution_count": 96,
     "metadata": {},
     "output_type": "execute_result"
    }
   ],
   "source": [
    "nums.sort()\n",
    "nums.reverse()\n",
    "nums"
   ]
  },
  {
   "cell_type": "code",
   "execution_count": 105,
   "id": "99453545-0be4-4996-9c4e-5ee8e27c3fe1",
   "metadata": {},
   "outputs": [
    {
     "ename": "AttributeError",
     "evalue": "'NoneType' object has no attribute 'reverse'",
     "output_type": "error",
     "traceback": [
      "\u001b[0;31m---------------------------------------------------------------------------\u001b[0m",
      "\u001b[0;31mAttributeError\u001b[0m                            Traceback (most recent call last)",
      "Cell \u001b[0;32mIn[105], line 2\u001b[0m\n\u001b[1;32m      1\u001b[0m \u001b[38;5;66;03m# nums.sort().reverse()\u001b[39;00m\n\u001b[0;32m----> 2\u001b[0m (nums\u001b[38;5;241m.\u001b[39msort())\u001b[38;5;241m.\u001b[39mreverse()\n",
      "\u001b[0;31mAttributeError\u001b[0m: 'NoneType' object has no attribute 'reverse'"
     ]
    }
   ],
   "source": [
    "# nums.sort().reverse()\n",
    "(nums.sort()).reverse()"
   ]
  },
  {
   "cell_type": "code",
   "execution_count": 98,
   "id": "e64b1d74-508a-49f0-9bb4-c5cb8f6955a9",
   "metadata": {},
   "outputs": [],
   "source": [
    "output = nums.sort()"
   ]
  },
  {
   "cell_type": "code",
   "execution_count": 100,
   "id": "d21d0e99-9653-4d94-985d-65acc471bbd4",
   "metadata": {},
   "outputs": [],
   "source": [
    "output"
   ]
  },
  {
   "cell_type": "code",
   "execution_count": 101,
   "id": "b6ef77b1-6f57-48d3-a41f-4d4585b84202",
   "metadata": {},
   "outputs": [],
   "source": [
    "None"
   ]
  },
  {
   "cell_type": "code",
   "execution_count": 102,
   "id": "32dfe08f-868b-4b51-a763-df3b95f3466d",
   "metadata": {},
   "outputs": [
    {
     "data": {
      "text/plain": [
       "True"
      ]
     },
     "execution_count": 102,
     "metadata": {},
     "output_type": "execute_result"
    }
   ],
   "source": [
    "output == None"
   ]
  },
  {
   "cell_type": "code",
   "execution_count": 103,
   "id": "eaeeed3d-a8cb-4323-9fe8-4cb78165036b",
   "metadata": {},
   "outputs": [
    {
     "ename": "AttributeError",
     "evalue": "'list' object has no attribute 'hello'",
     "output_type": "error",
     "traceback": [
      "\u001b[0;31m---------------------------------------------------------------------------\u001b[0m",
      "\u001b[0;31mAttributeError\u001b[0m                            Traceback (most recent call last)",
      "Cell \u001b[0;32mIn[103], line 1\u001b[0m\n\u001b[0;32m----> 1\u001b[0m nums\u001b[38;5;241m.\u001b[39mhello()\n",
      "\u001b[0;31mAttributeError\u001b[0m: 'list' object has no attribute 'hello'"
     ]
    }
   ],
   "source": [
    "nums.hello()"
   ]
  },
  {
   "cell_type": "code",
   "execution_count": 106,
   "id": "a00f4838-b48b-4519-a97f-9a6003eceb6a",
   "metadata": {},
   "outputs": [],
   "source": [
    "nums.extend([1,2,3,4])"
   ]
  },
  {
   "cell_type": "code",
   "execution_count": 107,
   "id": "2b47f502-a297-454c-a555-5817d9d25bfd",
   "metadata": {},
   "outputs": [
    {
     "data": {
      "text/plain": [
       "[5, 10, 15, 20, 25, 35, 40, 45, 200, 1, 2, 3, 4]"
      ]
     },
     "execution_count": 107,
     "metadata": {},
     "output_type": "execute_result"
    }
   ],
   "source": [
    "nums"
   ]
  },
  {
   "cell_type": "code",
   "execution_count": 108,
   "id": "bec71be0-9f21-4320-ba94-4c0cdfee716d",
   "metadata": {},
   "outputs": [
    {
     "data": {
      "text/plain": [
       "[5, 10, 15, 20, 25, 35, 40, 45, 200, 1, 2, 3, 4, [1, 2, 3, 4]]"
      ]
     },
     "execution_count": 108,
     "metadata": {},
     "output_type": "execute_result"
    }
   ],
   "source": [
    "nums.append([1,2,3,4])\n",
    "nums"
   ]
  },
  {
   "cell_type": "code",
   "execution_count": 109,
   "id": "19a69490-d972-447e-a5ea-bff8f39d62f9",
   "metadata": {},
   "outputs": [
    {
     "ename": "TypeError",
     "evalue": "'int' object is not iterable",
     "output_type": "error",
     "traceback": [
      "\u001b[0;31m---------------------------------------------------------------------------\u001b[0m",
      "\u001b[0;31mTypeError\u001b[0m                                 Traceback (most recent call last)",
      "Cell \u001b[0;32mIn[109], line 1\u001b[0m\n\u001b[0;32m----> 1\u001b[0m nums\u001b[38;5;241m.\u001b[39mextend(\u001b[38;5;241m10\u001b[39m)\n",
      "\u001b[0;31mTypeError\u001b[0m: 'int' object is not iterable"
     ]
    }
   ],
   "source": [
    "nums.extend(10)"
   ]
  },
  {
   "cell_type": "code",
   "execution_count": 110,
   "id": "c059b601-6f45-4946-8b0f-9d3c46f320f8",
   "metadata": {},
   "outputs": [
    {
     "data": {
      "text/plain": [
       "[5,\n",
       " 10,\n",
       " 15,\n",
       " 20,\n",
       " 25,\n",
       " 35,\n",
       " 40,\n",
       " 45,\n",
       " 200,\n",
       " 1,\n",
       " 2,\n",
       " 3,\n",
       " 4,\n",
       " [1, 2, 3, 4],\n",
       " 'h',\n",
       " 'e',\n",
       " 'l',\n",
       " 'l',\n",
       " 'o']"
      ]
     },
     "execution_count": 110,
     "metadata": {},
     "output_type": "execute_result"
    }
   ],
   "source": [
    "nums.extend('hello')\n",
    "nums"
   ]
  },
  {
   "cell_type": "code",
   "execution_count": 111,
   "id": "8c773da0-16ab-45ff-8bee-4199eac03bbf",
   "metadata": {},
   "outputs": [
    {
     "name": "stdout",
     "output_type": "stream",
     "text": [
      "The Zen of Python, by Tim Peters\n",
      "\n",
      "Beautiful is better than ugly.\n",
      "Explicit is better than implicit.\n",
      "Simple is better than complex.\n",
      "Complex is better than complicated.\n",
      "Flat is better than nested.\n",
      "Sparse is better than dense.\n",
      "Readability counts.\n",
      "Special cases aren't special enough to break the rules.\n",
      "Although practicality beats purity.\n",
      "Errors should never pass silently.\n",
      "Unless explicitly silenced.\n",
      "In the face of ambiguity, refuse the temptation to guess.\n",
      "There should be one-- and preferably only one --obvious way to do it.\n",
      "Although that way may not be obvious at first unless you're Dutch.\n",
      "Now is better than never.\n",
      "Although never is often better than *right* now.\n",
      "If the implementation is hard to explain, it's a bad idea.\n",
      "If the implementation is easy to explain, it may be a good idea.\n",
      "Namespaces are one honking great idea -- let's do more of those!\n"
     ]
    }
   ],
   "source": [
    "import this"
   ]
  },
  {
   "cell_type": "code",
   "execution_count": 118,
   "id": "81e11659-7623-468b-9f5a-4c50eaaef1ad",
   "metadata": {},
   "outputs": [],
   "source": [
    "dwarves = ['Sleepy', 'Jumpy', 'Sneezy', 'Snoopy', 'Blockhead']\n",
    "giants = ['BFG', 'Hulk', 'Thanos']\n",
    "lost = 'Snoopy'"
   ]
  },
  {
   "cell_type": "code",
   "execution_count": 115,
   "id": "85a09169-7dea-451a-81ca-e4da50808972",
   "metadata": {},
   "outputs": [
    {
     "data": {
      "text/plain": [
       "3"
      ]
     },
     "execution_count": 115,
     "metadata": {},
     "output_type": "execute_result"
    }
   ],
   "source": [
    "# Find the 'lost' dwarf\n",
    "# if ____:\n",
    "#     dwarves.index(lost)\n",
    "# else:\n",
    "    "
   ]
  },
  {
   "cell_type": "code",
   "execution_count": null,
   "id": "20c50676-8208-4998-90f1-71eb38c0013f",
   "metadata": {},
   "outputs": [],
   "source": [
    "# get Snoopy and Blockhead to the beginning of the dqarves list"
   ]
  },
  {
   "cell_type": "code",
   "execution_count": 116,
   "id": "fc12aafc-97f8-4bc6-81ab-5cfa3da5161b",
   "metadata": {},
   "outputs": [],
   "source": [
    "last = dwarves.pop()\n",
    "dwarves.insert(0, last)\n",
    "last = dwarves.pop()\n",
    "dwarves.insert(0, last)"
   ]
  },
  {
   "cell_type": "code",
   "execution_count": 117,
   "id": "5188350c-1e86-42ba-9dec-ee501c4ed544",
   "metadata": {},
   "outputs": [
    {
     "data": {
      "text/plain": [
       "['Snoopy', 'Blockhead', 'Sleepy', 'Jumpy', 'Sneezy']"
      ]
     },
     "execution_count": 117,
     "metadata": {},
     "output_type": "execute_result"
    }
   ],
   "source": [
    "dwarves"
   ]
  },
  {
   "cell_type": "code",
   "execution_count": 121,
   "id": "6a51d2c3-aa90-43a4-9ad2-975d6734c5c1",
   "metadata": {},
   "outputs": [],
   "source": [
    "# Make a combined sorted list for dwarves and giants\n",
    "last2 = dwarves[-2:]\n",
    "# last2.reverse()"
   ]
  },
  {
   "cell_type": "code",
   "execution_count": 123,
   "id": "fffd03cb-b39c-4845-9a48-f9900911caf7",
   "metadata": {},
   "outputs": [
    {
     "data": {
      "text/plain": [
       "['Snoopy', 'Blockhead', 'Sleepy', 'Jumpy', 'Sneezy']"
      ]
     },
     "execution_count": 123,
     "metadata": {},
     "output_type": "execute_result"
    }
   ],
   "source": [
    "last2 + dwarves[:-2]"
   ]
  },
  {
   "cell_type": "code",
   "execution_count": null,
   "id": "9af24c7f-091e-4aec-a0bf-d7f9d5f6ca0c",
   "metadata": {},
   "outputs": [],
   "source": []
  }
 ],
 "metadata": {
  "kernelspec": {
   "display_name": "Python 3 (ipykernel)",
   "language": "python",
   "name": "python3"
  },
  "language_info": {
   "codemirror_mode": {
    "name": "ipython",
    "version": 3
   },
   "file_extension": ".py",
   "mimetype": "text/x-python",
   "name": "python",
   "nbconvert_exporter": "python",
   "pygments_lexer": "ipython3",
   "version": "3.11.0"
  }
 },
 "nbformat": 4,
 "nbformat_minor": 5
}
