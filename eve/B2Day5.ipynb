{
 "cells": [
  {
   "cell_type": "markdown",
   "id": "87e72002-460f-4e90-9f6f-7711f1980c78",
   "metadata": {},
   "source": [
    "# Day 5 Agenda\n",
    "\n",
    "- ..."
   ]
  },
  {
   "cell_type": "markdown",
   "id": "4f73ec2c-caab-4f9c-9409-572e145ad93b",
   "metadata": {},
   "source": [
    "## Web Comuncation\n",
    "\n",
    "1. URL: https://github.com/py-train/npci/tree/main/fun/google-python-exercises\n",
    "    - Protocol: HTTP(S)\n",
    "    - Domain: sub1.sub2.domain.ext\n",
    "    - Resource: /abc/def/xyz\n",
    "2. Request : Resource, HTTP verb (default=GET), data (optional)\n",
    "3. Dispatch: One resource to one area of the web server/service application\n",
    "4. DB Query -> Data\n",
    "5. Find Templates\n",
    "6. Template + Data (Rendering/Patching)\n",
    "7. Response : HTML\n",
    "8. Web page populated in browser"
   ]
  },
  {
   "cell_type": "markdown",
   "id": "79d00441-09bf-43fa-9101-856274beb41c",
   "metadata": {},
   "source": [
    "# https://github.com/py-train/npci/tree/main/fun/google-python-exercises\n",
    "\n",
    "# https://github.com/pandas-dev/pandas"
   ]
  },
  {
   "cell_type": "code",
   "execution_count": null,
   "id": "c8a3d07a-21c8-4044-966f-b1616aca4113",
   "metadata": {},
   "outputs": [],
   "source": []
  },
  {
   "cell_type": "code",
   "execution_count": null,
   "id": "1d50892d-3937-4a8f-90a3-6b456852f42c",
   "metadata": {},
   "outputs": [],
   "source": []
  },
  {
   "cell_type": "code",
   "execution_count": null,
   "id": "da10b8f6-d414-4de8-8148-649fe51488d9",
   "metadata": {},
   "outputs": [],
   "source": []
  },
  {
   "cell_type": "code",
   "execution_count": null,
   "id": "e1b78fcc-39a1-4625-aa2a-bb1297e52f7e",
   "metadata": {},
   "outputs": [],
   "source": []
  },
  {
   "cell_type": "code",
   "execution_count": null,
   "id": "ba287a62-2bc1-44fc-b38b-68038aca7f31",
   "metadata": {},
   "outputs": [],
   "source": []
  }
 ],
 "metadata": {
  "kernelspec": {
   "display_name": "Python 3 (ipykernel)",
   "language": "python",
   "name": "python3"
  },
  "language_info": {
   "codemirror_mode": {
    "name": "ipython",
    "version": 3
   },
   "file_extension": ".py",
   "mimetype": "text/x-python",
   "name": "python",
   "nbconvert_exporter": "python",
   "pygments_lexer": "ipython3",
   "version": "3.11.0"
  }
 },
 "nbformat": 4,
 "nbformat_minor": 5
}
