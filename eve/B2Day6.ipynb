{
 "cells": [
  {
   "cell_type": "markdown",
   "id": "bfbcf19e-1586-46bb-83d6-2dc5baf67397",
   "metadata": {},
   "source": [
    "## Templates"
   ]
  },
  {
   "cell_type": "code",
   "execution_count": 6,
   "id": "f15ec59f-6e00-4909-8350-d6639b7ac691",
   "metadata": {},
   "outputs": [],
   "source": [
    "new_year_greeting = '''\n",
    "Hello {{name}}\n",
    "\n",
    "Hope you have a great year ahead!\n",
    "\n",
    "{{greeting}}\n",
    "'''"
   ]
  },
  {
   "cell_type": "code",
   "execution_count": 11,
   "id": "a183374c-2335-46a1-b77a-7d316a70e66d",
   "metadata": {},
   "outputs": [],
   "source": [
    "data = [\n",
    "    ('Ramesh', 'cya'),\n",
    "    ('Suresh Sir', 'Best Wishes')\n",
    "]"
   ]
  },
  {
   "cell_type": "code",
   "execution_count": 1,
   "id": "87dfa4a1-cb4d-4a49-a5f4-209cfe0ea1f4",
   "metadata": {},
   "outputs": [],
   "source": [
    "import jinja2"
   ]
  },
  {
   "cell_type": "code",
   "execution_count": 7,
   "id": "4eda8a7e-404d-47fe-9ae3-ac4bc25dd596",
   "metadata": {},
   "outputs": [],
   "source": [
    "tmpl = jinja2.Template(new_year_greeting)"
   ]
  },
  {
   "cell_type": "code",
   "execution_count": 9,
   "id": "e5d2ed50-720d-4752-9db1-ae41a1217fbb",
   "metadata": {},
   "outputs": [
    {
     "name": "stdout",
     "output_type": "stream",
     "text": [
      "\n",
      "Hello Ramesh\n",
      "\n",
      "Hope you have a great year ahead!\n",
      "\n",
      "cya\n"
     ]
    }
   ],
   "source": [
    "print(tmpl.render(name='Ramesh', greeting='cya'))"
   ]
  },
  {
   "cell_type": "code",
   "execution_count": 13,
   "id": "645e9c11-0d43-407e-9609-79d8b804e54d",
   "metadata": {},
   "outputs": [
    {
     "name": "stdout",
     "output_type": "stream",
     "text": [
      "\n",
      "Hello Ramesh\n",
      "\n",
      "Hope you have a great year ahead!\n",
      "\n",
      "cya\n",
      "\n",
      "Hello Suresh Sir\n",
      "\n",
      "Hope you have a great year ahead!\n",
      "\n",
      "Best Wishes\n"
     ]
    }
   ],
   "source": [
    "for name, greeting in data:\n",
    "    print(tmpl.render(name=name, greeting=greeting))"
   ]
  },
  {
   "cell_type": "code",
   "execution_count": 14,
   "id": "bd12c556-ec35-4c31-90f3-0f78efecf954",
   "metadata": {},
   "outputs": [],
   "source": [
    "greeting_addresses = '''\n",
    "Addresses coming below:\n",
    "\n",
    "-----------\n",
    "\n",
    "Ramesh\n",
    "#1, so-n-so lane, Chennai\n",
    "\n",
    "-----------\n",
    "\n",
    "Suresh\n",
    "#2 ......\n",
    "\n",
    "-------\n",
    "\n",
    "End of addresses\n",
    "'''"
   ]
  },
  {
   "cell_type": "code",
   "execution_count": 16,
   "id": "bf913e8f-2ffd-4922-b0f2-0e6b01d2adbe",
   "metadata": {},
   "outputs": [],
   "source": [
    "address_data = [\n",
    "    {\n",
    "        'name': 'Ramesh',\n",
    "        'address': '#1, xyz'\n",
    "    },\n",
    "    {\n",
    "        'name': 'Suresh',\n",
    "        'address': '#2, pqr'\n",
    "    },\n",
    "    \n",
    "]"
   ]
  },
  {
   "cell_type": "code",
   "execution_count": 15,
   "id": "cd6abd2e-0abe-4582-9ef0-ec1d08e17483",
   "metadata": {},
   "outputs": [],
   "source": [
    "addresses_tmpl_str = '''\n",
    "Addresses coming below:\n",
    "\n",
    "{% for item in data %}\n",
    "-----------\n",
    "\n",
    "{{item.name}}\n",
    "{{item.address}}\n",
    "\n",
    "{% endfor %}\n",
    "\n",
    "-------\n",
    "\n",
    "End of addresses\n",
    "'''"
   ]
  },
  {
   "cell_type": "code",
   "execution_count": 18,
   "id": "f32d4a2e-0c79-4b31-94b6-ebb922bfc291",
   "metadata": {},
   "outputs": [
    {
     "name": "stdout",
     "output_type": "stream",
     "text": [
      "\n",
      "Addresses coming below:\n",
      "\n",
      "\n",
      "-----------\n",
      "\n",
      "Ramesh\n",
      "#1, xyz\n",
      "\n",
      "\n",
      "-----------\n",
      "\n",
      "Suresh\n",
      "#2, pqr\n",
      "\n",
      "\n",
      "\n",
      "-------\n",
      "\n",
      "End of addresses\n"
     ]
    }
   ],
   "source": [
    "tmpl = jinja2.Template(addresses_tmpl_str)\n",
    "print(tmpl.render(data=address_data))"
   ]
  },
  {
   "cell_type": "code",
   "execution_count": null,
   "id": "7066dfeb-6b15-4632-bcc6-21d32757e5f8",
   "metadata": {},
   "outputs": [],
   "source": []
  },
  {
   "cell_type": "code",
   "execution_count": null,
   "id": "0cb2e0c9-4dea-4c57-80a0-9ba657c4465d",
   "metadata": {},
   "outputs": [],
   "source": []
  },
  {
   "cell_type": "code",
   "execution_count": null,
   "id": "ee074136-8f48-4fbf-93d0-93160fca3932",
   "metadata": {},
   "outputs": [],
   "source": []
  }
 ],
 "metadata": {
  "kernelspec": {
   "display_name": "Python 3 (ipykernel)",
   "language": "python",
   "name": "python3"
  },
  "language_info": {
   "codemirror_mode": {
    "name": "ipython",
    "version": 3
   },
   "file_extension": ".py",
   "mimetype": "text/x-python",
   "name": "python",
   "nbconvert_exporter": "python",
   "pygments_lexer": "ipython3",
   "version": "3.11.0"
  }
 },
 "nbformat": 4,
 "nbformat_minor": 5
}
