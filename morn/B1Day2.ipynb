{
 "cells": [
  {
   "cell_type": "markdown",
   "id": "993d69cc-6098-4c30-8e88-2f6f02dd1e63",
   "metadata": {},
   "source": [
    "# Day2 Agenda\n",
    "\n",
    "- List methods\n",
    "- Strings\n",
    "- Dictionaries\n",
    "- Flow Control (loops, if-else)"
   ]
  },
  {
   "cell_type": "markdown",
   "id": "d71c8618-42bb-4937-8046-92ed0a9997a1",
   "metadata": {},
   "source": [
    "## List Methods\n",
    "\n",
    "    Method\n",
    "        Function that can be called only through an object (`object.method()`)"
   ]
  },
  {
   "cell_type": "code",
   "execution_count": 7,
   "id": "cfe33050-64da-4e72-804b-557d5e73921b",
   "metadata": {},
   "outputs": [],
   "source": [
    "nums = list(range(10,100,10))\n",
    "numslazy = range(10,100,10)"
   ]
  },
  {
   "cell_type": "code",
   "execution_count": 5,
   "id": "12053635-5ea7-4b4c-b21d-5d2e61c494ab",
   "metadata": {},
   "outputs": [
    {
     "data": {
      "text/plain": [
       "9"
      ]
     },
     "execution_count": 5,
     "metadata": {},
     "output_type": "execute_result"
    }
   ],
   "source": [
    "len(nums)"
   ]
  },
  {
   "cell_type": "code",
   "execution_count": 6,
   "id": "ba6424dd-b50a-449b-befc-8786e563ed6a",
   "metadata": {},
   "outputs": [
    {
     "data": {
      "text/plain": [
       "[10, 20, 30, 40, 50, 60, 70, 80, 90]"
      ]
     },
     "execution_count": 6,
     "metadata": {},
     "output_type": "execute_result"
    }
   ],
   "source": [
    "nums"
   ]
  },
  {
   "cell_type": "code",
   "execution_count": 8,
   "id": "03e38eea-aa99-449c-a85b-2724cb185c03",
   "metadata": {},
   "outputs": [],
   "source": [
    "nums.append(100)     # in-place modification"
   ]
  },
  {
   "cell_type": "code",
   "execution_count": 9,
   "id": "5ee0e237-b63e-4895-8ff6-dabce92e57db",
   "metadata": {},
   "outputs": [
    {
     "data": {
      "text/plain": [
       "[10, 20, 30, 40, 50, 60, 70, 80, 90, 100]"
      ]
     },
     "execution_count": 9,
     "metadata": {},
     "output_type": "execute_result"
    }
   ],
   "source": [
    "nums"
   ]
  },
  {
   "cell_type": "code",
   "execution_count": 10,
   "id": "f8e2b2a1-3b13-42bc-bae6-9aecc2778a1f",
   "metadata": {},
   "outputs": [
    {
     "data": {
      "text/plain": [
       "[299, 10, 20, 30, 40, 50, 60, 70, 80, 90, 100]"
      ]
     },
     "execution_count": 10,
     "metadata": {},
     "output_type": "execute_result"
    }
   ],
   "source": [
    "nums.insert(0, 299)\n",
    "nums"
   ]
  },
  {
   "cell_type": "code",
   "execution_count": 11,
   "id": "071d11c1-8749-40e0-b6c0-48c091b60d2d",
   "metadata": {},
   "outputs": [
    {
     "data": {
      "text/plain": [
       "100"
      ]
     },
     "execution_count": 11,
     "metadata": {},
     "output_type": "execute_result"
    }
   ],
   "source": [
    "nums.pop()"
   ]
  },
  {
   "cell_type": "code",
   "execution_count": 12,
   "id": "af75d99c-55b2-4564-be5a-66638fba7d3e",
   "metadata": {},
   "outputs": [
    {
     "data": {
      "text/plain": [
       "[299, 10, 20, 30, 40, 50, 60, 70, 80, 90]"
      ]
     },
     "execution_count": 12,
     "metadata": {},
     "output_type": "execute_result"
    }
   ],
   "source": [
    "nums"
   ]
  },
  {
   "cell_type": "code",
   "execution_count": 13,
   "id": "adb2ea74-ae08-4e22-85de-55eebe77f2d7",
   "metadata": {},
   "outputs": [],
   "source": [
    "third = nums.pop(3)"
   ]
  },
  {
   "cell_type": "code",
   "execution_count": 14,
   "id": "4a3d5d01-2005-4055-8b32-099ad3a49165",
   "metadata": {},
   "outputs": [
    {
     "data": {
      "text/plain": [
       "30"
      ]
     },
     "execution_count": 14,
     "metadata": {},
     "output_type": "execute_result"
    }
   ],
   "source": [
    "third"
   ]
  },
  {
   "cell_type": "code",
   "execution_count": 15,
   "id": "7224c659-faf4-4837-99c5-3c6ec2a48c35",
   "metadata": {},
   "outputs": [
    {
     "data": {
      "text/plain": [
       "[299, 10, 20, 40, 50, 60, 70, 80, 90]"
      ]
     },
     "execution_count": 15,
     "metadata": {},
     "output_type": "execute_result"
    }
   ],
   "source": [
    "nums"
   ]
  },
  {
   "cell_type": "code",
   "execution_count": 16,
   "id": "5f7f6f26-264e-4346-a1cb-ffd4073788d6",
   "metadata": {},
   "outputs": [
    {
     "data": {
      "text/plain": [
       "[10, 20, 40, 50, 60, 70, 80, 90]"
      ]
     },
     "execution_count": 16,
     "metadata": {},
     "output_type": "execute_result"
    }
   ],
   "source": [
    "nums.remove(299)\n",
    "nums"
   ]
  },
  {
   "cell_type": "code",
   "execution_count": 17,
   "id": "3bdff824-93de-42b9-b191-c5d205c3ee51",
   "metadata": {},
   "outputs": [
    {
     "ename": "ValueError",
     "evalue": "list.remove(x): x not in list",
     "output_type": "error",
     "traceback": [
      "\u001b[0;31m---------------------------------------------------------------------------\u001b[0m",
      "\u001b[0;31mValueError\u001b[0m                                Traceback (most recent call last)",
      "Cell \u001b[0;32mIn[17], line 1\u001b[0m\n\u001b[0;32m----> 1\u001b[0m nums\u001b[38;5;241m.\u001b[39mremove(\u001b[38;5;241m111\u001b[39m)\n",
      "\u001b[0;31mValueError\u001b[0m: list.remove(x): x not in list"
     ]
    }
   ],
   "source": [
    "nums.remove(111)"
   ]
  },
  {
   "cell_type": "code",
   "execution_count": 18,
   "id": "42b284e2-2647-4cbe-a9cf-8da47aebab04",
   "metadata": {},
   "outputs": [
    {
     "data": {
      "text/plain": [
       "1"
      ]
     },
     "execution_count": 18,
     "metadata": {},
     "output_type": "execute_result"
    }
   ],
   "source": [
    "nums.count(90)"
   ]
  },
  {
   "cell_type": "code",
   "execution_count": 19,
   "id": "14bcf72b-6f05-4423-96c6-842d7f403774",
   "metadata": {},
   "outputs": [
    {
     "data": {
      "text/plain": [
       "0"
      ]
     },
     "execution_count": 19,
     "metadata": {},
     "output_type": "execute_result"
    }
   ],
   "source": [
    "nums.count(299)"
   ]
  },
  {
   "cell_type": "code",
   "execution_count": 20,
   "id": "5361df60-3d27-4861-8128-e42be7caae53",
   "metadata": {},
   "outputs": [
    {
     "data": {
      "text/plain": [
       "7"
      ]
     },
     "execution_count": 20,
     "metadata": {},
     "output_type": "execute_result"
    }
   ],
   "source": [
    "nums.index(90)"
   ]
  },
  {
   "cell_type": "code",
   "execution_count": 21,
   "id": "2027320b-e9fe-4934-bd8c-39b17c9c8dac",
   "metadata": {},
   "outputs": [
    {
     "ename": "ValueError",
     "evalue": "299 is not in list",
     "output_type": "error",
     "traceback": [
      "\u001b[0;31m---------------------------------------------------------------------------\u001b[0m",
      "\u001b[0;31mValueError\u001b[0m                                Traceback (most recent call last)",
      "Cell \u001b[0;32mIn[21], line 1\u001b[0m\n\u001b[0;32m----> 1\u001b[0m nums\u001b[38;5;241m.\u001b[39mindex(\u001b[38;5;241m299\u001b[39m)\n",
      "\u001b[0;31mValueError\u001b[0m: 299 is not in list"
     ]
    }
   ],
   "source": [
    "nums.index(299)"
   ]
  },
  {
   "cell_type": "code",
   "execution_count": null,
   "id": "53883f87-0793-45e5-baa2-9dd971e90215",
   "metadata": {},
   "outputs": [],
   "source": [
    "found = nums.index(0978439087)\n",
    "nums[found]"
   ]
  },
  {
   "cell_type": "code",
   "execution_count": 22,
   "id": "c3b353af-d9fe-415b-a3dc-a8ad1e2d6998",
   "metadata": {},
   "outputs": [
    {
     "data": {
      "text/plain": [
       "[10, 20, 40, 50, 60, 70, 80, 90]"
      ]
     },
     "execution_count": 22,
     "metadata": {},
     "output_type": "execute_result"
    }
   ],
   "source": [
    "nums"
   ]
  },
  {
   "cell_type": "code",
   "execution_count": 23,
   "id": "1db48974-aa4d-40cf-b12c-72689ad4d2b8",
   "metadata": {},
   "outputs": [
    {
     "data": {
      "text/plain": [
       "[10, 20, 40, 50, 60, 70, 80, 90, 1, 2, 3, 4]"
      ]
     },
     "execution_count": 23,
     "metadata": {},
     "output_type": "execute_result"
    }
   ],
   "source": [
    "nums.extend([1,2,3,4])\n",
    "nums"
   ]
  },
  {
   "cell_type": "code",
   "execution_count": 24,
   "id": "902fac80-cca7-49cb-bc2b-7eaed449c3e0",
   "metadata": {},
   "outputs": [
    {
     "data": {
      "text/plain": [
       "[10, 20, 40, 50, 60, 70, 80, 90, 1, 2, 3, 4, [1, 2, 3, 4]]"
      ]
     },
     "execution_count": 24,
     "metadata": {},
     "output_type": "execute_result"
    }
   ],
   "source": [
    "nums.append([1,2,3,4])\n",
    "nums"
   ]
  },
  {
   "cell_type": "code",
   "execution_count": 25,
   "id": "11f09136-9353-4318-9e0e-0100cc733d47",
   "metadata": {},
   "outputs": [
    {
     "ename": "TypeError",
     "evalue": "list.append() takes exactly one argument (4 given)",
     "output_type": "error",
     "traceback": [
      "\u001b[0;31m---------------------------------------------------------------------------\u001b[0m",
      "\u001b[0;31mTypeError\u001b[0m                                 Traceback (most recent call last)",
      "Cell \u001b[0;32mIn[25], line 1\u001b[0m\n\u001b[0;32m----> 1\u001b[0m nums\u001b[38;5;241m.\u001b[39mappend(\u001b[38;5;241m1\u001b[39m,\u001b[38;5;241m2\u001b[39m,\u001b[38;5;241m3\u001b[39m,\u001b[38;5;241m4\u001b[39m)\n",
      "\u001b[0;31mTypeError\u001b[0m: list.append() takes exactly one argument (4 given)"
     ]
    }
   ],
   "source": [
    "nums.append(1,2,3,4)"
   ]
  },
  {
   "cell_type": "code",
   "execution_count": 26,
   "id": "3a1c5b5f-8acb-4d4f-96ea-243fce996d56",
   "metadata": {},
   "outputs": [
    {
     "ename": "TypeError",
     "evalue": "'int' object is not iterable",
     "output_type": "error",
     "traceback": [
      "\u001b[0;31m---------------------------------------------------------------------------\u001b[0m",
      "\u001b[0;31mTypeError\u001b[0m                                 Traceback (most recent call last)",
      "Cell \u001b[0;32mIn[26], line 1\u001b[0m\n\u001b[0;32m----> 1\u001b[0m nums\u001b[38;5;241m.\u001b[39mextend(\u001b[38;5;241m1\u001b[39m)\n",
      "\u001b[0;31mTypeError\u001b[0m: 'int' object is not iterable"
     ]
    }
   ],
   "source": [
    "nums.extend(1)"
   ]
  },
  {
   "cell_type": "code",
   "execution_count": 27,
   "id": "7a5e5ff5-2056-4d7a-bf51-1671e8000e34",
   "metadata": {},
   "outputs": [
    {
     "data": {
      "text/plain": [
       "[10, 20, 40, 50, 60, 70, 80, 90, 1, 2, 3, 4, [1, 2, 3, 4]]"
      ]
     },
     "execution_count": 27,
     "metadata": {},
     "output_type": "execute_result"
    }
   ],
   "source": [
    "nums"
   ]
  },
  {
   "cell_type": "code",
   "execution_count": 28,
   "id": "2cfef5af-17c6-4023-9e57-be6d9c98e2a1",
   "metadata": {},
   "outputs": [
    {
     "ename": "TypeError",
     "evalue": "'<' not supported between instances of 'list' and 'int'",
     "output_type": "error",
     "traceback": [
      "\u001b[0;31m---------------------------------------------------------------------------\u001b[0m",
      "\u001b[0;31mTypeError\u001b[0m                                 Traceback (most recent call last)",
      "Cell \u001b[0;32mIn[28], line 1\u001b[0m\n\u001b[0;32m----> 1\u001b[0m nums\u001b[38;5;241m.\u001b[39msort()\n",
      "\u001b[0;31mTypeError\u001b[0m: '<' not supported between instances of 'list' and 'int'"
     ]
    }
   ],
   "source": [
    "nums.sort()"
   ]
  },
  {
   "cell_type": "code",
   "execution_count": 29,
   "id": "69219663-a45c-4e1c-9aa8-1a557b9a5c85",
   "metadata": {},
   "outputs": [
    {
     "data": {
      "text/plain": [
       "[1, 2, 3, 4]"
      ]
     },
     "execution_count": 29,
     "metadata": {},
     "output_type": "execute_result"
    }
   ],
   "source": [
    "nums.pop()"
   ]
  },
  {
   "cell_type": "code",
   "execution_count": 33,
   "id": "a8462176-2756-4a0c-a2c8-ace47bae5725",
   "metadata": {},
   "outputs": [],
   "source": [
    "nums.sort(reverse=True)"
   ]
  },
  {
   "cell_type": "code",
   "execution_count": 31,
   "id": "a09cd68d-77b7-4b8b-b577-029232acf014",
   "metadata": {},
   "outputs": [
    {
     "data": {
      "text/plain": [
       "[1, 2, 3, 4, 10, 20, 40, 50, 60, 70, 80, 90]"
      ]
     },
     "execution_count": 31,
     "metadata": {},
     "output_type": "execute_result"
    }
   ],
   "source": [
    "nums"
   ]
  },
  {
   "cell_type": "code",
   "execution_count": 32,
   "id": "4e515444-0cc4-4a72-9f11-57d578aac44f",
   "metadata": {},
   "outputs": [
    {
     "data": {
      "text/plain": [
       "['alexandar', 'flower', 'zamboo']"
      ]
     },
     "execution_count": 32,
     "metadata": {},
     "output_type": "execute_result"
    }
   ],
   "source": [
    "names = ['alexandar', 'zamboo', 'flower']\n",
    "names.sort()\n",
    "names"
   ]
  },
  {
   "cell_type": "code",
   "execution_count": 40,
   "id": "8db33d72-441e-40c4-8ef4-4a475cd33012",
   "metadata": {},
   "outputs": [],
   "source": [
    "val = nums.sort()"
   ]
  },
  {
   "cell_type": "code",
   "execution_count": 41,
   "id": "948b459f-4815-4d9c-9207-7dde9dce9b28",
   "metadata": {},
   "outputs": [],
   "source": [
    "val"
   ]
  },
  {
   "cell_type": "code",
   "execution_count": 42,
   "id": "cabb6d19-922c-495d-a900-10d008422192",
   "metadata": {},
   "outputs": [],
   "source": [
    "None"
   ]
  },
  {
   "cell_type": "code",
   "execution_count": 44,
   "id": "f5f9ecfb-cd1d-4b1f-89f2-0095b22b899e",
   "metadata": {},
   "outputs": [
    {
     "data": {
      "text/plain": [
       "True"
      ]
     },
     "execution_count": 44,
     "metadata": {},
     "output_type": "execute_result"
    }
   ],
   "source": [
    "val == None\n",
    "val is None"
   ]
  },
  {
   "cell_type": "code",
   "execution_count": 45,
   "id": "f49a8df2-399d-4eab-8a34-7646ce9e5d88",
   "metadata": {},
   "outputs": [
    {
     "ename": "AttributeError",
     "evalue": "'NoneType' object has no attribute 'reverse'",
     "output_type": "error",
     "traceback": [
      "\u001b[0;31m---------------------------------------------------------------------------\u001b[0m",
      "\u001b[0;31mAttributeError\u001b[0m                            Traceback (most recent call last)",
      "Cell \u001b[0;32mIn[45], line 1\u001b[0m\n\u001b[0;32m----> 1\u001b[0m nums\u001b[38;5;241m.\u001b[39msort()\u001b[38;5;241m.\u001b[39mreverse()\n",
      "\u001b[0;31mAttributeError\u001b[0m: 'NoneType' object has no attribute 'reverse'"
     ]
    }
   ],
   "source": [
    "nums.sort().reverse()"
   ]
  },
  {
   "cell_type": "code",
   "execution_count": 46,
   "id": "ccb8b019-3e61-4ec8-9e26-8c278fd1b4ab",
   "metadata": {},
   "outputs": [
    {
     "ename": "AttributeError",
     "evalue": "'list' object has no attribute 'blah'",
     "output_type": "error",
     "traceback": [
      "\u001b[0;31m---------------------------------------------------------------------------\u001b[0m",
      "\u001b[0;31mAttributeError\u001b[0m                            Traceback (most recent call last)",
      "Cell \u001b[0;32mIn[46], line 1\u001b[0m\n\u001b[0;32m----> 1\u001b[0m nums\u001b[38;5;241m.\u001b[39mblah()\n",
      "\u001b[0;31mAttributeError\u001b[0m: 'list' object has no attribute 'blah'"
     ]
    }
   ],
   "source": [
    "nums.blah()"
   ]
  },
  {
   "cell_type": "code",
   "execution_count": 51,
   "id": "83a95cd8-dc40-42ac-a83d-b26620bfc30d",
   "metadata": {},
   "outputs": [],
   "source": [
    "dwarves = ['Sleepy', 'Jumpy', 'Sneezy', 'Snoopy', 'Blockhead']\n",
    "giants = ['BFG', 'Hulk', 'Thanos']\n",
    "lost = 'Sneezy'"
   ]
  },
  {
   "cell_type": "code",
   "execution_count": 52,
   "id": "af19b7fa-e18d-44df-b321-8d342ec6c0b2",
   "metadata": {},
   "outputs": [
    {
     "data": {
      "text/plain": [
       "2"
      ]
     },
     "execution_count": 52,
     "metadata": {},
     "output_type": "execute_result"
    }
   ],
   "source": [
    "# Find the lost dwarf\n",
    "dwarves.index(lost)"
   ]
  },
  {
   "cell_type": "code",
   "execution_count": 58,
   "id": "d250b737-71ee-44d5-9508-354ef2eb12d5",
   "metadata": {},
   "outputs": [],
   "source": [
    "# Get the last two dwarves in the front\n",
    "last = dwarves.pop()\n",
    "dwarves.insert(0, last)"
   ]
  },
  {
   "cell_type": "code",
   "execution_count": 59,
   "id": "fbf9bbcd-baf8-4769-8680-1ab7f21b30f2",
   "metadata": {},
   "outputs": [
    {
     "data": {
      "text/plain": [
       "['Sleepy', 'Jumpy', 'Sneezy', 'Snoopy', 'Blockhead']"
      ]
     },
     "execution_count": 59,
     "metadata": {},
     "output_type": "execute_result"
    }
   ],
   "source": [
    "dwarves"
   ]
  },
  {
   "cell_type": "code",
   "execution_count": 64,
   "id": "78c8c33c-6168-4b39-a4aa-de08caf6b253",
   "metadata": {},
   "outputs": [
    {
     "ename": "ValueError",
     "evalue": "list.remove(x): x not in list",
     "output_type": "error",
     "traceback": [
      "\u001b[0;31m---------------------------------------------------------------------------\u001b[0m",
      "\u001b[0;31mValueError\u001b[0m                                Traceback (most recent call last)",
      "Cell \u001b[0;32mIn[64], line 3\u001b[0m\n\u001b[1;32m      1\u001b[0m \u001b[38;5;66;03m# one big happy family minus the lost members\u001b[39;00m\n\u001b[1;32m      2\u001b[0m obhf \u001b[38;5;241m=\u001b[39m dwarves \u001b[38;5;241m+\u001b[39m giants\n\u001b[0;32m----> 3\u001b[0m obhf\u001b[38;5;241m.\u001b[39mremove(lost)\n",
      "\u001b[0;31mValueError\u001b[0m: list.remove(x): x not in list"
     ]
    }
   ],
   "source": [
    "# one big happy family minus the lost members\n",
    "obhf = dwarves + giants\n",
    "obhf.remove(lost)"
   ]
  },
  {
   "cell_type": "code",
   "execution_count": 61,
   "id": "68b7b037-ef4f-4e5f-94ad-6f716d462a6c",
   "metadata": {},
   "outputs": [],
   "source": [
    "dwarves.extend(giants)"
   ]
  },
  {
   "cell_type": "code",
   "execution_count": 62,
   "id": "b55b669d-efdc-4c08-8b03-f5756cd4e0b9",
   "metadata": {},
   "outputs": [],
   "source": [
    "dwarves.remove(lost)"
   ]
  },
  {
   "cell_type": "code",
   "execution_count": 66,
   "id": "a22e2eb6-34f1-4d00-962b-2fa27e709ac6",
   "metadata": {},
   "outputs": [
    {
     "data": {
      "text/plain": [
       "True"
      ]
     },
     "execution_count": 66,
     "metadata": {},
     "output_type": "execute_result"
    }
   ],
   "source": [
    "dwarves.count(lost) == 0"
   ]
  },
  {
   "cell_type": "code",
   "execution_count": 67,
   "id": "63d9eeb9-8d94-4f40-a7cd-1e33f3481ad0",
   "metadata": {},
   "outputs": [
    {
     "data": {
      "text/plain": [
       "False"
      ]
     },
     "execution_count": 67,
     "metadata": {},
     "output_type": "execute_result"
    }
   ],
   "source": [
    "lost in dwarves  # membership check operator"
   ]
  },
  {
   "cell_type": "code",
   "execution_count": 68,
   "id": "5b6441fc-586d-4c36-98e4-ff700319c38c",
   "metadata": {},
   "outputs": [
    {
     "data": {
      "text/plain": [
       "[1, 2, 3, 4, 10, 20, 40, 50, 60, 70, 80, 90]"
      ]
     },
     "execution_count": 68,
     "metadata": {},
     "output_type": "execute_result"
    }
   ],
   "source": [
    "nums"
   ]
  },
  {
   "cell_type": "code",
   "execution_count": 69,
   "id": "c90d2fcf-4d0a-4f2a-b16a-6ccc7e23d042",
   "metadata": {},
   "outputs": [
    {
     "data": {
      "text/plain": [
       "True"
      ]
     },
     "execution_count": 69,
     "metadata": {},
     "output_type": "execute_result"
    }
   ],
   "source": [
    "50 in nums"
   ]
  },
  {
   "cell_type": "markdown",
   "id": "3275e0df-dbd8-4e9b-b417-ecf9e21cc3c6",
   "metadata": {},
   "source": [
    "## Strings"
   ]
  },
  {
   "cell_type": "code",
   "execution_count": 84,
   "id": "6c7b54cc-f74a-4768-8fb1-4bf7a7f107ef",
   "metadata": {},
   "outputs": [],
   "source": [
    "name = 'alexandar'\n",
    "address = \"1'st street, greece\"\n",
    "address = '1\\'st street, greece'\n",
    "longstr = '''hello\n",
    "world\n",
    "howdy'''\n",
    "emaill_pattern = r'\\w+@\\w+\\.\\w+'   # raw strings\n",
    "win_path = r'c:\\windows\\temp\\newfile.txt'\n",
    "win_path = 'c:\\\\windows\\\\temp\\\\newfile.txt'\n",
    "win_path = 'c:/windows/temp/newfile.txt'\n",
    "# mywinpath = r'c:\\users\\blah\\newfile.txt'\n",
    "# '\\U0x123"
   ]
  },
  {
   "cell_type": "code",
   "execution_count": 80,
   "id": "a8c8aa93-9217-44ae-b3a2-7aac9b3ea4f5",
   "metadata": {},
   "outputs": [
    {
     "name": "stdout",
     "output_type": "stream",
     "text": [
      "c:\\windows\\temp\\newfile.txt\n"
     ]
    }
   ],
   "source": [
    "print(win_path)"
   ]
  },
  {
   "cell_type": "code",
   "execution_count": 85,
   "id": "ffda5b68-7be7-43dd-84d4-6322254c79f4",
   "metadata": {},
   "outputs": [
    {
     "data": {
      "text/plain": [
       "\"alexandar1'st street, greece\""
      ]
     },
     "execution_count": 85,
     "metadata": {},
     "output_type": "execute_result"
    }
   ],
   "source": [
    "name + address   # concat"
   ]
  },
  {
   "cell_type": "code",
   "execution_count": 86,
   "id": "873629e2-4081-4547-98fd-cc6ac9623b1b",
   "metadata": {},
   "outputs": [
    {
     "data": {
      "text/plain": [
       "'alexandaralexandaralexandar'"
      ]
     },
     "execution_count": 86,
     "metadata": {},
     "output_type": "execute_result"
    }
   ],
   "source": [
    "name * 3   # rept"
   ]
  },
  {
   "cell_type": "code",
   "execution_count": 87,
   "id": "6ca031d4-14ee-4b1b-a73b-f30de22f81fd",
   "metadata": {},
   "outputs": [
    {
     "data": {
      "text/plain": [
       "'a'"
      ]
     },
     "execution_count": 87,
     "metadata": {},
     "output_type": "execute_result"
    }
   ],
   "source": [
    "name[0]"
   ]
  },
  {
   "cell_type": "code",
   "execution_count": 88,
   "id": "6e4054b6-3e04-4e8d-bf14-e4dc7998d6a0",
   "metadata": {},
   "outputs": [
    {
     "data": {
      "text/plain": [
       "'r'"
      ]
     },
     "execution_count": 88,
     "metadata": {},
     "output_type": "execute_result"
    }
   ],
   "source": [
    "name[-1]"
   ]
  },
  {
   "cell_type": "code",
   "execution_count": 89,
   "id": "4330f9ce-4921-4b67-96db-f397fae920ca",
   "metadata": {},
   "outputs": [
    {
     "data": {
      "text/plain": [
       "'lexanda'"
      ]
     },
     "execution_count": 89,
     "metadata": {},
     "output_type": "execute_result"
    }
   ],
   "source": [
    "name[1:-1]"
   ]
  },
  {
   "cell_type": "code",
   "execution_count": 90,
   "id": "1fc625cf-e033-46fe-b6bb-1e718a6b3d81",
   "metadata": {},
   "outputs": [
    {
     "data": {
      "text/plain": [
       "True"
      ]
     },
     "execution_count": 90,
     "metadata": {},
     "output_type": "execute_result"
    }
   ],
   "source": [
    "'lex' in name"
   ]
  },
  {
   "cell_type": "code",
   "execution_count": 91,
   "id": "7e4f99a1-cbb3-4463-b935-f0f3ca7dd31b",
   "metadata": {},
   "outputs": [
    {
     "data": {
      "text/plain": [
       "'ALEXANDAR'"
      ]
     },
     "execution_count": 91,
     "metadata": {},
     "output_type": "execute_result"
    }
   ],
   "source": [
    "name.upper()"
   ]
  },
  {
   "cell_type": "code",
   "execution_count": 92,
   "id": "b8657d4e-5920-4635-8524-4754439de560",
   "metadata": {},
   "outputs": [
    {
     "data": {
      "text/plain": [
       "'Alexandar'"
      ]
     },
     "execution_count": 92,
     "metadata": {},
     "output_type": "execute_result"
    }
   ],
   "source": [
    "name.capitalize()"
   ]
  },
  {
   "cell_type": "code",
   "execution_count": 93,
   "id": "c373b836-d7a6-4fa1-8e40-8945afb98f20",
   "metadata": {},
   "outputs": [
    {
     "data": {
      "text/plain": [
       "True"
      ]
     },
     "execution_count": 93,
     "metadata": {},
     "output_type": "execute_result"
    }
   ],
   "source": [
    "name.endswith('ar')"
   ]
  },
  {
   "cell_type": "code",
   "execution_count": 94,
   "id": "4ed2fe92-7ddb-4230-bc85-2a7bd2909479",
   "metadata": {},
   "outputs": [
    {
     "data": {
      "text/plain": [
       "True"
      ]
     },
     "execution_count": 94,
     "metadata": {},
     "output_type": "execute_result"
    }
   ],
   "source": [
    "name.startswith('alex')"
   ]
  },
  {
   "cell_type": "code",
   "execution_count": 96,
   "id": "b5e0c2a9-c742-46c4-80b5-3045d2f17d93",
   "metadata": {},
   "outputs": [
    {
     "data": {
      "text/plain": [
       "True"
      ]
     },
     "execution_count": 96,
     "metadata": {},
     "output_type": "execute_result"
    }
   ],
   "source": [
    "name.upper().startswith('ALEX')"
   ]
  },
  {
   "cell_type": "code",
   "execution_count": null,
   "id": "358ee052-3486-4d25-a168-29350f1191e8",
   "metadata": {},
   "outputs": [],
   "source": [
    "if name.startswith(...)  and name.endswith(...):\n",
    "    ...\n",
    "    "
   ]
  },
  {
   "cell_type": "code",
   "execution_count": 97,
   "id": "3532902e-418f-4cf3-bdc6-103a0412ec36",
   "metadata": {},
   "outputs": [
    {
     "data": {
      "text/plain": [
       "Ellipsis"
      ]
     },
     "execution_count": 97,
     "metadata": {},
     "output_type": "execute_result"
    }
   ],
   "source": [
    "..."
   ]
  },
  {
   "cell_type": "code",
   "execution_count": 98,
   "id": "236b03fa-2765-4844-8966-e5c34bc8063f",
   "metadata": {},
   "outputs": [
    {
     "data": {
      "text/plain": [
       "True"
      ]
     },
     "execution_count": 98,
     "metadata": {},
     "output_type": "execute_result"
    }
   ],
   "source": [
    "name.isalpha()"
   ]
  },
  {
   "cell_type": "code",
   "execution_count": 99,
   "id": "89103ec3-adfc-42df-b2bc-27a199a3134d",
   "metadata": {},
   "outputs": [
    {
     "data": {
      "text/plain": [
       "\"1'st street, greece\""
      ]
     },
     "execution_count": 99,
     "metadata": {},
     "output_type": "execute_result"
    }
   ],
   "source": [
    "address"
   ]
  },
  {
   "cell_type": "code",
   "execution_count": 100,
   "id": "f42e58c1-21e9-4e77-a915-6ff8f3e0f368",
   "metadata": {},
   "outputs": [
    {
     "data": {
      "text/plain": [
       "False"
      ]
     },
     "execution_count": 100,
     "metadata": {},
     "output_type": "execute_result"
    }
   ],
   "source": [
    "address.isalnum()"
   ]
  },
  {
   "cell_type": "code",
   "execution_count": 101,
   "id": "4921eb55-53bd-4ee3-ab83-a13704b382f3",
   "metadata": {},
   "outputs": [
    {
     "data": {
      "text/plain": [
       "7"
      ]
     },
     "execution_count": 101,
     "metadata": {},
     "output_type": "execute_result"
    }
   ],
   "source": [
    "name.index('ar')"
   ]
  },
  {
   "cell_type": "code",
   "execution_count": 102,
   "id": "fabdd45a-1a83-47b2-9267-e7861baa6516",
   "metadata": {},
   "outputs": [
    {
     "ename": "ValueError",
     "evalue": "substring not found",
     "output_type": "error",
     "traceback": [
      "\u001b[0;31m---------------------------------------------------------------------------\u001b[0m",
      "\u001b[0;31mValueError\u001b[0m                                Traceback (most recent call last)",
      "Cell \u001b[0;32mIn[102], line 1\u001b[0m\n\u001b[0;32m----> 1\u001b[0m name\u001b[38;5;241m.\u001b[39mindex(\u001b[38;5;124m'\u001b[39m\u001b[38;5;124mzap\u001b[39m\u001b[38;5;124m'\u001b[39m)\n",
      "\u001b[0;31mValueError\u001b[0m: substring not found"
     ]
    }
   ],
   "source": [
    "name.index('zap')"
   ]
  },
  {
   "cell_type": "code",
   "execution_count": 103,
   "id": "dd596e25-8542-4f08-b3d4-26095fcf03fe",
   "metadata": {},
   "outputs": [
    {
     "data": {
      "text/plain": [
       "-1"
      ]
     },
     "execution_count": 103,
     "metadata": {},
     "output_type": "execute_result"
    }
   ],
   "source": [
    "name.find('zap')"
   ]
  },
  {
   "cell_type": "code",
   "execution_count": 111,
   "id": "59b68b85-c309-43ff-ab52-0f0ddf85dc89",
   "metadata": {},
   "outputs": [
    {
     "data": {
      "text/plain": [
       "False"
      ]
     },
     "execution_count": 111,
     "metadata": {},
     "output_type": "execute_result"
    }
   ],
   "source": [
    "'zap' in name"
   ]
  },
  {
   "cell_type": "code",
   "execution_count": 108,
   "id": "45d98f61-da61-44a3-b4df-317542aa5be2",
   "metadata": {},
   "outputs": [],
   "source": [
    "name = '    alex    the   great   '"
   ]
  },
  {
   "cell_type": "code",
   "execution_count": 105,
   "id": "b3c36262-51df-4795-b50c-e3fee5a65995",
   "metadata": {},
   "outputs": [
    {
     "data": {
      "text/plain": [
       "False"
      ]
     },
     "execution_count": 105,
     "metadata": {},
     "output_type": "execute_result"
    }
   ],
   "source": [
    "name.startswith('al')"
   ]
  },
  {
   "cell_type": "code",
   "execution_count": 109,
   "id": "a94dba3f-dd2d-4504-a6a1-7087b6b85e2a",
   "metadata": {},
   "outputs": [
    {
     "data": {
      "text/plain": [
       "'alex    the   great'"
      ]
     },
     "execution_count": 109,
     "metadata": {},
     "output_type": "execute_result"
    }
   ],
   "source": [
    "name.strip()"
   ]
  },
  {
   "cell_type": "code",
   "execution_count": 110,
   "id": "55941017-38c8-43e9-a8bb-f99d0cc934e2",
   "metadata": {},
   "outputs": [
    {
     "data": {
      "text/plain": [
       "True"
      ]
     },
     "execution_count": 110,
     "metadata": {},
     "output_type": "execute_result"
    }
   ],
   "source": [
    "name.strip().startswith('al')"
   ]
  },
  {
   "cell_type": "code",
   "execution_count": null,
   "id": "f51950ed-8cbd-4ef0-bac7-cfc443ba02fa",
   "metadata": {},
   "outputs": [],
   "source": [
    "if 'zap' in name:\n",
    "    ..."
   ]
  },
  {
   "cell_type": "code",
   "execution_count": null,
   "id": "79ccbc03-f429-4144-a464-dae474b9aba8",
   "metadata": {},
   "outputs": [],
   "source": [
    "if name.find('zap') == -1:\n",
    "    ..."
   ]
  },
  {
   "cell_type": "code",
   "execution_count": 118,
   "id": "86bdfece-5639-4f6c-8822-30925c3851a4",
   "metadata": {},
   "outputs": [],
   "source": [
    "names = '     amar akbar \\t anthony     '"
   ]
  },
  {
   "cell_type": "code",
   "execution_count": 114,
   "id": "bb5d3212-0821-43f3-b539-b82753fac32a",
   "metadata": {},
   "outputs": [
    {
     "ename": "AttributeError",
     "evalue": "'list' object has no attribute 'upper'",
     "output_type": "error",
     "traceback": [
      "\u001b[0;31m---------------------------------------------------------------------------\u001b[0m",
      "\u001b[0;31mAttributeError\u001b[0m                            Traceback (most recent call last)",
      "Cell \u001b[0;32mIn[114], line 1\u001b[0m\n\u001b[0;32m----> 1\u001b[0m names\u001b[38;5;241m.\u001b[39msplit()\u001b[38;5;241m.\u001b[39mupper()\n",
      "\u001b[0;31mAttributeError\u001b[0m: 'list' object has no attribute 'upper'"
     ]
    }
   ],
   "source": [
    "names.split().upper()"
   ]
  },
  {
   "cell_type": "code",
   "execution_count": 120,
   "id": "12f3e44c-042e-4707-996c-596aca70b5c7",
   "metadata": {},
   "outputs": [
    {
     "data": {
      "text/plain": [
       "['amar', 'akbar', 'anthony']"
      ]
     },
     "execution_count": 120,
     "metadata": {},
     "output_type": "execute_result"
    }
   ],
   "source": [
    "# names.strip().split()\n",
    "names.split()"
   ]
  },
  {
   "cell_type": "code",
   "execution_count": null,
   "id": "51dbfe8e-18bc-4ff3-8652-02ceb14351fc",
   "metadata": {},
   "outputs": [],
   "source": [
    "first = 'Mohandas'\n",
    "middle = 'karamchand'\n",
    "last = 'GANDHI'\n",
    "'M.K.Gandhi'"
   ]
  },
  {
   "cell_type": "code",
   "execution_count": 122,
   "id": "17243dd5-0a3d-4c80-b212-8efc956ca8c1",
   "metadata": {},
   "outputs": [],
   "source": [
    "first = 'Mahender'\n",
    "middle = 'SINGH'\n",
    "last = 'dhoni'"
   ]
  },
  {
   "cell_type": "code",
   "execution_count": null,
   "id": "def8c5d7-491b-4574-bb5c-48fcd8a7b393",
   "metadata": {},
   "outputs": [],
   "source": [
    "'Mahender Singh Dhoni'"
   ]
  },
  {
   "cell_type": "code",
   "execution_count": 127,
   "id": "e7d28366-dfd8-40ca-be0d-c204e703024b",
   "metadata": {},
   "outputs": [
    {
     "data": {
      "text/plain": [
       "'Mahender Singh Dhoni'"
      ]
     },
     "execution_count": 127,
     "metadata": {},
     "output_type": "execute_result"
    }
   ],
   "source": [
    "first.capitalize() + ' ' + middle.capitalize() + ' ' + last.capitalize()\n",
    "(first + ' ' + middle + ' ' + last).title()\n",
    "' '.join([first, middle, last]).title()"
   ]
  },
  {
   "cell_type": "code",
   "execution_count": null,
   "id": "c784bfa8-2976-401e-aae5-3468f575b79d",
   "metadata": {},
   "outputs": [],
   "source": [
    "'M.S.Dhoni'"
   ]
  },
  {
   "cell_type": "code",
   "execution_count": 130,
   "id": "790b0f4c-14e5-4d43-b9f2-49f9b882557b",
   "metadata": {},
   "outputs": [
    {
     "data": {
      "text/plain": [
       "'M.S.Dhoni'"
      ]
     },
     "execution_count": 130,
     "metadata": {},
     "output_type": "execute_result"
    }
   ],
   "source": [
    "first.upper()[0] + '.' + middle.upper()[0] + '.' + last.capitalize()"
   ]
  },
  {
   "cell_type": "code",
   "execution_count": 130,
   "id": "579d896e-193a-43d1-a15a-764afdd4cbf8",
   "metadata": {},
   "outputs": [
    {
     "data": {
      "text/plain": [
       "'M.S.Dhoni'"
      ]
     },
     "execution_count": 130,
     "metadata": {},
     "output_type": "execute_result"
    }
   ],
   "source": [
    "p1 = first.upper()[0]\n",
    "p2 = middle.upper()[0] + '.' + last.capitalize()"
   ]
  },
  {
   "cell_type": "code",
   "execution_count": 132,
   "id": "439ee5e6-cdc7-4590-b0e0-920bc7c05835",
   "metadata": {},
   "outputs": [
    {
     "data": {
      "text/plain": [
       "5"
      ]
     },
     "execution_count": 132,
     "metadata": {},
     "output_type": "execute_result"
    }
   ],
   "source": [
    "first.index('der')"
   ]
  },
  {
   "cell_type": "code",
   "execution_count": 145,
   "id": "17c8098c-b68f-478a-8948-0857fb13481f",
   "metadata": {},
   "outputs": [
    {
     "data": {
      "text/plain": [
       "'M.S.Dhoni'"
      ]
     },
     "execution_count": 145,
     "metadata": {},
     "output_type": "execute_result"
    }
   ],
   "source": [
    "f, m, l = ' '.join([first, middle, last]).title().split()\n",
    "'.'.join([f[0], m[0], l])"
   ]
  },
  {
   "cell_type": "code",
   "execution_count": 142,
   "id": "9b591fd5-2d87-4c9c-af89-5b4f5c470495",
   "metadata": {},
   "outputs": [],
   "source": [
    "x = 10\n",
    "y = 20\n",
    "# Parallel (tuple) assignment\n",
    "x, y = 10, 20\n",
    "x, y = [10, 20]"
   ]
  },
  {
   "cell_type": "code",
   "execution_count": 139,
   "id": "c790c6e0-4199-49d0-8db7-beb15f4639c2",
   "metadata": {
    "scrolled": true
   },
   "outputs": [
    {
     "name": "stdout",
     "output_type": "stream",
     "text": [
      "The Zen of Python, by Tim Peters\n",
      "\n",
      "Beautiful is better than ugly.\n",
      "Explicit is better than implicit.\n",
      "Simple is better than complex.\n",
      "Complex is better than complicated.\n",
      "Flat is better than nested.\n",
      "Sparse is better than dense.\n",
      "Readability counts.\n",
      "Special cases aren't special enough to break the rules.\n",
      "Although practicality beats purity.\n",
      "Errors should never pass silently.\n",
      "Unless explicitly silenced.\n",
      "In the face of ambiguity, refuse the temptation to guess.\n",
      "There should be one-- and preferably only one --obvious way to do it.\n",
      "Although that way may not be obvious at first unless you're Dutch.\n",
      "Now is better than never.\n",
      "Although never is often better than *right* now.\n",
      "If the implementation is hard to explain, it's a bad idea.\n",
      "If the implementation is easy to explain, it may be a good idea.\n",
      "Namespaces are one honking great idea -- let's do more of those!\n"
     ]
    }
   ],
   "source": [
    "import this"
   ]
  },
  {
   "cell_type": "code",
   "execution_count": null,
   "id": "ec1b3b41-6ce8-4647-8511-809f4d9aa9e6",
   "metadata": {},
   "outputs": [],
   "source": []
  },
  {
   "cell_type": "markdown",
   "id": "71df2a59-a4bf-44e1-9fab-66806c38e7be",
   "metadata": {},
   "source": [
    "## Dictionaries\n",
    "\n",
    "    Lookup\n",
    "    Key-Value stores\n",
    "    Association (not sequence)"
   ]
  },
  {
   "cell_type": "code",
   "execution_count": 146,
   "id": "809d0e87-6ab4-46a2-9192-9f703cad3470",
   "metadata": {},
   "outputs": [],
   "source": [
    "prices = [12.45, 100.99 , 0.99]\n",
    "items = ['biscuit', 'chocolate', 'candy']"
   ]
  },
  {
   "cell_type": "code",
   "execution_count": 157,
   "id": "958ebc2c-7ff5-40fc-9e92-abf89c74795b",
   "metadata": {},
   "outputs": [
    {
     "name": "stdin",
     "output_type": "stream",
     "text": [
      "Enter item name candy\n"
     ]
    }
   ],
   "source": [
    "tofind = input('Enter item name')"
   ]
  },
  {
   "cell_type": "code",
   "execution_count": 149,
   "id": "e9cd501b-93cd-4f69-ac6b-9540cf8d9530",
   "metadata": {},
   "outputs": [
    {
     "data": {
      "text/plain": [
       "'candy'"
      ]
     },
     "execution_count": 149,
     "metadata": {},
     "output_type": "execute_result"
    }
   ],
   "source": [
    "tofind"
   ]
  },
  {
   "cell_type": "code",
   "execution_count": 158,
   "id": "769eb822-d469-4106-a36f-b348c0099ed8",
   "metadata": {},
   "outputs": [
    {
     "name": "stdout",
     "output_type": "stream",
     "text": [
      "0.99\n",
      "Done\n"
     ]
    }
   ],
   "source": [
    "if tofind in items:\n",
    "    idx = items.index(tofind)\n",
    "    print(prices[idx])\n",
    "    ...\n",
    "else:\n",
    "    print(tofind, 'item not present')\n",
    "    ...\n",
    "\n",
    "print('Done')"
   ]
  },
  {
   "cell_type": "code",
   "execution_count": 152,
   "id": "ddb8975f-88d1-4b70-a3c5-56db396b4a7f",
   "metadata": {},
   "outputs": [
    {
     "data": {
      "text/plain": [
       "0.99"
      ]
     },
     "execution_count": 152,
     "metadata": {},
     "output_type": "execute_result"
    }
   ],
   "source": [
    "prices[idx]"
   ]
  },
  {
   "cell_type": "code",
   "execution_count": 160,
   "id": "3a0f5564-5f7b-42d4-8faf-833d468a64ea",
   "metadata": {},
   "outputs": [],
   "source": [
    "if ...:\n",
    "    ...\n",
    "else:\n",
    "    ..."
   ]
  },
  {
   "cell_type": "code",
   "execution_count": 161,
   "id": "8fb39eb4-04d5-4507-9011-94432d4b972b",
   "metadata": {},
   "outputs": [],
   "source": [
    "item_prices = {'biscuit': 10.25, 'chocolate': 100.25, 'candy': 0.99}"
   ]
  },
  {
   "cell_type": "code",
   "execution_count": 162,
   "id": "8a4f5288-6d60-4e42-a9be-f5f08bba6767",
   "metadata": {},
   "outputs": [
    {
     "data": {
      "text/plain": [
       "dict"
      ]
     },
     "execution_count": 162,
     "metadata": {},
     "output_type": "execute_result"
    }
   ],
   "source": [
    "type(item_prices)"
   ]
  },
  {
   "cell_type": "code",
   "execution_count": 163,
   "id": "adfd2c25-f9ee-4625-b394-1f2ff0823c38",
   "metadata": {},
   "outputs": [
    {
     "data": {
      "text/plain": [
       "0.99"
      ]
     },
     "execution_count": 163,
     "metadata": {},
     "output_type": "execute_result"
    }
   ],
   "source": [
    "item_prices['candy']"
   ]
  },
  {
   "cell_type": "code",
   "execution_count": 164,
   "id": "e3052d98-3553-430e-8ffe-412e7039e4b4",
   "metadata": {},
   "outputs": [
    {
     "ename": "KeyError",
     "evalue": "'cookies'",
     "output_type": "error",
     "traceback": [
      "\u001b[0;31m---------------------------------------------------------------------------\u001b[0m",
      "\u001b[0;31mKeyError\u001b[0m                                  Traceback (most recent call last)",
      "Cell \u001b[0;32mIn[164], line 1\u001b[0m\n\u001b[0;32m----> 1\u001b[0m item_prices[\u001b[38;5;124m'\u001b[39m\u001b[38;5;124mcookies\u001b[39m\u001b[38;5;124m'\u001b[39m]\n",
      "\u001b[0;31mKeyError\u001b[0m: 'cookies'"
     ]
    }
   ],
   "source": [
    "item_prices['cookies']"
   ]
  },
  {
   "cell_type": "code",
   "execution_count": 167,
   "id": "38514ad9-f660-4987-80b4-854a0d0543b2",
   "metadata": {},
   "outputs": [],
   "source": [
    "if 'cookies' in item_prices:\n",
    "    ..."
   ]
  },
  {
   "cell_type": "code",
   "execution_count": 168,
   "id": "2b3427f3-1cc3-49c9-b04b-f3f364d5ac80",
   "metadata": {},
   "outputs": [],
   "source": [
    "store = {'abc': 1, 'def': 2, 123: 'xyz'}"
   ]
  },
  {
   "cell_type": "code",
   "execution_count": 169,
   "id": "30c107ad-c4b7-4a93-ae6c-3610e49e36f2",
   "metadata": {},
   "outputs": [
    {
     "data": {
      "text/plain": [
       "1"
      ]
     },
     "execution_count": 169,
     "metadata": {},
     "output_type": "execute_result"
    }
   ],
   "source": [
    "store['abc']"
   ]
  },
  {
   "cell_type": "code",
   "execution_count": 170,
   "id": "fd7c34d7-ef96-468a-aa36-8f390affb249",
   "metadata": {},
   "outputs": [
    {
     "data": {
      "text/plain": [
       "'xyz'"
      ]
     },
     "execution_count": 170,
     "metadata": {},
     "output_type": "execute_result"
    }
   ],
   "source": [
    "store[123]"
   ]
  },
  {
   "cell_type": "code",
   "execution_count": 171,
   "id": "dc6601b2-308d-4764-85f4-58fbc17b3928",
   "metadata": {},
   "outputs": [],
   "source": [
    "squares = {1:1, 2:4, 3:9}"
   ]
  },
  {
   "cell_type": "code",
   "execution_count": 173,
   "id": "11c16557-7eec-4a68-8438-f1b9a0604164",
   "metadata": {},
   "outputs": [
    {
     "data": {
      "text/plain": [
       "9"
      ]
     },
     "execution_count": 173,
     "metadata": {},
     "output_type": "execute_result"
    }
   ],
   "source": [
    "squares[3]"
   ]
  },
  {
   "cell_type": "code",
   "execution_count": 174,
   "id": "95a35dd1-6907-4f07-98ca-e0378fa3fea2",
   "metadata": {},
   "outputs": [],
   "source": [
    "item_prices['cookies'] = 123.45"
   ]
  },
  {
   "cell_type": "code",
   "execution_count": 175,
   "id": "bb3bb710-9a60-4ffa-9356-8291a4dfac1b",
   "metadata": {},
   "outputs": [
    {
     "data": {
      "text/plain": [
       "{'biscuit': 10.25, 'chocolate': 100.25, 'candy': 0.99, 'cookies': 123.45}"
      ]
     },
     "execution_count": 175,
     "metadata": {},
     "output_type": "execute_result"
    }
   ],
   "source": [
    "item_prices"
   ]
  },
  {
   "cell_type": "code",
   "execution_count": 176,
   "id": "58e47a48-af58-44db-bda8-94638dd9e077",
   "metadata": {},
   "outputs": [
    {
     "data": {
      "text/plain": [
       "{'biscuit': 10.25, 'chocolate': 110.25, 'candy': 0.99, 'cookies': 123.45}"
      ]
     },
     "execution_count": 176,
     "metadata": {},
     "output_type": "execute_result"
    }
   ],
   "source": [
    "item_prices['chocolate'] += 10\n",
    "item_prices"
   ]
  },
  {
   "cell_type": "code",
   "execution_count": 177,
   "id": "cb9b9a1c-7530-4de7-a37a-afa1de7158c0",
   "metadata": {},
   "outputs": [],
   "source": [
    "item_prices['candy'] = 0.50"
   ]
  },
  {
   "cell_type": "code",
   "execution_count": null,
   "id": "c6c6db5a-e3df-48c4-afee-fdd903fff75c",
   "metadata": {},
   "outputs": [],
   "source": [
    "item_prices['candy']"
   ]
  },
  {
   "cell_type": "code",
   "execution_count": 1,
   "id": "59e40a27-814c-4794-938b-130195408819",
   "metadata": {},
   "outputs": [],
   "source": [
    "marks = {\n",
    "    'anjali': [100, 99, 98, 100, 100],\n",
    "    'rahul': [42, 16, 9, 14, 98]\n",
    "}"
   ]
  },
  {
   "cell_type": "code",
   "execution_count": 2,
   "id": "16c25128-26d2-46d5-bc31-f047fc4ebd29",
   "metadata": {},
   "outputs": [
    {
     "data": {
      "text/plain": [
       "98"
      ]
     },
     "execution_count": 2,
     "metadata": {},
     "output_type": "execute_result"
    }
   ],
   "source": [
    "marks['rahul'][-1]"
   ]
  },
  {
   "cell_type": "code",
   "execution_count": null,
   "id": "72cb731b-d27e-414e-9cf2-f0f142b184ed",
   "metadata": {},
   "outputs": [],
   "source": [
    "dict."
   ]
  },
  {
   "cell_type": "code",
   "execution_count": null,
   "id": "ba60a0d9-e69a-4a71-aab1-6b4010e8a53d",
   "metadata": {},
   "outputs": [],
   "source": []
  },
  {
   "cell_type": "code",
   "execution_count": null,
   "id": "ee959194-f4e4-47a5-9023-862e465ce723",
   "metadata": {},
   "outputs": [],
   "source": []
  },
  {
   "cell_type": "code",
   "execution_count": null,
   "id": "8930292c-2aed-45b5-892b-8cd99130ddf6",
   "metadata": {},
   "outputs": [],
   "source": []
  },
  {
   "cell_type": "code",
   "execution_count": null,
   "id": "e3011b84-0027-4005-9d8e-1e30c36bc62e",
   "metadata": {},
   "outputs": [],
   "source": []
  },
  {
   "cell_type": "code",
   "execution_count": null,
   "id": "f9b0120a-b14a-4340-8d4a-e74b5fa61073",
   "metadata": {},
   "outputs": [],
   "source": []
  },
  {
   "cell_type": "code",
   "execution_count": null,
   "id": "8cdaae54-eea2-4ec0-b083-95718cfcfb4c",
   "metadata": {},
   "outputs": [],
   "source": []
  }
 ],
 "metadata": {
  "kernelspec": {
   "display_name": "Python 3 (ipykernel)",
   "language": "python",
   "name": "python3"
  },
  "language_info": {
   "codemirror_mode": {
    "name": "ipython",
    "version": 3
   },
   "file_extension": ".py",
   "mimetype": "text/x-python",
   "name": "python",
   "nbconvert_exporter": "python",
   "pygments_lexer": "ipython3",
   "version": "3.11.0"
  }
 },
 "nbformat": 4,
 "nbformat_minor": 5
}
