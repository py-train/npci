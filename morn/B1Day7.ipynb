{
 "cells": [
  {
   "cell_type": "markdown",
   "id": "301b1e26-5d27-494d-8b8f-a3749d8a7e1a",
   "metadata": {},
   "source": [
    "## ReST API's"
   ]
  },
  {
   "cell_type": "code",
   "execution_count": 2,
   "id": "0ef03af6-e869-43b9-bc4e-5bd7a03c755b",
   "metadata": {},
   "outputs": [],
   "source": [
    "import requests"
   ]
  },
  {
   "cell_type": "code",
   "execution_count": 1,
   "id": "7484d1cf-c276-4c78-a53f-7cca286de558",
   "metadata": {},
   "outputs": [],
   "source": [
    "baseurl = 'https://jsonplaceholder.typicode.com/todos'"
   ]
  },
  {
   "cell_type": "code",
   "execution_count": 16,
   "id": "bb38780c-3416-4e81-9a39-b7953d6c79e7",
   "metadata": {},
   "outputs": [
    {
     "data": {
      "text/plain": [
       "<Response [200]>"
      ]
     },
     "execution_count": 16,
     "metadata": {},
     "output_type": "execute_result"
    }
   ],
   "source": [
    "r = requests.get(baseurl)\n",
    "r"
   ]
  },
  {
   "cell_type": "code",
   "execution_count": 5,
   "id": "03d6b7c3-6b75-4c44-80e2-c5dca5e2eb58",
   "metadata": {
    "scrolled": true
   },
   "outputs": [
    {
     "data": {
      "text/plain": [
       "b'[\\n  {\\n    \"userId\": 1,\\n    \"id\": 1,\\n    \"title\": \"delectus aut autem\",\\n    \"completed\": false\\n  },\\n  {\\n    \"userId\": 1,\\n    \"id\": 2,\\n    \"title\": \"quis ut nam facilis et officia qui\",\\n    \"completed\": false\\n  },\\n  {\\n    \"userId\": 1,\\n    \"id\": 3,\\n    \"title\": \"fugiat veniam minus\",\\n    \"completed\": false\\n  },\\n  {\\n    \"userId\": 1,\\n    \"id\": 4,\\n    \"title\": \"et porro tempora\",\\n    \"completed\": true\\n  },\\n  {\\n    \"userId\": 1,\\n    \"id\": 5,\\n    \"title\": \"laboriosam mollitia et enim quasi adipisci quia provident illum\",\\n    \"completed\": false\\n  },\\n  {\\n    \"userId\": 1,\\n    \"id\": 6,\\n    \"title\": \"qui ullam ratione quibusdam voluptatem quia omnis\",\\n    \"completed\": false\\n  },\\n  {\\n    \"userId\": 1,\\n    \"id\": 7,\\n    \"title\": \"illo expedita consequatur quia in\",\\n    \"completed\": false\\n  },\\n  {\\n    \"userId\": 1,\\n    \"id\": 8,\\n    \"title\": \"quo adipisci enim quam ut ab\",\\n    \"completed\": true\\n  },\\n  {\\n    \"userId\": 1,\\n    \"id\": 9,\\n    \"title\": \"molestiae perspiciatis ipsa\",\\n    \"completed\": false\\n  },\\n  {\\n    \"userId\": 1,\\n    \"id\": 10,\\n    \"title\": \"illo est ratione doloremque quia maiores aut\",\\n    \"completed\": true\\n  },\\n  {\\n    \"userId\": 1,\\n    \"id\": 11,\\n    \"title\": \"vero rerum temporibus dolor\",\\n    \"completed\": true\\n  },\\n  {\\n    \"userId\": 1,\\n    \"id\": 12,\\n    \"title\": \"ipsa repellendus fugit nisi\",\\n    \"completed\": true\\n  },\\n  {\\n    \"userId\": 1,\\n    \"id\": 13,\\n    \"title\": \"et doloremque nulla\",\\n    \"completed\": false\\n  },\\n  {\\n    \"userId\": 1,\\n    \"id\": 14,\\n    \"title\": \"repellendus sunt dolores architecto voluptatum\",\\n    \"completed\": true\\n  },\\n  {\\n    \"userId\": 1,\\n    \"id\": 15,\\n    \"title\": \"ab voluptatum amet voluptas\",\\n    \"completed\": true\\n  },\\n  {\\n    \"userId\": 1,\\n    \"id\": 16,\\n    \"title\": \"accusamus eos facilis sint et aut voluptatem\",\\n    \"completed\": true\\n  },\\n  {\\n    \"userId\": 1,\\n    \"id\": 17,\\n    \"title\": \"quo laboriosam deleniti aut qui\",\\n    \"completed\": true\\n  },\\n  {\\n    \"userId\": 1,\\n    \"id\": 18,\\n    \"title\": \"dolorum est consequatur ea mollitia in culpa\",\\n    \"completed\": false\\n  },\\n  {\\n    \"userId\": 1,\\n    \"id\": 19,\\n    \"title\": \"molestiae ipsa aut voluptatibus pariatur dolor nihil\",\\n    \"completed\": true\\n  },\\n  {\\n    \"userId\": 1,\\n    \"id\": 20,\\n    \"title\": \"ullam nobis libero sapiente ad optio sint\",\\n    \"completed\": true\\n  },\\n  {\\n    \"userId\": 2,\\n    \"id\": 21,\\n    \"title\": \"suscipit repellat esse quibusdam voluptatem incidunt\",\\n    \"completed\": false\\n  },\\n  {\\n    \"userId\": 2,\\n    \"id\": 22,\\n    \"title\": \"distinctio vitae autem nihil ut molestias quo\",\\n    \"completed\": true\\n  },\\n  {\\n    \"userId\": 2,\\n    \"id\": 23,\\n    \"title\": \"et itaque necessitatibus maxime molestiae qui quas velit\",\\n    \"completed\": false\\n  },\\n  {\\n    \"userId\": 2,\\n    \"id\": 24,\\n    \"title\": \"adipisci non ad dicta qui amet quaerat doloribus ea\",\\n    \"completed\": false\\n  },\\n  {\\n    \"userId\": 2,\\n    \"id\": 25,\\n    \"title\": \"voluptas quo tenetur perspiciatis explicabo natus\",\\n    \"completed\": true\\n  },\\n  {\\n    \"userId\": 2,\\n    \"id\": 26,\\n    \"title\": \"aliquam aut quasi\",\\n    \"completed\": true\\n  },\\n  {\\n    \"userId\": 2,\\n    \"id\": 27,\\n    \"title\": \"veritatis pariatur delectus\",\\n    \"completed\": true\\n  },\\n  {\\n    \"userId\": 2,\\n    \"id\": 28,\\n    \"title\": \"nesciunt totam sit blanditiis sit\",\\n    \"completed\": false\\n  },\\n  {\\n    \"userId\": 2,\\n    \"id\": 29,\\n    \"title\": \"laborum aut in quam\",\\n    \"completed\": false\\n  },\\n  {\\n    \"userId\": 2,\\n    \"id\": 30,\\n    \"title\": \"nemo perspiciatis repellat ut dolor libero commodi blanditiis omnis\",\\n    \"completed\": true\\n  },\\n  {\\n    \"userId\": 2,\\n    \"id\": 31,\\n    \"title\": \"repudiandae totam in est sint facere fuga\",\\n    \"completed\": false\\n  },\\n  {\\n    \"userId\": 2,\\n    \"id\": 32,\\n    \"title\": \"earum doloribus ea doloremque quis\",\\n    \"completed\": false\\n  },\\n  {\\n    \"userId\": 2,\\n    \"id\": 33,\\n    \"title\": \"sint sit aut vero\",\\n    \"completed\": false\\n  },\\n  {\\n    \"userId\": 2,\\n    \"id\": 34,\\n    \"title\": \"porro aut necessitatibus eaque distinctio\",\\n    \"completed\": false\\n  },\\n  {\\n    \"userId\": 2,\\n    \"id\": 35,\\n    \"title\": \"repellendus veritatis molestias dicta incidunt\",\\n    \"completed\": true\\n  },\\n  {\\n    \"userId\": 2,\\n    \"id\": 36,\\n    \"title\": \"excepturi deleniti adipisci voluptatem et neque optio illum ad\",\\n    \"completed\": true\\n  },\\n  {\\n    \"userId\": 2,\\n    \"id\": 37,\\n    \"title\": \"sunt cum tempora\",\\n    \"completed\": false\\n  },\\n  {\\n    \"userId\": 2,\\n    \"id\": 38,\\n    \"title\": \"totam quia non\",\\n    \"completed\": false\\n  },\\n  {\\n    \"userId\": 2,\\n    \"id\": 39,\\n    \"title\": \"doloremque quibusdam asperiores libero corrupti illum qui omnis\",\\n    \"completed\": false\\n  },\\n  {\\n    \"userId\": 2,\\n    \"id\": 40,\\n    \"title\": \"totam atque quo nesciunt\",\\n    \"completed\": true\\n  },\\n  {\\n    \"userId\": 3,\\n    \"id\": 41,\\n    \"title\": \"aliquid amet impedit consequatur aspernatur placeat eaque fugiat suscipit\",\\n    \"completed\": false\\n  },\\n  {\\n    \"userId\": 3,\\n    \"id\": 42,\\n    \"title\": \"rerum perferendis error quia ut eveniet\",\\n    \"completed\": false\\n  },\\n  {\\n    \"userId\": 3,\\n    \"id\": 43,\\n    \"title\": \"tempore ut sint quis recusandae\",\\n    \"completed\": true\\n  },\\n  {\\n    \"userId\": 3,\\n    \"id\": 44,\\n    \"title\": \"cum debitis quis accusamus doloremque ipsa natus sapiente omnis\",\\n    \"completed\": true\\n  },\\n  {\\n    \"userId\": 3,\\n    \"id\": 45,\\n    \"title\": \"velit soluta adipisci molestias reiciendis harum\",\\n    \"completed\": false\\n  },\\n  {\\n    \"userId\": 3,\\n    \"id\": 46,\\n    \"title\": \"vel voluptatem repellat nihil placeat corporis\",\\n    \"completed\": false\\n  },\\n  {\\n    \"userId\": 3,\\n    \"id\": 47,\\n    \"title\": \"nam qui rerum fugiat accusamus\",\\n    \"completed\": false\\n  },\\n  {\\n    \"userId\": 3,\\n    \"id\": 48,\\n    \"title\": \"sit reprehenderit omnis quia\",\\n    \"completed\": false\\n  },\\n  {\\n    \"userId\": 3,\\n    \"id\": 49,\\n    \"title\": \"ut necessitatibus aut maiores debitis officia blanditiis velit et\",\\n    \"completed\": false\\n  },\\n  {\\n    \"userId\": 3,\\n    \"id\": 50,\\n    \"title\": \"cupiditate necessitatibus ullam aut quis dolor voluptate\",\\n    \"completed\": true\\n  },\\n  {\\n    \"userId\": 3,\\n    \"id\": 51,\\n    \"title\": \"distinctio exercitationem ab doloribus\",\\n    \"completed\": false\\n  },\\n  {\\n    \"userId\": 3,\\n    \"id\": 52,\\n    \"title\": \"nesciunt dolorum quis recusandae ad pariatur ratione\",\\n    \"completed\": false\\n  },\\n  {\\n    \"userId\": 3,\\n    \"id\": 53,\\n    \"title\": \"qui labore est occaecati recusandae aliquid quam\",\\n    \"completed\": false\\n  },\\n  {\\n    \"userId\": 3,\\n    \"id\": 54,\\n    \"title\": \"quis et est ut voluptate quam dolor\",\\n    \"completed\": true\\n  },\\n  {\\n    \"userId\": 3,\\n    \"id\": 55,\\n    \"title\": \"voluptatum omnis minima qui occaecati provident nulla voluptatem ratione\",\\n    \"completed\": true\\n  },\\n  {\\n    \"userId\": 3,\\n    \"id\": 56,\\n    \"title\": \"deleniti ea temporibus enim\",\\n    \"completed\": true\\n  },\\n  {\\n    \"userId\": 3,\\n    \"id\": 57,\\n    \"title\": \"pariatur et magnam ea doloribus similique voluptatem rerum quia\",\\n    \"completed\": false\\n  },\\n  {\\n    \"userId\": 3,\\n    \"id\": 58,\\n    \"title\": \"est dicta totam qui explicabo doloribus qui dignissimos\",\\n    \"completed\": false\\n  },\\n  {\\n    \"userId\": 3,\\n    \"id\": 59,\\n    \"title\": \"perspiciatis velit id laborum placeat iusto et aliquam odio\",\\n    \"completed\": false\\n  },\\n  {\\n    \"userId\": 3,\\n    \"id\": 60,\\n    \"title\": \"et sequi qui architecto ut adipisci\",\\n    \"completed\": true\\n  },\\n  {\\n    \"userId\": 4,\\n    \"id\": 61,\\n    \"title\": \"odit optio omnis qui sunt\",\\n    \"completed\": true\\n  },\\n  {\\n    \"userId\": 4,\\n    \"id\": 62,\\n    \"title\": \"et placeat et tempore aspernatur sint numquam\",\\n    \"completed\": false\\n  },\\n  {\\n    \"userId\": 4,\\n    \"id\": 63,\\n    \"title\": \"doloremque aut dolores quidem fuga qui nulla\",\\n    \"completed\": true\\n  },\\n  {\\n    \"userId\": 4,\\n    \"id\": 64,\\n    \"title\": \"voluptas consequatur qui ut quia magnam nemo esse\",\\n    \"completed\": false\\n  },\\n  {\\n    \"userId\": 4,\\n    \"id\": 65,\\n    \"title\": \"fugiat pariatur ratione ut asperiores necessitatibus magni\",\\n    \"completed\": false\\n  },\\n  {\\n    \"userId\": 4,\\n    \"id\": 66,\\n    \"title\": \"rerum eum molestias autem voluptatum sit optio\",\\n    \"completed\": false\\n  },\\n  {\\n    \"userId\": 4,\\n    \"id\": 67,\\n    \"title\": \"quia voluptatibus voluptatem quos similique maiores repellat\",\\n    \"completed\": false\\n  },\\n  {\\n    \"userId\": 4,\\n    \"id\": 68,\\n    \"title\": \"aut id perspiciatis voluptatem iusto\",\\n    \"completed\": false\\n  },\\n  {\\n    \"userId\": 4,\\n    \"id\": 69,\\n    \"title\": \"doloribus sint dolorum ab adipisci itaque dignissimos aliquam suscipit\",\\n    \"completed\": false\\n  },\\n  {\\n    \"userId\": 4,\\n    \"id\": 70,\\n    \"title\": \"ut sequi accusantium et mollitia delectus sunt\",\\n    \"completed\": false\\n  },\\n  {\\n    \"userId\": 4,\\n    \"id\": 71,\\n    \"title\": \"aut velit saepe ullam\",\\n    \"completed\": false\\n  },\\n  {\\n    \"userId\": 4,\\n    \"id\": 72,\\n    \"title\": \"praesentium facilis facere quis harum voluptatibus voluptatem eum\",\\n    \"completed\": false\\n  },\\n  {\\n    \"userId\": 4,\\n    \"id\": 73,\\n    \"title\": \"sint amet quia totam corporis qui exercitationem commodi\",\\n    \"completed\": true\\n  },\\n  {\\n    \"userId\": 4,\\n    \"id\": 74,\\n    \"title\": \"expedita tempore nobis eveniet laborum maiores\",\\n    \"completed\": false\\n  },\\n  {\\n    \"userId\": 4,\\n    \"id\": 75,\\n    \"title\": \"occaecati adipisci est possimus totam\",\\n    \"completed\": false\\n  },\\n  {\\n    \"userId\": 4,\\n    \"id\": 76,\\n    \"title\": \"sequi dolorem sed\",\\n    \"completed\": true\\n  },\\n  {\\n    \"userId\": 4,\\n    \"id\": 77,\\n    \"title\": \"maiores aut nesciunt delectus exercitationem vel assumenda eligendi at\",\\n    \"completed\": false\\n  },\\n  {\\n    \"userId\": 4,\\n    \"id\": 78,\\n    \"title\": \"reiciendis est magnam amet nemo iste recusandae impedit quaerat\",\\n    \"completed\": false\\n  },\\n  {\\n    \"userId\": 4,\\n    \"id\": 79,\\n    \"title\": \"eum ipsa maxime ut\",\\n    \"completed\": true\\n  },\\n  {\\n    \"userId\": 4,\\n    \"id\": 80,\\n    \"title\": \"tempore molestias dolores rerum sequi voluptates ipsum consequatur\",\\n    \"completed\": true\\n  },\\n  {\\n    \"userId\": 5,\\n    \"id\": 81,\\n    \"title\": \"suscipit qui totam\",\\n    \"completed\": true\\n  },\\n  {\\n    \"userId\": 5,\\n    \"id\": 82,\\n    \"title\": \"voluptates eum voluptas et dicta\",\\n    \"completed\": false\\n  },\\n  {\\n    \"userId\": 5,\\n    \"id\": 83,\\n    \"title\": \"quidem at rerum quis ex aut sit quam\",\\n    \"completed\": true\\n  },\\n  {\\n    \"userId\": 5,\\n    \"id\": 84,\\n    \"title\": \"sunt veritatis ut voluptate\",\\n    \"completed\": false\\n  },\\n  {\\n    \"userId\": 5,\\n    \"id\": 85,\\n    \"title\": \"et quia ad iste a\",\\n    \"completed\": true\\n  },\\n  {\\n    \"userId\": 5,\\n    \"id\": 86,\\n    \"title\": \"incidunt ut saepe autem\",\\n    \"completed\": true\\n  },\\n  {\\n    \"userId\": 5,\\n    \"id\": 87,\\n    \"title\": \"laudantium quae eligendi consequatur quia et vero autem\",\\n    \"completed\": true\\n  },\\n  {\\n    \"userId\": 5,\\n    \"id\": 88,\\n    \"title\": \"vitae aut excepturi laboriosam sint aliquam et et accusantium\",\\n    \"completed\": false\\n  },\\n  {\\n    \"userId\": 5,\\n    \"id\": 89,\\n    \"title\": \"sequi ut omnis et\",\\n    \"completed\": true\\n  },\\n  {\\n    \"userId\": 5,\\n    \"id\": 90,\\n    \"title\": \"molestiae nisi accusantium tenetur dolorem et\",\\n    \"completed\": true\\n  },\\n  {\\n    \"userId\": 5,\\n    \"id\": 91,\\n    \"title\": \"nulla quis consequatur saepe qui id expedita\",\\n    \"completed\": true\\n  },\\n  {\\n    \"userId\": 5,\\n    \"id\": 92,\\n    \"title\": \"in omnis laboriosam\",\\n    \"completed\": true\\n  },\\n  {\\n    \"userId\": 5,\\n    \"id\": 93,\\n    \"title\": \"odio iure consequatur molestiae quibusdam necessitatibus quia sint\",\\n    \"completed\": true\\n  },\\n  {\\n    \"userId\": 5,\\n    \"id\": 94,\\n    \"title\": \"facilis modi saepe mollitia\",\\n    \"completed\": false\\n  },\\n  {\\n    \"userId\": 5,\\n    \"id\": 95,\\n    \"title\": \"vel nihil et molestiae iusto assumenda nemo quo ut\",\\n    \"completed\": true\\n  },\\n  {\\n    \"userId\": 5,\\n    \"id\": 96,\\n    \"title\": \"nobis suscipit ducimus enim asperiores voluptas\",\\n    \"completed\": false\\n  },\\n  {\\n    \"userId\": 5,\\n    \"id\": 97,\\n    \"title\": \"dolorum laboriosam eos qui iure aliquam\",\\n    \"completed\": false\\n  },\\n  {\\n    \"userId\": 5,\\n    \"id\": 98,\\n    \"title\": \"debitis accusantium ut quo facilis nihil quis sapiente necessitatibus\",\\n    \"completed\": true\\n  },\\n  {\\n    \"userId\": 5,\\n    \"id\": 99,\\n    \"title\": \"neque voluptates ratione\",\\n    \"completed\": false\\n  },\\n  {\\n    \"userId\": 5,\\n    \"id\": 100,\\n    \"title\": \"excepturi a et neque qui expedita vel voluptate\",\\n    \"completed\": false\\n  },\\n  {\\n    \"userId\": 6,\\n    \"id\": 101,\\n    \"title\": \"explicabo enim cumque porro aperiam occaecati minima\",\\n    \"completed\": false\\n  },\\n  {\\n    \"userId\": 6,\\n    \"id\": 102,\\n    \"title\": \"sed ab consequatur\",\\n    \"completed\": false\\n  },\\n  {\\n    \"userId\": 6,\\n    \"id\": 103,\\n    \"title\": \"non sunt delectus illo nulla tenetur enim omnis\",\\n    \"completed\": false\\n  },\\n  {\\n    \"userId\": 6,\\n    \"id\": 104,\\n    \"title\": \"excepturi non laudantium quo\",\\n    \"completed\": false\\n  },\\n  {\\n    \"userId\": 6,\\n    \"id\": 105,\\n    \"title\": \"totam quia dolorem et illum repellat voluptas optio\",\\n    \"completed\": true\\n  },\\n  {\\n    \"userId\": 6,\\n    \"id\": 106,\\n    \"title\": \"ad illo quis voluptatem temporibus\",\\n    \"completed\": true\\n  },\\n  {\\n    \"userId\": 6,\\n    \"id\": 107,\\n    \"title\": \"praesentium facilis omnis laudantium fugit ad iusto nihil nesciunt\",\\n    \"completed\": false\\n  },\\n  {\\n    \"userId\": 6,\\n    \"id\": 108,\\n    \"title\": \"a eos eaque nihil et exercitationem incidunt delectus\",\\n    \"completed\": true\\n  },\\n  {\\n    \"userId\": 6,\\n    \"id\": 109,\\n    \"title\": \"autem temporibus harum quisquam in culpa\",\\n    \"completed\": true\\n  },\\n  {\\n    \"userId\": 6,\\n    \"id\": 110,\\n    \"title\": \"aut aut ea corporis\",\\n    \"completed\": true\\n  },\\n  {\\n    \"userId\": 6,\\n    \"id\": 111,\\n    \"title\": \"magni accusantium labore et id quis provident\",\\n    \"completed\": false\\n  },\\n  {\\n    \"userId\": 6,\\n    \"id\": 112,\\n    \"title\": \"consectetur impedit quisquam qui deserunt non rerum consequuntur eius\",\\n    \"completed\": false\\n  },\\n  {\\n    \"userId\": 6,\\n    \"id\": 113,\\n    \"title\": \"quia atque aliquam sunt impedit voluptatum rerum assumenda nisi\",\\n    \"completed\": false\\n  },\\n  {\\n    \"userId\": 6,\\n    \"id\": 114,\\n    \"title\": \"cupiditate quos possimus corporis quisquam exercitationem beatae\",\\n    \"completed\": false\\n  },\\n  {\\n    \"userId\": 6,\\n    \"id\": 115,\\n    \"title\": \"sed et ea eum\",\\n    \"completed\": false\\n  },\\n  {\\n    \"userId\": 6,\\n    \"id\": 116,\\n    \"title\": \"ipsa dolores vel facilis ut\",\\n    \"completed\": true\\n  },\\n  {\\n    \"userId\": 6,\\n    \"id\": 117,\\n    \"title\": \"sequi quae est et qui qui eveniet asperiores\",\\n    \"completed\": false\\n  },\\n  {\\n    \"userId\": 6,\\n    \"id\": 118,\\n    \"title\": \"quia modi consequatur vero fugiat\",\\n    \"completed\": false\\n  },\\n  {\\n    \"userId\": 6,\\n    \"id\": 119,\\n    \"title\": \"corporis ducimus ea perspiciatis iste\",\\n    \"completed\": false\\n  },\\n  {\\n    \"userId\": 6,\\n    \"id\": 120,\\n    \"title\": \"dolorem laboriosam vel voluptas et aliquam quasi\",\\n    \"completed\": false\\n  },\\n  {\\n    \"userId\": 7,\\n    \"id\": 121,\\n    \"title\": \"inventore aut nihil minima laudantium hic qui omnis\",\\n    \"completed\": true\\n  },\\n  {\\n    \"userId\": 7,\\n    \"id\": 122,\\n    \"title\": \"provident aut nobis culpa\",\\n    \"completed\": true\\n  },\\n  {\\n    \"userId\": 7,\\n    \"id\": 123,\\n    \"title\": \"esse et quis iste est earum aut impedit\",\\n    \"completed\": false\\n  },\\n  {\\n    \"userId\": 7,\\n    \"id\": 124,\\n    \"title\": \"qui consectetur id\",\\n    \"completed\": false\\n  },\\n  {\\n    \"userId\": 7,\\n    \"id\": 125,\\n    \"title\": \"aut quasi autem iste tempore illum possimus\",\\n    \"completed\": false\\n  },\\n  {\\n    \"userId\": 7,\\n    \"id\": 126,\\n    \"title\": \"ut asperiores perspiciatis veniam ipsum rerum saepe\",\\n    \"completed\": true\\n  },\\n  {\\n    \"userId\": 7,\\n    \"id\": 127,\\n    \"title\": \"voluptatem libero consectetur rerum ut\",\\n    \"completed\": true\\n  },\\n  {\\n    \"userId\": 7,\\n    \"id\": 128,\\n    \"title\": \"eius omnis est qui voluptatem autem\",\\n    \"completed\": false\\n  },\\n  {\\n    \"userId\": 7,\\n    \"id\": 129,\\n    \"title\": \"rerum culpa quis harum\",\\n    \"completed\": false\\n  },\\n  {\\n    \"userId\": 7,\\n    \"id\": 130,\\n    \"title\": \"nulla aliquid eveniet harum laborum libero alias ut unde\",\\n    \"completed\": true\\n  },\\n  {\\n    \"userId\": 7,\\n    \"id\": 131,\\n    \"title\": \"qui ea incidunt quis\",\\n    \"completed\": false\\n  },\\n  {\\n    \"userId\": 7,\\n    \"id\": 132,\\n    \"title\": \"qui molestiae voluptatibus velit iure harum quisquam\",\\n    \"completed\": true\\n  },\\n  {\\n    \"userId\": 7,\\n    \"id\": 133,\\n    \"title\": \"et labore eos enim rerum consequatur sunt\",\\n    \"completed\": true\\n  },\\n  {\\n    \"userId\": 7,\\n    \"id\": 134,\\n    \"title\": \"molestiae doloribus et laborum quod ea\",\\n    \"completed\": false\\n  },\\n  {\\n    \"userId\": 7,\\n    \"id\": 135,\\n    \"title\": \"facere ipsa nam eum voluptates reiciendis vero qui\",\\n    \"completed\": false\\n  },\\n  {\\n    \"userId\": 7,\\n    \"id\": 136,\\n    \"title\": \"asperiores illo tempora fuga sed ut quasi adipisci\",\\n    \"completed\": false\\n  },\\n  {\\n    \"userId\": 7,\\n    \"id\": 137,\\n    \"title\": \"qui sit non\",\\n    \"completed\": false\\n  },\\n  {\\n    \"userId\": 7,\\n    \"id\": 138,\\n    \"title\": \"placeat minima consequatur rem qui ut\",\\n    \"completed\": true\\n  },\\n  {\\n    \"userId\": 7,\\n    \"id\": 139,\\n    \"title\": \"consequatur doloribus id possimus voluptas a voluptatem\",\\n    \"completed\": false\\n  },\\n  {\\n    \"userId\": 7,\\n    \"id\": 140,\\n    \"title\": \"aut consectetur in blanditiis deserunt quia sed laboriosam\",\\n    \"completed\": true\\n  },\\n  {\\n    \"userId\": 8,\\n    \"id\": 141,\\n    \"title\": \"explicabo consectetur debitis voluptates quas quae culpa rerum non\",\\n    \"completed\": true\\n  },\\n  {\\n    \"userId\": 8,\\n    \"id\": 142,\\n    \"title\": \"maiores accusantium architecto necessitatibus reiciendis ea aut\",\\n    \"completed\": true\\n  },\\n  {\\n    \"userId\": 8,\\n    \"id\": 143,\\n    \"title\": \"eum non recusandae cupiditate animi\",\\n    \"completed\": false\\n  },\\n  {\\n    \"userId\": 8,\\n    \"id\": 144,\\n    \"title\": \"ut eum exercitationem sint\",\\n    \"completed\": false\\n  },\\n  {\\n    \"userId\": 8,\\n    \"id\": 145,\\n    \"title\": \"beatae qui ullam incidunt voluptatem non nisi aliquam\",\\n    \"completed\": false\\n  },\\n  {\\n    \"userId\": 8,\\n    \"id\": 146,\\n    \"title\": \"molestiae suscipit ratione nihil odio libero impedit vero totam\",\\n    \"completed\": true\\n  },\\n  {\\n    \"userId\": 8,\\n    \"id\": 147,\\n    \"title\": \"eum itaque quod reprehenderit et facilis dolor autem ut\",\\n    \"completed\": true\\n  },\\n  {\\n    \"userId\": 8,\\n    \"id\": 148,\\n    \"title\": \"esse quas et quo quasi exercitationem\",\\n    \"completed\": false\\n  },\\n  {\\n    \"userId\": 8,\\n    \"id\": 149,\\n    \"title\": \"animi voluptas quod perferendis est\",\\n    \"completed\": false\\n  },\\n  {\\n    \"userId\": 8,\\n    \"id\": 150,\\n    \"title\": \"eos amet tempore laudantium fugit a\",\\n    \"completed\": false\\n  },\\n  {\\n    \"userId\": 8,\\n    \"id\": 151,\\n    \"title\": \"accusamus adipisci dicta qui quo ea explicabo sed vero\",\\n    \"completed\": true\\n  },\\n  {\\n    \"userId\": 8,\\n    \"id\": 152,\\n    \"title\": \"odit eligendi recusandae doloremque cumque non\",\\n    \"completed\": false\\n  },\\n  {\\n    \"userId\": 8,\\n    \"id\": 153,\\n    \"title\": \"ea aperiam consequatur qui repellat eos\",\\n    \"completed\": false\\n  },\\n  {\\n    \"userId\": 8,\\n    \"id\": 154,\\n    \"title\": \"rerum non ex sapiente\",\\n    \"completed\": true\\n  },\\n  {\\n    \"userId\": 8,\\n    \"id\": 155,\\n    \"title\": \"voluptatem nobis consequatur et assumenda magnam\",\\n    \"completed\": true\\n  },\\n  {\\n    \"userId\": 8,\\n    \"id\": 156,\\n    \"title\": \"nam quia quia nulla repellat assumenda quibusdam sit nobis\",\\n    \"completed\": true\\n  },\\n  {\\n    \"userId\": 8,\\n    \"id\": 157,\\n    \"title\": \"dolorem veniam quisquam deserunt repellendus\",\\n    \"completed\": true\\n  },\\n  {\\n    \"userId\": 8,\\n    \"id\": 158,\\n    \"title\": \"debitis vitae delectus et harum accusamus aut deleniti a\",\\n    \"completed\": true\\n  },\\n  {\\n    \"userId\": 8,\\n    \"id\": 159,\\n    \"title\": \"debitis adipisci quibusdam aliquam sed dolore ea praesentium nobis\",\\n    \"completed\": true\\n  },\\n  {\\n    \"userId\": 8,\\n    \"id\": 160,\\n    \"title\": \"et praesentium aliquam est\",\\n    \"completed\": false\\n  },\\n  {\\n    \"userId\": 9,\\n    \"id\": 161,\\n    \"title\": \"ex hic consequuntur earum omnis alias ut occaecati culpa\",\\n    \"completed\": true\\n  },\\n  {\\n    \"userId\": 9,\\n    \"id\": 162,\\n    \"title\": \"omnis laboriosam molestias animi sunt dolore\",\\n    \"completed\": true\\n  },\\n  {\\n    \"userId\": 9,\\n    \"id\": 163,\\n    \"title\": \"natus corrupti maxime laudantium et voluptatem laboriosam odit\",\\n    \"completed\": false\\n  },\\n  {\\n    \"userId\": 9,\\n    \"id\": 164,\\n    \"title\": \"reprehenderit quos aut aut consequatur est sed\",\\n    \"completed\": false\\n  },\\n  {\\n    \"userId\": 9,\\n    \"id\": 165,\\n    \"title\": \"fugiat perferendis sed aut quidem\",\\n    \"completed\": false\\n  },\\n  {\\n    \"userId\": 9,\\n    \"id\": 166,\\n    \"title\": \"quos quo possimus suscipit minima ut\",\\n    \"completed\": false\\n  },\\n  {\\n    \"userId\": 9,\\n    \"id\": 167,\\n    \"title\": \"et quis minus quo a asperiores molestiae\",\\n    \"completed\": false\\n  },\\n  {\\n    \"userId\": 9,\\n    \"id\": 168,\\n    \"title\": \"recusandae quia qui sunt libero\",\\n    \"completed\": false\\n  },\\n  {\\n    \"userId\": 9,\\n    \"id\": 169,\\n    \"title\": \"ea odio perferendis officiis\",\\n    \"completed\": true\\n  },\\n  {\\n    \"userId\": 9,\\n    \"id\": 170,\\n    \"title\": \"quisquam aliquam quia doloribus aut\",\\n    \"completed\": false\\n  },\\n  {\\n    \"userId\": 9,\\n    \"id\": 171,\\n    \"title\": \"fugiat aut voluptatibus corrupti deleniti velit iste odio\",\\n    \"completed\": true\\n  },\\n  {\\n    \"userId\": 9,\\n    \"id\": 172,\\n    \"title\": \"et provident amet rerum consectetur et voluptatum\",\\n    \"completed\": false\\n  },\\n  {\\n    \"userId\": 9,\\n    \"id\": 173,\\n    \"title\": \"harum ad aperiam quis\",\\n    \"completed\": false\\n  },\\n  {\\n    \"userId\": 9,\\n    \"id\": 174,\\n    \"title\": \"similique aut quo\",\\n    \"completed\": false\\n  },\\n  {\\n    \"userId\": 9,\\n    \"id\": 175,\\n    \"title\": \"laudantium eius officia perferendis provident perspiciatis asperiores\",\\n    \"completed\": true\\n  },\\n  {\\n    \"userId\": 9,\\n    \"id\": 176,\\n    \"title\": \"magni soluta corrupti ut maiores rem quidem\",\\n    \"completed\": false\\n  },\\n  {\\n    \"userId\": 9,\\n    \"id\": 177,\\n    \"title\": \"et placeat temporibus voluptas est tempora quos quibusdam\",\\n    \"completed\": false\\n  },\\n  {\\n    \"userId\": 9,\\n    \"id\": 178,\\n    \"title\": \"nesciunt itaque commodi tempore\",\\n    \"completed\": true\\n  },\\n  {\\n    \"userId\": 9,\\n    \"id\": 179,\\n    \"title\": \"omnis consequuntur cupiditate impedit itaque ipsam quo\",\\n    \"completed\": true\\n  },\\n  {\\n    \"userId\": 9,\\n    \"id\": 180,\\n    \"title\": \"debitis nisi et dolorem repellat et\",\\n    \"completed\": true\\n  },\\n  {\\n    \"userId\": 10,\\n    \"id\": 181,\\n    \"title\": \"ut cupiditate sequi aliquam fuga maiores\",\\n    \"completed\": false\\n  },\\n  {\\n    \"userId\": 10,\\n    \"id\": 182,\\n    \"title\": \"inventore saepe cumque et aut illum enim\",\\n    \"completed\": true\\n  },\\n  {\\n    \"userId\": 10,\\n    \"id\": 183,\\n    \"title\": \"omnis nulla eum aliquam distinctio\",\\n    \"completed\": true\\n  },\\n  {\\n    \"userId\": 10,\\n    \"id\": 184,\\n    \"title\": \"molestias modi perferendis perspiciatis\",\\n    \"completed\": false\\n  },\\n  {\\n    \"userId\": 10,\\n    \"id\": 185,\\n    \"title\": \"voluptates dignissimos sed doloribus animi quaerat aut\",\\n    \"completed\": false\\n  },\\n  {\\n    \"userId\": 10,\\n    \"id\": 186,\\n    \"title\": \"explicabo odio est et\",\\n    \"completed\": false\\n  },\\n  {\\n    \"userId\": 10,\\n    \"id\": 187,\\n    \"title\": \"consequuntur animi possimus\",\\n    \"completed\": false\\n  },\\n  {\\n    \"userId\": 10,\\n    \"id\": 188,\\n    \"title\": \"vel non beatae est\",\\n    \"completed\": true\\n  },\\n  {\\n    \"userId\": 10,\\n    \"id\": 189,\\n    \"title\": \"culpa eius et voluptatem et\",\\n    \"completed\": true\\n  },\\n  {\\n    \"userId\": 10,\\n    \"id\": 190,\\n    \"title\": \"accusamus sint iusto et voluptatem exercitationem\",\\n    \"completed\": true\\n  },\\n  {\\n    \"userId\": 10,\\n    \"id\": 191,\\n    \"title\": \"temporibus atque distinctio omnis eius impedit tempore molestias pariatur\",\\n    \"completed\": true\\n  },\\n  {\\n    \"userId\": 10,\\n    \"id\": 192,\\n    \"title\": \"ut quas possimus exercitationem sint voluptates\",\\n    \"completed\": false\\n  },\\n  {\\n    \"userId\": 10,\\n    \"id\": 193,\\n    \"title\": \"rerum debitis voluptatem qui eveniet tempora distinctio a\",\\n    \"completed\": true\\n  },\\n  {\\n    \"userId\": 10,\\n    \"id\": 194,\\n    \"title\": \"sed ut vero sit molestiae\",\\n    \"completed\": false\\n  },\\n  {\\n    \"userId\": 10,\\n    \"id\": 195,\\n    \"title\": \"rerum ex veniam mollitia voluptatibus pariatur\",\\n    \"completed\": true\\n  },\\n  {\\n    \"userId\": 10,\\n    \"id\": 196,\\n    \"title\": \"consequuntur aut ut fugit similique\",\\n    \"completed\": true\\n  },\\n  {\\n    \"userId\": 10,\\n    \"id\": 197,\\n    \"title\": \"dignissimos quo nobis earum saepe\",\\n    \"completed\": true\\n  },\\n  {\\n    \"userId\": 10,\\n    \"id\": 198,\\n    \"title\": \"quis eius est sint explicabo\",\\n    \"completed\": true\\n  },\\n  {\\n    \"userId\": 10,\\n    \"id\": 199,\\n    \"title\": \"numquam repellendus a magnam\",\\n    \"completed\": true\\n  },\\n  {\\n    \"userId\": 10,\\n    \"id\": 200,\\n    \"title\": \"ipsam aperiam voluptates qui\",\\n    \"completed\": false\\n  }\\n]'"
      ]
     },
     "execution_count": 5,
     "metadata": {},
     "output_type": "execute_result"
    }
   ],
   "source": [
    "r.content"
   ]
  },
  {
   "cell_type": "code",
   "execution_count": 7,
   "id": "7aead8ab-4909-4f62-a3e4-d3a7f6dc47d2",
   "metadata": {},
   "outputs": [
    {
     "data": {
      "text/plain": [
       "bytes"
      ]
     },
     "execution_count": 7,
     "metadata": {},
     "output_type": "execute_result"
    }
   ],
   "source": [
    "type(r.content)"
   ]
  },
  {
   "cell_type": "code",
   "execution_count": 8,
   "id": "a39aacd0-7750-4301-8434-3562e3d2bcd3",
   "metadata": {},
   "outputs": [
    {
     "data": {
      "text/plain": [
       "{'Date': 'Wed, 29 Jan 2025 07:17:16 GMT', 'Content-Type': 'application/json; charset=utf-8', 'Transfer-Encoding': 'chunked', 'Connection': 'keep-alive', 'Report-To': '{\"group\":\"heroku-nel\",\"max_age\":3600,\"endpoints\":[{\"url\":\"https://nel.heroku.com/reports?ts=1737578805&sid=e11707d5-02a7-43ef-b45e-2cf4d2036f7d&s=HtYKZFW%2FS6G4zWyGjQo12%2Bw%2BO034Mw4gZ%2BXfGf3P7is%3D\"}]}', 'Reporting-Endpoints': 'heroku-nel=https://nel.heroku.com/reports?ts=1737578805&sid=e11707d5-02a7-43ef-b45e-2cf4d2036f7d&s=HtYKZFW%2FS6G4zWyGjQo12%2Bw%2BO034Mw4gZ%2BXfGf3P7is%3D', 'Nel': '{\"report_to\":\"heroku-nel\",\"max_age\":3600,\"success_fraction\":0.005,\"failure_fraction\":0.05,\"response_headers\":[\"Via\"]}', 'X-Powered-By': 'Express', 'X-Ratelimit-Limit': '1000', 'X-Ratelimit-Remaining': '999', 'X-Ratelimit-Reset': '1737578839', 'Vary': 'Origin, Accept-Encoding', 'Access-Control-Allow-Credentials': 'true', 'Cache-Control': 'max-age=43200', 'Pragma': 'no-cache', 'Expires': '-1', 'X-Content-Type-Options': 'nosniff', 'Etag': 'W/\"5ef7-4Ad6/n39KWY9q6Ykm/ULNQ2F5IM\"', 'Content-Encoding': 'gzip', 'Via': '1.1 vegur', 'CF-Cache-Status': 'HIT', 'Age': '27009', 'Server': 'cloudflare', 'CF-RAY': '909771095a90efd4-LHR', 'alt-svc': 'h3=\":443\"; ma=86400', 'server-timing': 'cfL4;desc=\"?proto=TCP&rtt=140173&min_rtt=140135&rtt_var=52628&sent=4&recv=6&lost=0&retrans=0&sent_bytes=2842&recv_bytes=793&delivery_rate=20620&cwnd=57&unsent_bytes=0&cid=9a50c854f54abd49&ts=156&x=0\"'}"
      ]
     },
     "execution_count": 8,
     "metadata": {},
     "output_type": "execute_result"
    }
   ],
   "source": [
    "r.headers"
   ]
  },
  {
   "cell_type": "code",
   "execution_count": 9,
   "id": "6ced0370-aaa4-48b5-91fe-31ec082cfdd4",
   "metadata": {},
   "outputs": [
    {
     "data": {
      "text/plain": [
       "KeysView({'Date': 'Wed, 29 Jan 2025 07:17:16 GMT', 'Content-Type': 'application/json; charset=utf-8', 'Transfer-Encoding': 'chunked', 'Connection': 'keep-alive', 'Report-To': '{\"group\":\"heroku-nel\",\"max_age\":3600,\"endpoints\":[{\"url\":\"https://nel.heroku.com/reports?ts=1737578805&sid=e11707d5-02a7-43ef-b45e-2cf4d2036f7d&s=HtYKZFW%2FS6G4zWyGjQo12%2Bw%2BO034Mw4gZ%2BXfGf3P7is%3D\"}]}', 'Reporting-Endpoints': 'heroku-nel=https://nel.heroku.com/reports?ts=1737578805&sid=e11707d5-02a7-43ef-b45e-2cf4d2036f7d&s=HtYKZFW%2FS6G4zWyGjQo12%2Bw%2BO034Mw4gZ%2BXfGf3P7is%3D', 'Nel': '{\"report_to\":\"heroku-nel\",\"max_age\":3600,\"success_fraction\":0.005,\"failure_fraction\":0.05,\"response_headers\":[\"Via\"]}', 'X-Powered-By': 'Express', 'X-Ratelimit-Limit': '1000', 'X-Ratelimit-Remaining': '999', 'X-Ratelimit-Reset': '1737578839', 'Vary': 'Origin, Accept-Encoding', 'Access-Control-Allow-Credentials': 'true', 'Cache-Control': 'max-age=43200', 'Pragma': 'no-cache', 'Expires': '-1', 'X-Content-Type-Options': 'nosniff', 'Etag': 'W/\"5ef7-4Ad6/n39KWY9q6Ykm/ULNQ2F5IM\"', 'Content-Encoding': 'gzip', 'Via': '1.1 vegur', 'CF-Cache-Status': 'HIT', 'Age': '27009', 'Server': 'cloudflare', 'CF-RAY': '909771095a90efd4-LHR', 'alt-svc': 'h3=\":443\"; ma=86400', 'server-timing': 'cfL4;desc=\"?proto=TCP&rtt=140173&min_rtt=140135&rtt_var=52628&sent=4&recv=6&lost=0&retrans=0&sent_bytes=2842&recv_bytes=793&delivery_rate=20620&cwnd=57&unsent_bytes=0&cid=9a50c854f54abd49&ts=156&x=0\"'})"
      ]
     },
     "execution_count": 9,
     "metadata": {},
     "output_type": "execute_result"
    }
   ],
   "source": [
    "r.headers.keys()"
   ]
  },
  {
   "cell_type": "code",
   "execution_count": 11,
   "id": "8e6362dd-ade0-400a-9395-72d1f4880186",
   "metadata": {},
   "outputs": [
    {
     "data": {
      "text/plain": [
       "'Wed, 29 Jan 2025 07:17:16 GMT'"
      ]
     },
     "execution_count": 11,
     "metadata": {},
     "output_type": "execute_result"
    }
   ],
   "source": [
    "r.headers['Date']"
   ]
  },
  {
   "cell_type": "code",
   "execution_count": 13,
   "id": "70d3b290-85e2-4bb4-a443-e748d092545f",
   "metadata": {},
   "outputs": [
    {
     "data": {
      "text/plain": [
       "'application/json; charset=utf-8'"
      ]
     },
     "execution_count": 13,
     "metadata": {},
     "output_type": "execute_result"
    }
   ],
   "source": [
    "r.headers['Content-Type']"
   ]
  },
  {
   "cell_type": "code",
   "execution_count": 14,
   "id": "b4f3a9a9-9d34-4b87-9846-4cfccfc87045",
   "metadata": {},
   "outputs": [],
   "source": [
    "r = requests.get('https://google.com')."
   ]
  },
  {
   "cell_type": "code",
   "execution_count": 15,
   "id": "b0adad3d-ca83-4880-b125-1d61e62756d2",
   "metadata": {},
   "outputs": [
    {
     "data": {
      "text/plain": [
       "'text/html; charset=ISO-8859-1'"
      ]
     },
     "execution_count": 15,
     "metadata": {},
     "output_type": "execute_result"
    }
   ],
   "source": [
    "r.headers['Content-Type']"
   ]
  },
  {
   "cell_type": "code",
   "execution_count": 17,
   "id": "62b94c14-a5fa-44d5-8c4f-9bbfc814ee66",
   "metadata": {
    "scrolled": true
   },
   "outputs": [
    {
     "data": {
      "text/plain": [
       "[{'userId': 1, 'id': 1, 'title': 'delectus aut autem', 'completed': False},\n",
       " {'userId': 1,\n",
       "  'id': 2,\n",
       "  'title': 'quis ut nam facilis et officia qui',\n",
       "  'completed': False},\n",
       " {'userId': 1, 'id': 3, 'title': 'fugiat veniam minus', 'completed': False},\n",
       " {'userId': 1, 'id': 4, 'title': 'et porro tempora', 'completed': True},\n",
       " {'userId': 1,\n",
       "  'id': 5,\n",
       "  'title': 'laboriosam mollitia et enim quasi adipisci quia provident illum',\n",
       "  'completed': False},\n",
       " {'userId': 1,\n",
       "  'id': 6,\n",
       "  'title': 'qui ullam ratione quibusdam voluptatem quia omnis',\n",
       "  'completed': False},\n",
       " {'userId': 1,\n",
       "  'id': 7,\n",
       "  'title': 'illo expedita consequatur quia in',\n",
       "  'completed': False},\n",
       " {'userId': 1,\n",
       "  'id': 8,\n",
       "  'title': 'quo adipisci enim quam ut ab',\n",
       "  'completed': True},\n",
       " {'userId': 1,\n",
       "  'id': 9,\n",
       "  'title': 'molestiae perspiciatis ipsa',\n",
       "  'completed': False},\n",
       " {'userId': 1,\n",
       "  'id': 10,\n",
       "  'title': 'illo est ratione doloremque quia maiores aut',\n",
       "  'completed': True},\n",
       " {'userId': 1,\n",
       "  'id': 11,\n",
       "  'title': 'vero rerum temporibus dolor',\n",
       "  'completed': True},\n",
       " {'userId': 1,\n",
       "  'id': 12,\n",
       "  'title': 'ipsa repellendus fugit nisi',\n",
       "  'completed': True},\n",
       " {'userId': 1, 'id': 13, 'title': 'et doloremque nulla', 'completed': False},\n",
       " {'userId': 1,\n",
       "  'id': 14,\n",
       "  'title': 'repellendus sunt dolores architecto voluptatum',\n",
       "  'completed': True},\n",
       " {'userId': 1,\n",
       "  'id': 15,\n",
       "  'title': 'ab voluptatum amet voluptas',\n",
       "  'completed': True},\n",
       " {'userId': 1,\n",
       "  'id': 16,\n",
       "  'title': 'accusamus eos facilis sint et aut voluptatem',\n",
       "  'completed': True},\n",
       " {'userId': 1,\n",
       "  'id': 17,\n",
       "  'title': 'quo laboriosam deleniti aut qui',\n",
       "  'completed': True},\n",
       " {'userId': 1,\n",
       "  'id': 18,\n",
       "  'title': 'dolorum est consequatur ea mollitia in culpa',\n",
       "  'completed': False},\n",
       " {'userId': 1,\n",
       "  'id': 19,\n",
       "  'title': 'molestiae ipsa aut voluptatibus pariatur dolor nihil',\n",
       "  'completed': True},\n",
       " {'userId': 1,\n",
       "  'id': 20,\n",
       "  'title': 'ullam nobis libero sapiente ad optio sint',\n",
       "  'completed': True},\n",
       " {'userId': 2,\n",
       "  'id': 21,\n",
       "  'title': 'suscipit repellat esse quibusdam voluptatem incidunt',\n",
       "  'completed': False},\n",
       " {'userId': 2,\n",
       "  'id': 22,\n",
       "  'title': 'distinctio vitae autem nihil ut molestias quo',\n",
       "  'completed': True},\n",
       " {'userId': 2,\n",
       "  'id': 23,\n",
       "  'title': 'et itaque necessitatibus maxime molestiae qui quas velit',\n",
       "  'completed': False},\n",
       " {'userId': 2,\n",
       "  'id': 24,\n",
       "  'title': 'adipisci non ad dicta qui amet quaerat doloribus ea',\n",
       "  'completed': False},\n",
       " {'userId': 2,\n",
       "  'id': 25,\n",
       "  'title': 'voluptas quo tenetur perspiciatis explicabo natus',\n",
       "  'completed': True},\n",
       " {'userId': 2, 'id': 26, 'title': 'aliquam aut quasi', 'completed': True},\n",
       " {'userId': 2,\n",
       "  'id': 27,\n",
       "  'title': 'veritatis pariatur delectus',\n",
       "  'completed': True},\n",
       " {'userId': 2,\n",
       "  'id': 28,\n",
       "  'title': 'nesciunt totam sit blanditiis sit',\n",
       "  'completed': False},\n",
       " {'userId': 2, 'id': 29, 'title': 'laborum aut in quam', 'completed': False},\n",
       " {'userId': 2,\n",
       "  'id': 30,\n",
       "  'title': 'nemo perspiciatis repellat ut dolor libero commodi blanditiis omnis',\n",
       "  'completed': True},\n",
       " {'userId': 2,\n",
       "  'id': 31,\n",
       "  'title': 'repudiandae totam in est sint facere fuga',\n",
       "  'completed': False},\n",
       " {'userId': 2,\n",
       "  'id': 32,\n",
       "  'title': 'earum doloribus ea doloremque quis',\n",
       "  'completed': False},\n",
       " {'userId': 2, 'id': 33, 'title': 'sint sit aut vero', 'completed': False},\n",
       " {'userId': 2,\n",
       "  'id': 34,\n",
       "  'title': 'porro aut necessitatibus eaque distinctio',\n",
       "  'completed': False},\n",
       " {'userId': 2,\n",
       "  'id': 35,\n",
       "  'title': 'repellendus veritatis molestias dicta incidunt',\n",
       "  'completed': True},\n",
       " {'userId': 2,\n",
       "  'id': 36,\n",
       "  'title': 'excepturi deleniti adipisci voluptatem et neque optio illum ad',\n",
       "  'completed': True},\n",
       " {'userId': 2, 'id': 37, 'title': 'sunt cum tempora', 'completed': False},\n",
       " {'userId': 2, 'id': 38, 'title': 'totam quia non', 'completed': False},\n",
       " {'userId': 2,\n",
       "  'id': 39,\n",
       "  'title': 'doloremque quibusdam asperiores libero corrupti illum qui omnis',\n",
       "  'completed': False},\n",
       " {'userId': 2,\n",
       "  'id': 40,\n",
       "  'title': 'totam atque quo nesciunt',\n",
       "  'completed': True},\n",
       " {'userId': 3,\n",
       "  'id': 41,\n",
       "  'title': 'aliquid amet impedit consequatur aspernatur placeat eaque fugiat suscipit',\n",
       "  'completed': False},\n",
       " {'userId': 3,\n",
       "  'id': 42,\n",
       "  'title': 'rerum perferendis error quia ut eveniet',\n",
       "  'completed': False},\n",
       " {'userId': 3,\n",
       "  'id': 43,\n",
       "  'title': 'tempore ut sint quis recusandae',\n",
       "  'completed': True},\n",
       " {'userId': 3,\n",
       "  'id': 44,\n",
       "  'title': 'cum debitis quis accusamus doloremque ipsa natus sapiente omnis',\n",
       "  'completed': True},\n",
       " {'userId': 3,\n",
       "  'id': 45,\n",
       "  'title': 'velit soluta adipisci molestias reiciendis harum',\n",
       "  'completed': False},\n",
       " {'userId': 3,\n",
       "  'id': 46,\n",
       "  'title': 'vel voluptatem repellat nihil placeat corporis',\n",
       "  'completed': False},\n",
       " {'userId': 3,\n",
       "  'id': 47,\n",
       "  'title': 'nam qui rerum fugiat accusamus',\n",
       "  'completed': False},\n",
       " {'userId': 3,\n",
       "  'id': 48,\n",
       "  'title': 'sit reprehenderit omnis quia',\n",
       "  'completed': False},\n",
       " {'userId': 3,\n",
       "  'id': 49,\n",
       "  'title': 'ut necessitatibus aut maiores debitis officia blanditiis velit et',\n",
       "  'completed': False},\n",
       " {'userId': 3,\n",
       "  'id': 50,\n",
       "  'title': 'cupiditate necessitatibus ullam aut quis dolor voluptate',\n",
       "  'completed': True},\n",
       " {'userId': 3,\n",
       "  'id': 51,\n",
       "  'title': 'distinctio exercitationem ab doloribus',\n",
       "  'completed': False},\n",
       " {'userId': 3,\n",
       "  'id': 52,\n",
       "  'title': 'nesciunt dolorum quis recusandae ad pariatur ratione',\n",
       "  'completed': False},\n",
       " {'userId': 3,\n",
       "  'id': 53,\n",
       "  'title': 'qui labore est occaecati recusandae aliquid quam',\n",
       "  'completed': False},\n",
       " {'userId': 3,\n",
       "  'id': 54,\n",
       "  'title': 'quis et est ut voluptate quam dolor',\n",
       "  'completed': True},\n",
       " {'userId': 3,\n",
       "  'id': 55,\n",
       "  'title': 'voluptatum omnis minima qui occaecati provident nulla voluptatem ratione',\n",
       "  'completed': True},\n",
       " {'userId': 3,\n",
       "  'id': 56,\n",
       "  'title': 'deleniti ea temporibus enim',\n",
       "  'completed': True},\n",
       " {'userId': 3,\n",
       "  'id': 57,\n",
       "  'title': 'pariatur et magnam ea doloribus similique voluptatem rerum quia',\n",
       "  'completed': False},\n",
       " {'userId': 3,\n",
       "  'id': 58,\n",
       "  'title': 'est dicta totam qui explicabo doloribus qui dignissimos',\n",
       "  'completed': False},\n",
       " {'userId': 3,\n",
       "  'id': 59,\n",
       "  'title': 'perspiciatis velit id laborum placeat iusto et aliquam odio',\n",
       "  'completed': False},\n",
       " {'userId': 3,\n",
       "  'id': 60,\n",
       "  'title': 'et sequi qui architecto ut adipisci',\n",
       "  'completed': True},\n",
       " {'userId': 4,\n",
       "  'id': 61,\n",
       "  'title': 'odit optio omnis qui sunt',\n",
       "  'completed': True},\n",
       " {'userId': 4,\n",
       "  'id': 62,\n",
       "  'title': 'et placeat et tempore aspernatur sint numquam',\n",
       "  'completed': False},\n",
       " {'userId': 4,\n",
       "  'id': 63,\n",
       "  'title': 'doloremque aut dolores quidem fuga qui nulla',\n",
       "  'completed': True},\n",
       " {'userId': 4,\n",
       "  'id': 64,\n",
       "  'title': 'voluptas consequatur qui ut quia magnam nemo esse',\n",
       "  'completed': False},\n",
       " {'userId': 4,\n",
       "  'id': 65,\n",
       "  'title': 'fugiat pariatur ratione ut asperiores necessitatibus magni',\n",
       "  'completed': False},\n",
       " {'userId': 4,\n",
       "  'id': 66,\n",
       "  'title': 'rerum eum molestias autem voluptatum sit optio',\n",
       "  'completed': False},\n",
       " {'userId': 4,\n",
       "  'id': 67,\n",
       "  'title': 'quia voluptatibus voluptatem quos similique maiores repellat',\n",
       "  'completed': False},\n",
       " {'userId': 4,\n",
       "  'id': 68,\n",
       "  'title': 'aut id perspiciatis voluptatem iusto',\n",
       "  'completed': False},\n",
       " {'userId': 4,\n",
       "  'id': 69,\n",
       "  'title': 'doloribus sint dolorum ab adipisci itaque dignissimos aliquam suscipit',\n",
       "  'completed': False},\n",
       " {'userId': 4,\n",
       "  'id': 70,\n",
       "  'title': 'ut sequi accusantium et mollitia delectus sunt',\n",
       "  'completed': False},\n",
       " {'userId': 4, 'id': 71, 'title': 'aut velit saepe ullam', 'completed': False},\n",
       " {'userId': 4,\n",
       "  'id': 72,\n",
       "  'title': 'praesentium facilis facere quis harum voluptatibus voluptatem eum',\n",
       "  'completed': False},\n",
       " {'userId': 4,\n",
       "  'id': 73,\n",
       "  'title': 'sint amet quia totam corporis qui exercitationem commodi',\n",
       "  'completed': True},\n",
       " {'userId': 4,\n",
       "  'id': 74,\n",
       "  'title': 'expedita tempore nobis eveniet laborum maiores',\n",
       "  'completed': False},\n",
       " {'userId': 4,\n",
       "  'id': 75,\n",
       "  'title': 'occaecati adipisci est possimus totam',\n",
       "  'completed': False},\n",
       " {'userId': 4, 'id': 76, 'title': 'sequi dolorem sed', 'completed': True},\n",
       " {'userId': 4,\n",
       "  'id': 77,\n",
       "  'title': 'maiores aut nesciunt delectus exercitationem vel assumenda eligendi at',\n",
       "  'completed': False},\n",
       " {'userId': 4,\n",
       "  'id': 78,\n",
       "  'title': 'reiciendis est magnam amet nemo iste recusandae impedit quaerat',\n",
       "  'completed': False},\n",
       " {'userId': 4, 'id': 79, 'title': 'eum ipsa maxime ut', 'completed': True},\n",
       " {'userId': 4,\n",
       "  'id': 80,\n",
       "  'title': 'tempore molestias dolores rerum sequi voluptates ipsum consequatur',\n",
       "  'completed': True},\n",
       " {'userId': 5, 'id': 81, 'title': 'suscipit qui totam', 'completed': True},\n",
       " {'userId': 5,\n",
       "  'id': 82,\n",
       "  'title': 'voluptates eum voluptas et dicta',\n",
       "  'completed': False},\n",
       " {'userId': 5,\n",
       "  'id': 83,\n",
       "  'title': 'quidem at rerum quis ex aut sit quam',\n",
       "  'completed': True},\n",
       " {'userId': 5,\n",
       "  'id': 84,\n",
       "  'title': 'sunt veritatis ut voluptate',\n",
       "  'completed': False},\n",
       " {'userId': 5, 'id': 85, 'title': 'et quia ad iste a', 'completed': True},\n",
       " {'userId': 5,\n",
       "  'id': 86,\n",
       "  'title': 'incidunt ut saepe autem',\n",
       "  'completed': True},\n",
       " {'userId': 5,\n",
       "  'id': 87,\n",
       "  'title': 'laudantium quae eligendi consequatur quia et vero autem',\n",
       "  'completed': True},\n",
       " {'userId': 5,\n",
       "  'id': 88,\n",
       "  'title': 'vitae aut excepturi laboriosam sint aliquam et et accusantium',\n",
       "  'completed': False},\n",
       " {'userId': 5, 'id': 89, 'title': 'sequi ut omnis et', 'completed': True},\n",
       " {'userId': 5,\n",
       "  'id': 90,\n",
       "  'title': 'molestiae nisi accusantium tenetur dolorem et',\n",
       "  'completed': True},\n",
       " {'userId': 5,\n",
       "  'id': 91,\n",
       "  'title': 'nulla quis consequatur saepe qui id expedita',\n",
       "  'completed': True},\n",
       " {'userId': 5, 'id': 92, 'title': 'in omnis laboriosam', 'completed': True},\n",
       " {'userId': 5,\n",
       "  'id': 93,\n",
       "  'title': 'odio iure consequatur molestiae quibusdam necessitatibus quia sint',\n",
       "  'completed': True},\n",
       " {'userId': 5,\n",
       "  'id': 94,\n",
       "  'title': 'facilis modi saepe mollitia',\n",
       "  'completed': False},\n",
       " {'userId': 5,\n",
       "  'id': 95,\n",
       "  'title': 'vel nihil et molestiae iusto assumenda nemo quo ut',\n",
       "  'completed': True},\n",
       " {'userId': 5,\n",
       "  'id': 96,\n",
       "  'title': 'nobis suscipit ducimus enim asperiores voluptas',\n",
       "  'completed': False},\n",
       " {'userId': 5,\n",
       "  'id': 97,\n",
       "  'title': 'dolorum laboriosam eos qui iure aliquam',\n",
       "  'completed': False},\n",
       " {'userId': 5,\n",
       "  'id': 98,\n",
       "  'title': 'debitis accusantium ut quo facilis nihil quis sapiente necessitatibus',\n",
       "  'completed': True},\n",
       " {'userId': 5,\n",
       "  'id': 99,\n",
       "  'title': 'neque voluptates ratione',\n",
       "  'completed': False},\n",
       " {'userId': 5,\n",
       "  'id': 100,\n",
       "  'title': 'excepturi a et neque qui expedita vel voluptate',\n",
       "  'completed': False},\n",
       " {'userId': 6,\n",
       "  'id': 101,\n",
       "  'title': 'explicabo enim cumque porro aperiam occaecati minima',\n",
       "  'completed': False},\n",
       " {'userId': 6, 'id': 102, 'title': 'sed ab consequatur', 'completed': False},\n",
       " {'userId': 6,\n",
       "  'id': 103,\n",
       "  'title': 'non sunt delectus illo nulla tenetur enim omnis',\n",
       "  'completed': False},\n",
       " {'userId': 6,\n",
       "  'id': 104,\n",
       "  'title': 'excepturi non laudantium quo',\n",
       "  'completed': False},\n",
       " {'userId': 6,\n",
       "  'id': 105,\n",
       "  'title': 'totam quia dolorem et illum repellat voluptas optio',\n",
       "  'completed': True},\n",
       " {'userId': 6,\n",
       "  'id': 106,\n",
       "  'title': 'ad illo quis voluptatem temporibus',\n",
       "  'completed': True},\n",
       " {'userId': 6,\n",
       "  'id': 107,\n",
       "  'title': 'praesentium facilis omnis laudantium fugit ad iusto nihil nesciunt',\n",
       "  'completed': False},\n",
       " {'userId': 6,\n",
       "  'id': 108,\n",
       "  'title': 'a eos eaque nihil et exercitationem incidunt delectus',\n",
       "  'completed': True},\n",
       " {'userId': 6,\n",
       "  'id': 109,\n",
       "  'title': 'autem temporibus harum quisquam in culpa',\n",
       "  'completed': True},\n",
       " {'userId': 6, 'id': 110, 'title': 'aut aut ea corporis', 'completed': True},\n",
       " {'userId': 6,\n",
       "  'id': 111,\n",
       "  'title': 'magni accusantium labore et id quis provident',\n",
       "  'completed': False},\n",
       " {'userId': 6,\n",
       "  'id': 112,\n",
       "  'title': 'consectetur impedit quisquam qui deserunt non rerum consequuntur eius',\n",
       "  'completed': False},\n",
       " {'userId': 6,\n",
       "  'id': 113,\n",
       "  'title': 'quia atque aliquam sunt impedit voluptatum rerum assumenda nisi',\n",
       "  'completed': False},\n",
       " {'userId': 6,\n",
       "  'id': 114,\n",
       "  'title': 'cupiditate quos possimus corporis quisquam exercitationem beatae',\n",
       "  'completed': False},\n",
       " {'userId': 6, 'id': 115, 'title': 'sed et ea eum', 'completed': False},\n",
       " {'userId': 6,\n",
       "  'id': 116,\n",
       "  'title': 'ipsa dolores vel facilis ut',\n",
       "  'completed': True},\n",
       " {'userId': 6,\n",
       "  'id': 117,\n",
       "  'title': 'sequi quae est et qui qui eveniet asperiores',\n",
       "  'completed': False},\n",
       " {'userId': 6,\n",
       "  'id': 118,\n",
       "  'title': 'quia modi consequatur vero fugiat',\n",
       "  'completed': False},\n",
       " {'userId': 6,\n",
       "  'id': 119,\n",
       "  'title': 'corporis ducimus ea perspiciatis iste',\n",
       "  'completed': False},\n",
       " {'userId': 6,\n",
       "  'id': 120,\n",
       "  'title': 'dolorem laboriosam vel voluptas et aliquam quasi',\n",
       "  'completed': False},\n",
       " {'userId': 7,\n",
       "  'id': 121,\n",
       "  'title': 'inventore aut nihil minima laudantium hic qui omnis',\n",
       "  'completed': True},\n",
       " {'userId': 7,\n",
       "  'id': 122,\n",
       "  'title': 'provident aut nobis culpa',\n",
       "  'completed': True},\n",
       " {'userId': 7,\n",
       "  'id': 123,\n",
       "  'title': 'esse et quis iste est earum aut impedit',\n",
       "  'completed': False},\n",
       " {'userId': 7, 'id': 124, 'title': 'qui consectetur id', 'completed': False},\n",
       " {'userId': 7,\n",
       "  'id': 125,\n",
       "  'title': 'aut quasi autem iste tempore illum possimus',\n",
       "  'completed': False},\n",
       " {'userId': 7,\n",
       "  'id': 126,\n",
       "  'title': 'ut asperiores perspiciatis veniam ipsum rerum saepe',\n",
       "  'completed': True},\n",
       " {'userId': 7,\n",
       "  'id': 127,\n",
       "  'title': 'voluptatem libero consectetur rerum ut',\n",
       "  'completed': True},\n",
       " {'userId': 7,\n",
       "  'id': 128,\n",
       "  'title': 'eius omnis est qui voluptatem autem',\n",
       "  'completed': False},\n",
       " {'userId': 7,\n",
       "  'id': 129,\n",
       "  'title': 'rerum culpa quis harum',\n",
       "  'completed': False},\n",
       " {'userId': 7,\n",
       "  'id': 130,\n",
       "  'title': 'nulla aliquid eveniet harum laborum libero alias ut unde',\n",
       "  'completed': True},\n",
       " {'userId': 7, 'id': 131, 'title': 'qui ea incidunt quis', 'completed': False},\n",
       " {'userId': 7,\n",
       "  'id': 132,\n",
       "  'title': 'qui molestiae voluptatibus velit iure harum quisquam',\n",
       "  'completed': True},\n",
       " {'userId': 7,\n",
       "  'id': 133,\n",
       "  'title': 'et labore eos enim rerum consequatur sunt',\n",
       "  'completed': True},\n",
       " {'userId': 7,\n",
       "  'id': 134,\n",
       "  'title': 'molestiae doloribus et laborum quod ea',\n",
       "  'completed': False},\n",
       " {'userId': 7,\n",
       "  'id': 135,\n",
       "  'title': 'facere ipsa nam eum voluptates reiciendis vero qui',\n",
       "  'completed': False},\n",
       " {'userId': 7,\n",
       "  'id': 136,\n",
       "  'title': 'asperiores illo tempora fuga sed ut quasi adipisci',\n",
       "  'completed': False},\n",
       " {'userId': 7, 'id': 137, 'title': 'qui sit non', 'completed': False},\n",
       " {'userId': 7,\n",
       "  'id': 138,\n",
       "  'title': 'placeat minima consequatur rem qui ut',\n",
       "  'completed': True},\n",
       " {'userId': 7,\n",
       "  'id': 139,\n",
       "  'title': 'consequatur doloribus id possimus voluptas a voluptatem',\n",
       "  'completed': False},\n",
       " {'userId': 7,\n",
       "  'id': 140,\n",
       "  'title': 'aut consectetur in blanditiis deserunt quia sed laboriosam',\n",
       "  'completed': True},\n",
       " {'userId': 8,\n",
       "  'id': 141,\n",
       "  'title': 'explicabo consectetur debitis voluptates quas quae culpa rerum non',\n",
       "  'completed': True},\n",
       " {'userId': 8,\n",
       "  'id': 142,\n",
       "  'title': 'maiores accusantium architecto necessitatibus reiciendis ea aut',\n",
       "  'completed': True},\n",
       " {'userId': 8,\n",
       "  'id': 143,\n",
       "  'title': 'eum non recusandae cupiditate animi',\n",
       "  'completed': False},\n",
       " {'userId': 8,\n",
       "  'id': 144,\n",
       "  'title': 'ut eum exercitationem sint',\n",
       "  'completed': False},\n",
       " {'userId': 8,\n",
       "  'id': 145,\n",
       "  'title': 'beatae qui ullam incidunt voluptatem non nisi aliquam',\n",
       "  'completed': False},\n",
       " {'userId': 8,\n",
       "  'id': 146,\n",
       "  'title': 'molestiae suscipit ratione nihil odio libero impedit vero totam',\n",
       "  'completed': True},\n",
       " {'userId': 8,\n",
       "  'id': 147,\n",
       "  'title': 'eum itaque quod reprehenderit et facilis dolor autem ut',\n",
       "  'completed': True},\n",
       " {'userId': 8,\n",
       "  'id': 148,\n",
       "  'title': 'esse quas et quo quasi exercitationem',\n",
       "  'completed': False},\n",
       " {'userId': 8,\n",
       "  'id': 149,\n",
       "  'title': 'animi voluptas quod perferendis est',\n",
       "  'completed': False},\n",
       " {'userId': 8,\n",
       "  'id': 150,\n",
       "  'title': 'eos amet tempore laudantium fugit a',\n",
       "  'completed': False},\n",
       " {'userId': 8,\n",
       "  'id': 151,\n",
       "  'title': 'accusamus adipisci dicta qui quo ea explicabo sed vero',\n",
       "  'completed': True},\n",
       " {'userId': 8,\n",
       "  'id': 152,\n",
       "  'title': 'odit eligendi recusandae doloremque cumque non',\n",
       "  'completed': False},\n",
       " {'userId': 8,\n",
       "  'id': 153,\n",
       "  'title': 'ea aperiam consequatur qui repellat eos',\n",
       "  'completed': False},\n",
       " {'userId': 8, 'id': 154, 'title': 'rerum non ex sapiente', 'completed': True},\n",
       " {'userId': 8,\n",
       "  'id': 155,\n",
       "  'title': 'voluptatem nobis consequatur et assumenda magnam',\n",
       "  'completed': True},\n",
       " {'userId': 8,\n",
       "  'id': 156,\n",
       "  'title': 'nam quia quia nulla repellat assumenda quibusdam sit nobis',\n",
       "  'completed': True},\n",
       " {'userId': 8,\n",
       "  'id': 157,\n",
       "  'title': 'dolorem veniam quisquam deserunt repellendus',\n",
       "  'completed': True},\n",
       " {'userId': 8,\n",
       "  'id': 158,\n",
       "  'title': 'debitis vitae delectus et harum accusamus aut deleniti a',\n",
       "  'completed': True},\n",
       " {'userId': 8,\n",
       "  'id': 159,\n",
       "  'title': 'debitis adipisci quibusdam aliquam sed dolore ea praesentium nobis',\n",
       "  'completed': True},\n",
       " {'userId': 8,\n",
       "  'id': 160,\n",
       "  'title': 'et praesentium aliquam est',\n",
       "  'completed': False},\n",
       " {'userId': 9,\n",
       "  'id': 161,\n",
       "  'title': 'ex hic consequuntur earum omnis alias ut occaecati culpa',\n",
       "  'completed': True},\n",
       " {'userId': 9,\n",
       "  'id': 162,\n",
       "  'title': 'omnis laboriosam molestias animi sunt dolore',\n",
       "  'completed': True},\n",
       " {'userId': 9,\n",
       "  'id': 163,\n",
       "  'title': 'natus corrupti maxime laudantium et voluptatem laboriosam odit',\n",
       "  'completed': False},\n",
       " {'userId': 9,\n",
       "  'id': 164,\n",
       "  'title': 'reprehenderit quos aut aut consequatur est sed',\n",
       "  'completed': False},\n",
       " {'userId': 9,\n",
       "  'id': 165,\n",
       "  'title': 'fugiat perferendis sed aut quidem',\n",
       "  'completed': False},\n",
       " {'userId': 9,\n",
       "  'id': 166,\n",
       "  'title': 'quos quo possimus suscipit minima ut',\n",
       "  'completed': False},\n",
       " {'userId': 9,\n",
       "  'id': 167,\n",
       "  'title': 'et quis minus quo a asperiores molestiae',\n",
       "  'completed': False},\n",
       " {'userId': 9,\n",
       "  'id': 168,\n",
       "  'title': 'recusandae quia qui sunt libero',\n",
       "  'completed': False},\n",
       " {'userId': 9,\n",
       "  'id': 169,\n",
       "  'title': 'ea odio perferendis officiis',\n",
       "  'completed': True},\n",
       " {'userId': 9,\n",
       "  'id': 170,\n",
       "  'title': 'quisquam aliquam quia doloribus aut',\n",
       "  'completed': False},\n",
       " {'userId': 9,\n",
       "  'id': 171,\n",
       "  'title': 'fugiat aut voluptatibus corrupti deleniti velit iste odio',\n",
       "  'completed': True},\n",
       " {'userId': 9,\n",
       "  'id': 172,\n",
       "  'title': 'et provident amet rerum consectetur et voluptatum',\n",
       "  'completed': False},\n",
       " {'userId': 9,\n",
       "  'id': 173,\n",
       "  'title': 'harum ad aperiam quis',\n",
       "  'completed': False},\n",
       " {'userId': 9, 'id': 174, 'title': 'similique aut quo', 'completed': False},\n",
       " {'userId': 9,\n",
       "  'id': 175,\n",
       "  'title': 'laudantium eius officia perferendis provident perspiciatis asperiores',\n",
       "  'completed': True},\n",
       " {'userId': 9,\n",
       "  'id': 176,\n",
       "  'title': 'magni soluta corrupti ut maiores rem quidem',\n",
       "  'completed': False},\n",
       " {'userId': 9,\n",
       "  'id': 177,\n",
       "  'title': 'et placeat temporibus voluptas est tempora quos quibusdam',\n",
       "  'completed': False},\n",
       " {'userId': 9,\n",
       "  'id': 178,\n",
       "  'title': 'nesciunt itaque commodi tempore',\n",
       "  'completed': True},\n",
       " {'userId': 9,\n",
       "  'id': 179,\n",
       "  'title': 'omnis consequuntur cupiditate impedit itaque ipsam quo',\n",
       "  'completed': True},\n",
       " {'userId': 9,\n",
       "  'id': 180,\n",
       "  'title': 'debitis nisi et dolorem repellat et',\n",
       "  'completed': True},\n",
       " {'userId': 10,\n",
       "  'id': 181,\n",
       "  'title': 'ut cupiditate sequi aliquam fuga maiores',\n",
       "  'completed': False},\n",
       " {'userId': 10,\n",
       "  'id': 182,\n",
       "  'title': 'inventore saepe cumque et aut illum enim',\n",
       "  'completed': True},\n",
       " {'userId': 10,\n",
       "  'id': 183,\n",
       "  'title': 'omnis nulla eum aliquam distinctio',\n",
       "  'completed': True},\n",
       " {'userId': 10,\n",
       "  'id': 184,\n",
       "  'title': 'molestias modi perferendis perspiciatis',\n",
       "  'completed': False},\n",
       " {'userId': 10,\n",
       "  'id': 185,\n",
       "  'title': 'voluptates dignissimos sed doloribus animi quaerat aut',\n",
       "  'completed': False},\n",
       " {'userId': 10,\n",
       "  'id': 186,\n",
       "  'title': 'explicabo odio est et',\n",
       "  'completed': False},\n",
       " {'userId': 10,\n",
       "  'id': 187,\n",
       "  'title': 'consequuntur animi possimus',\n",
       "  'completed': False},\n",
       " {'userId': 10, 'id': 188, 'title': 'vel non beatae est', 'completed': True},\n",
       " {'userId': 10,\n",
       "  'id': 189,\n",
       "  'title': 'culpa eius et voluptatem et',\n",
       "  'completed': True},\n",
       " {'userId': 10,\n",
       "  'id': 190,\n",
       "  'title': 'accusamus sint iusto et voluptatem exercitationem',\n",
       "  'completed': True},\n",
       " {'userId': 10,\n",
       "  'id': 191,\n",
       "  'title': 'temporibus atque distinctio omnis eius impedit tempore molestias pariatur',\n",
       "  'completed': True},\n",
       " {'userId': 10,\n",
       "  'id': 192,\n",
       "  'title': 'ut quas possimus exercitationem sint voluptates',\n",
       "  'completed': False},\n",
       " {'userId': 10,\n",
       "  'id': 193,\n",
       "  'title': 'rerum debitis voluptatem qui eveniet tempora distinctio a',\n",
       "  'completed': True},\n",
       " {'userId': 10,\n",
       "  'id': 194,\n",
       "  'title': 'sed ut vero sit molestiae',\n",
       "  'completed': False},\n",
       " {'userId': 10,\n",
       "  'id': 195,\n",
       "  'title': 'rerum ex veniam mollitia voluptatibus pariatur',\n",
       "  'completed': True},\n",
       " {'userId': 10,\n",
       "  'id': 196,\n",
       "  'title': 'consequuntur aut ut fugit similique',\n",
       "  'completed': True},\n",
       " {'userId': 10,\n",
       "  'id': 197,\n",
       "  'title': 'dignissimos quo nobis earum saepe',\n",
       "  'completed': True},\n",
       " {'userId': 10,\n",
       "  'id': 198,\n",
       "  'title': 'quis eius est sint explicabo',\n",
       "  'completed': True},\n",
       " {'userId': 10,\n",
       "  'id': 199,\n",
       "  'title': 'numquam repellendus a magnam',\n",
       "  'completed': True},\n",
       " {'userId': 10,\n",
       "  'id': 200,\n",
       "  'title': 'ipsam aperiam voluptates qui',\n",
       "  'completed': False}]"
      ]
     },
     "execution_count": 17,
     "metadata": {},
     "output_type": "execute_result"
    }
   ],
   "source": [
    "r.json()"
   ]
  },
  {
   "cell_type": "code",
   "execution_count": 18,
   "id": "326c8d39-e2c0-452d-a294-cc33d882af63",
   "metadata": {},
   "outputs": [
    {
     "data": {
      "text/plain": [
       "{'userId': 1, 'id': 1, 'title': 'delectus aut autem', 'completed': False}"
      ]
     },
     "execution_count": 18,
     "metadata": {},
     "output_type": "execute_result"
    }
   ],
   "source": [
    "r = requests.get(baseurl + '/1')\n",
    "r.json()"
   ]
  },
  {
   "cell_type": "code",
   "execution_count": 19,
   "id": "613ee522-382a-42c2-adad-4785b413de39",
   "metadata": {},
   "outputs": [],
   "source": [
    "postdata = {'userId': 10, 'id': 101, 'title': 'Testing Testing!', 'completed': False}"
   ]
  },
  {
   "cell_type": "code",
   "execution_count": 20,
   "id": "10064cb8-34a1-46cc-ad5c-0f6755424b22",
   "metadata": {},
   "outputs": [
    {
     "data": {
      "text/plain": [
       "<Response [201]>"
      ]
     },
     "execution_count": 20,
     "metadata": {},
     "output_type": "execute_result"
    }
   ],
   "source": [
    "r = requests.post(baseurl, data=postdata)\n",
    "r"
   ]
  },
  {
   "cell_type": "code",
   "execution_count": 21,
   "id": "b1b09e39-6b03-4372-b4e6-5768bf4dac53",
   "metadata": {},
   "outputs": [
    {
     "data": {
      "text/plain": [
       "'application/json; charset=utf-8'"
      ]
     },
     "execution_count": 21,
     "metadata": {},
     "output_type": "execute_result"
    }
   ],
   "source": [
    "r.headers['Content-Type']"
   ]
  },
  {
   "cell_type": "code",
   "execution_count": 23,
   "id": "c8f612ae-cf7c-4ae8-b2c4-390a4e194db1",
   "metadata": {},
   "outputs": [
    {
     "data": {
      "text/plain": [
       "{'userId': '10', 'id': 201, 'title': 'Testing Testing!', 'completed': 'False'}"
      ]
     },
     "execution_count": 23,
     "metadata": {},
     "output_type": "execute_result"
    }
   ],
   "source": [
    "response_data = r.json()\n",
    "response_data"
   ]
  },
  {
   "cell_type": "code",
   "execution_count": 24,
   "id": "191bb588-e9df-42b0-9052-be729b6da6fe",
   "metadata": {},
   "outputs": [
    {
     "data": {
      "text/plain": [
       "False"
      ]
     },
     "execution_count": 24,
     "metadata": {},
     "output_type": "execute_result"
    }
   ],
   "source": [
    "postdata == response_data"
   ]
  },
  {
   "cell_type": "markdown",
   "id": "34992bbc-fbcc-4a75-99ff-ab5af32f9cb5",
   "metadata": {},
   "source": [
    "## Testing POST request for django app"
   ]
  },
  {
   "cell_type": "code",
   "execution_count": 41,
   "id": "b34a80d3-fd9e-4dd2-8910-98d317b712b3",
   "metadata": {},
   "outputs": [],
   "source": [
    "testurl = 'http://127.0.0.1:8000/hello/'\n",
    "r = requests.post(testurl, data={'name': 'blah', 'greeting': 'huh?'})"
   ]
  },
  {
   "cell_type": "code",
   "execution_count": 42,
   "id": "d7fc6d5f-2dd1-47e8-b672-2d71e3f1a9c6",
   "metadata": {},
   "outputs": [
    {
     "data": {
      "text/plain": [
       "'text/html; charset=utf-8'"
      ]
     },
     "execution_count": 42,
     "metadata": {},
     "output_type": "execute_result"
    }
   ],
   "source": []
  },
  {
   "cell_type": "code",
   "execution_count": 43,
   "id": "014cb13d-50ba-4661-b3aa-4faeb3974f0f",
   "metadata": {},
   "outputs": [
    {
     "data": {
      "text/plain": [
       "b'<html>\\n    <body>\\n        <h1>Posted successfully!</h1>\\n        <p>Data Receieved:</p>\\n        blah  huh?\\n    </body>\\n</html>'"
      ]
     },
     "execution_count": 43,
     "metadata": {},
     "output_type": "execute_result"
    }
   ],
   "source": [
    "r.content"
   ]
  },
  {
   "cell_type": "code",
   "execution_count": null,
   "id": "8952b403-e004-4cdc-be46-6ab688ac26df",
   "metadata": {},
   "outputs": [],
   "source": [
    "dict.get("
   ]
  },
  {
   "cell_type": "code",
   "execution_count": null,
   "id": "93e3aff8-9ebf-42c9-93fc-989be19c7e16",
   "metadata": {},
   "outputs": [],
   "source": []
  }
 ],
 "metadata": {
  "kernelspec": {
   "display_name": "Python 3 (ipykernel)",
   "language": "python",
   "name": "python3"
  },
  "language_info": {
   "codemirror_mode": {
    "name": "ipython",
    "version": 3
   },
   "file_extension": ".py",
   "mimetype": "text/x-python",
   "name": "python",
   "nbconvert_exporter": "python",
   "pygments_lexer": "ipython3",
   "version": "3.11.0"
  }
 },
 "nbformat": 4,
 "nbformat_minor": 5
}
