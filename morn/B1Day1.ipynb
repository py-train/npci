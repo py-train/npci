{
 "cells": [
  {
   "cell_type": "markdown",
   "id": "2c4641b6-7875-4a98-b030-8467475f3ba7",
   "metadata": {},
   "source": [
    "# Python Features\n",
    "\n",
    "- Interpreted\n",
    "- Implicitly typed\n",
    "- Dynamic"
   ]
  },
  {
   "cell_type": "code",
   "execution_count": null,
   "id": "b13c21df-2fbe-4f54-bd27-a27718fb4ca7",
   "metadata": {},
   "outputs": [],
   "source": []
  },
  {
   "cell_type": "markdown",
   "id": "53e7b6d0-a6a0-4190-9983-571171519eaf",
   "metadata": {},
   "source": [
    "- int\n",
    "- float\n",
    "- bool\n",
    "- str"
   ]
  },
  {
   "cell_type": "markdown",
   "id": "8a25b30b-fea7-48fe-a24c-7cf786ec45a5",
   "metadata": {},
   "source": [
    "# Lists\n",
    "\n",
    "- Heterogenous"
   ]
  },
  {
   "cell_type": "code",
   "execution_count": 7,
   "id": "271dafed-2a5e-4a2d-b00f-2614b4fe2177",
   "metadata": {},
   "outputs": [],
   "source": [
    "prices = [12.45, 100.99 , 0.99]\n",
    "items = ['biscuit', 'chocolate', 'candy']\n",
    "misc = [4.2, 101, 'helloworld']\n",
    "\n",
    "lol = [prices, [items, misc]] "
   ]
  },
  {
   "cell_type": "code",
   "execution_count": 2,
   "id": "242cf59c-4809-4193-b66c-413e53d46b59",
   "metadata": {},
   "outputs": [
    {
     "data": {
      "text/plain": [
       "list"
      ]
     },
     "execution_count": 2,
     "metadata": {},
     "output_type": "execute_result"
    }
   ],
   "source": [
    "type(prices)"
   ]
  },
  {
   "cell_type": "code",
   "execution_count": 4,
   "id": "d40c63c4-6e76-4547-931c-60fccb620695",
   "metadata": {},
   "outputs": [
    {
     "data": {
      "text/plain": [
       "list"
      ]
     },
     "execution_count": 4,
     "metadata": {},
     "output_type": "execute_result"
    }
   ],
   "source": [
    "type(items)"
   ]
  },
  {
   "cell_type": "code",
   "execution_count": 6,
   "id": "cf464d15-6760-490e-a48c-0072fbd4051d",
   "metadata": {},
   "outputs": [
    {
     "data": {
      "text/plain": [
       "3"
      ]
     },
     "execution_count": 6,
     "metadata": {},
     "output_type": "execute_result"
    }
   ],
   "source": [
    "len(prices)"
   ]
  },
  {
   "cell_type": "code",
   "execution_count": 8,
   "id": "fee17e97-c12d-4ba0-a924-68494cd4ca5b",
   "metadata": {},
   "outputs": [
    {
     "data": {
      "text/plain": [
       "2"
      ]
     },
     "execution_count": 8,
     "metadata": {},
     "output_type": "execute_result"
    }
   ],
   "source": [
    "len(lol)"
   ]
  },
  {
   "cell_type": "code",
   "execution_count": 10,
   "id": "f9d5aa42-dbab-44eb-aa51-9d133ad33294",
   "metadata": {},
   "outputs": [
    {
     "data": {
      "text/plain": [
       "12.45"
      ]
     },
     "execution_count": 10,
     "metadata": {},
     "output_type": "execute_result"
    }
   ],
   "source": [
    "prices[0]"
   ]
  },
  {
   "cell_type": "code",
   "execution_count": 11,
   "id": "64addda3-b451-4456-8a01-10068ee997b7",
   "metadata": {},
   "outputs": [
    {
     "data": {
      "text/plain": [
       "0.99"
      ]
     },
     "execution_count": 11,
     "metadata": {},
     "output_type": "execute_result"
    }
   ],
   "source": [
    "prices[-1]"
   ]
  },
  {
   "cell_type": "code",
   "execution_count": 12,
   "id": "46a7a472-b8a1-4883-acca-d0fe96c9557a",
   "metadata": {},
   "outputs": [
    {
     "ename": "IndexError",
     "evalue": "list index out of range",
     "output_type": "error",
     "traceback": [
      "\u001b[0;31m---------------------------------------------------------------------------\u001b[0m",
      "\u001b[0;31mIndexError\u001b[0m                                Traceback (most recent call last)",
      "Cell \u001b[0;32mIn[12], line 1\u001b[0m\n\u001b[0;32m----> 1\u001b[0m prices[\u001b[38;5;241m3\u001b[39m]\n",
      "\u001b[0;31mIndexError\u001b[0m: list index out of range"
     ]
    }
   ],
   "source": [
    "prices[3]"
   ]
  },
  {
   "cell_type": "code",
   "execution_count": 15,
   "id": "b9851646-6d25-4958-b93d-8255b7f87dee",
   "metadata": {},
   "outputs": [
    {
     "data": {
      "text/plain": [
       "2"
      ]
     },
     "execution_count": 15,
     "metadata": {},
     "output_type": "execute_result"
    }
   ],
   "source": [
    "len(lol[-1])"
   ]
  },
  {
   "cell_type": "code",
   "execution_count": 18,
   "id": "adbabc7f-2db9-4d34-9140-2bb4742615e2",
   "metadata": {},
   "outputs": [
    {
     "data": {
      "text/plain": [
       "'helloworld'"
      ]
     },
     "execution_count": 18,
     "metadata": {},
     "output_type": "execute_result"
    }
   ],
   "source": [
    "lol[-1][1][-1]"
   ]
  },
  {
   "cell_type": "code",
   "execution_count": 19,
   "id": "659e2404-a264-487b-9f51-91a367b8d13e",
   "metadata": {},
   "outputs": [
    {
     "data": {
      "text/plain": [
       "[[12.45, 100.99, 0.99],\n",
       " [['biscuit', 'chocolate', 'candy'], [4.2, 101, 'helloworld']]]"
      ]
     },
     "execution_count": 19,
     "metadata": {},
     "output_type": "execute_result"
    }
   ],
   "source": [
    "lol"
   ]
  },
  {
   "cell_type": "code",
   "execution_count": 20,
   "id": "43fa9434-be20-4885-bd7d-fe81ed1d2b23",
   "metadata": {},
   "outputs": [
    {
     "ename": "IndexError",
     "evalue": "list index out of range",
     "output_type": "error",
     "traceback": [
      "\u001b[0;31m---------------------------------------------------------------------------\u001b[0m",
      "\u001b[0;31mIndexError\u001b[0m                                Traceback (most recent call last)",
      "Cell \u001b[0;32mIn[20], line 1\u001b[0m\n\u001b[0;32m----> 1\u001b[0m lol[\u001b[38;5;241m-\u001b[39m\u001b[38;5;241m1\u001b[39m][\u001b[38;5;241m2\u001b[39m][\u001b[38;5;241m1\u001b[39m]\n",
      "\u001b[0;31mIndexError\u001b[0m: list index out of range"
     ]
    }
   ],
   "source": [
    "lol[-1][2][1]"
   ]
  },
  {
   "cell_type": "code",
   "execution_count": 23,
   "id": "a42093d1-4e3c-47b4-8329-6f1104cd3b6e",
   "metadata": {},
   "outputs": [
    {
     "data": {
      "text/plain": [
       "'b'"
      ]
     },
     "execution_count": 23,
     "metadata": {},
     "output_type": "execute_result"
    }
   ],
   "source": [
    "lol[-1][0][0][0]"
   ]
  },
  {
   "cell_type": "code",
   "execution_count": 25,
   "id": "8ce1cb8f-e5e5-45dd-b505-00237d410dcd",
   "metadata": {},
   "outputs": [
    {
     "ename": "TypeError",
     "evalue": "'float' object is not subscriptable",
     "output_type": "error",
     "traceback": [
      "\u001b[0;31m---------------------------------------------------------------------------\u001b[0m",
      "\u001b[0;31mTypeError\u001b[0m                                 Traceback (most recent call last)",
      "Cell \u001b[0;32mIn[25], line 1\u001b[0m\n\u001b[0;32m----> 1\u001b[0m lol[\u001b[38;5;241m0\u001b[39m][\u001b[38;5;241m0\u001b[39m][\u001b[38;5;241m0\u001b[39m]\n",
      "\u001b[0;31mTypeError\u001b[0m: 'float' object is not subscriptable"
     ]
    }
   ],
   "source": [
    "lol[0][0][0]"
   ]
  },
  {
   "cell_type": "markdown",
   "id": "a1bc28df-960e-4fd0-bf6c-49bbb416a9fb",
   "metadata": {},
   "source": [
    "## List slices\n",
    "\n",
    "    list [start : end]\n",
    "\n",
    "    - start: inclusive, default = 0\n",
    "    - end: non-inclusive, default = end"
   ]
  },
  {
   "cell_type": "code",
   "execution_count": 30,
   "id": "127d4f6f-7a15-4c22-8a01-9d6397bc6764",
   "metadata": {},
   "outputs": [
    {
     "data": {
      "text/plain": [
       "[12.45, 100.99]"
      ]
     },
     "execution_count": 30,
     "metadata": {},
     "output_type": "execute_result"
    }
   ],
   "source": [
    "prices[0:2]"
   ]
  },
  {
   "cell_type": "code",
   "execution_count": 31,
   "id": "70d444dd-4bd8-420b-8314-a3e98323123a",
   "metadata": {},
   "outputs": [
    {
     "data": {
      "text/plain": [
       "['biscuit', 'chocolate']"
      ]
     },
     "execution_count": 31,
     "metadata": {},
     "output_type": "execute_result"
    }
   ],
   "source": [
    "items[0:2]"
   ]
  },
  {
   "cell_type": "code",
   "execution_count": 32,
   "id": "7f5f0195-bba4-4e66-8d0f-c9470cead3d5",
   "metadata": {},
   "outputs": [
    {
     "data": {
      "text/plain": [
       "['biscuit', 'chocolate']"
      ]
     },
     "execution_count": 32,
     "metadata": {},
     "output_type": "execute_result"
    }
   ],
   "source": [
    "items[:2]"
   ]
  },
  {
   "cell_type": "code",
   "execution_count": 33,
   "id": "02adab8a-d585-4bdf-8378-65690aa41bf6",
   "metadata": {},
   "outputs": [
    {
     "data": {
      "text/plain": [
       "['chocolate', 'candy']"
      ]
     },
     "execution_count": 33,
     "metadata": {},
     "output_type": "execute_result"
    }
   ],
   "source": [
    "items[1:]"
   ]
  },
  {
   "cell_type": "code",
   "execution_count": 34,
   "id": "61d25d32-d848-42e6-b349-09d6b3bd640f",
   "metadata": {},
   "outputs": [
    {
     "data": {
      "text/plain": [
       "['biscuit', 'chocolate', 'candy']"
      ]
     },
     "execution_count": 34,
     "metadata": {},
     "output_type": "execute_result"
    }
   ],
   "source": [
    "items[:]"
   ]
  },
  {
   "cell_type": "code",
   "execution_count": 37,
   "id": "e9f83ba8-4d99-4807-8856-282da96d2b51",
   "metadata": {},
   "outputs": [
    {
     "data": {
      "text/plain": [
       "[0, 1, 2, 3, 4, 5, 6, 7, 8, 9]"
      ]
     },
     "execution_count": 37,
     "metadata": {},
     "output_type": "execute_result"
    }
   ],
   "source": [
    "list(range(10))"
   ]
  },
  {
   "cell_type": "code",
   "execution_count": 38,
   "id": "b5a18e91-8ec0-417a-a694-e5f5be8e9707",
   "metadata": {},
   "outputs": [
    {
     "data": {
      "text/plain": [
       "[10, 20, 30, 40, 50, 60, 70, 80, 90]"
      ]
     },
     "execution_count": 38,
     "metadata": {},
     "output_type": "execute_result"
    }
   ],
   "source": [
    "list(range(10,100,10))"
   ]
  },
  {
   "cell_type": "code",
   "execution_count": 41,
   "id": "a28bcbc1-4396-4ce5-a2a4-50c8c70d4f2f",
   "metadata": {},
   "outputs": [
    {
     "data": {
      "text/plain": [
       "[]"
      ]
     },
     "execution_count": 41,
     "metadata": {},
     "output_type": "execute_result"
    }
   ],
   "source": [
    "list(range(10,100,-1))"
   ]
  },
  {
   "cell_type": "code",
   "execution_count": 42,
   "id": "41c40536-a1d1-4a0d-b16b-fcbff9e1bbcf",
   "metadata": {},
   "outputs": [
    {
     "data": {
      "text/plain": [
       "[100, 99, 98, 97, 96, 95, 94, 93, 92, 91]"
      ]
     },
     "execution_count": 42,
     "metadata": {},
     "output_type": "execute_result"
    }
   ],
   "source": [
    "list(range(100,90,-1))"
   ]
  },
  {
   "cell_type": "code",
   "execution_count": 43,
   "id": "96073945-7f8f-41d2-a1ba-4fff58e3bd1f",
   "metadata": {},
   "outputs": [
    {
     "data": {
      "text/plain": [
       "[10, 20, 30, 40, 50, 60, 70, 80, 90]"
      ]
     },
     "execution_count": 43,
     "metadata": {},
     "output_type": "execute_result"
    }
   ],
   "source": [
    "nums = list(range(10,100,10))\n",
    "nums"
   ]
  },
  {
   "cell_type": "code",
   "execution_count": 44,
   "id": "20fc967b-43e3-4734-93dc-fe1b913c165d",
   "metadata": {},
   "outputs": [
    {
     "data": {
      "text/plain": [
       "[20, 30, 40, 50]"
      ]
     },
     "execution_count": 44,
     "metadata": {},
     "output_type": "execute_result"
    }
   ],
   "source": [
    "nums[1:5]"
   ]
  },
  {
   "cell_type": "code",
   "execution_count": 45,
   "id": "c2af6eb8-018a-463e-a32b-819521c31641",
   "metadata": {},
   "outputs": [
    {
     "data": {
      "text/plain": [
       "[10, 20, 30]"
      ]
     },
     "execution_count": 45,
     "metadata": {},
     "output_type": "execute_result"
    }
   ],
   "source": [
    "nums[:3]"
   ]
  },
  {
   "cell_type": "code",
   "execution_count": 47,
   "id": "458433ba-1bd4-4c4b-a503-12ba12c99e36",
   "metadata": {},
   "outputs": [
    {
     "data": {
      "text/plain": [
       "[70, 80, 90]"
      ]
     },
     "execution_count": 47,
     "metadata": {},
     "output_type": "execute_result"
    }
   ],
   "source": [
    "nums[-3:]"
   ]
  },
  {
   "cell_type": "code",
   "execution_count": 48,
   "id": "a8d0b118-d1bd-4ec7-811e-aa1821463aac",
   "metadata": {},
   "outputs": [
    {
     "data": {
      "text/plain": [
       "[10, 20, 30, 40, 50]"
      ]
     },
     "execution_count": 48,
     "metadata": {},
     "output_type": "execute_result"
    }
   ],
   "source": [
    "n = 5\n",
    "nums[:n]"
   ]
  },
  {
   "cell_type": "code",
   "execution_count": 49,
   "id": "0e9c8af2-c981-4ab4-a84b-c4926a042760",
   "metadata": {},
   "outputs": [
    {
     "data": {
      "text/plain": [
       "[50, 60, 70, 80, 90]"
      ]
     },
     "execution_count": 49,
     "metadata": {},
     "output_type": "execute_result"
    }
   ],
   "source": [
    "nums[-n:]"
   ]
  },
  {
   "cell_type": "code",
   "execution_count": 50,
   "id": "c81a867a-6d40-420a-9717-812f996cbbfd",
   "metadata": {},
   "outputs": [
    {
     "ename": "NameError",
     "evalue": "name 'N' is not defined",
     "output_type": "error",
     "traceback": [
      "\u001b[0;31m---------------------------------------------------------------------------\u001b[0m",
      "\u001b[0;31mNameError\u001b[0m                                 Traceback (most recent call last)",
      "Cell \u001b[0;32mIn[50], line 1\u001b[0m\n\u001b[0;32m----> 1\u001b[0m nums[:N]\n",
      "\u001b[0;31mNameError\u001b[0m: name 'N' is not defined"
     ]
    }
   ],
   "source": [
    "nums[:N]"
   ]
  },
  {
   "cell_type": "code",
   "execution_count": 50,
   "id": "e5232437-3570-431d-a0ff-e08c7288d57a",
   "metadata": {},
   "outputs": [
    {
     "ename": "NameError",
     "evalue": "name 'N' is not defined",
     "output_type": "error",
     "traceback": [
      "\u001b[0;31m---------------------------------------------------------------------------\u001b[0m",
      "\u001b[0;31mNameError\u001b[0m                                 Traceback (most recent call last)",
      "Cell \u001b[0;32mIn[50], line 1\u001b[0m\n\u001b[0;32m----> 1\u001b[0m nums[:N]\n",
      "\u001b[0;31mNameError\u001b[0m: name 'N' is not defined"
     ]
    }
   ],
   "source": [
    "N = 1.23\n",
    "nums[:N]"
   ]
  },
  {
   "cell_type": "code",
   "execution_count": 51,
   "id": "80317b50-a87a-4030-83fa-cf51f738ba23",
   "metadata": {},
   "outputs": [
    {
     "data": {
      "text/plain": [
       "[12.45, 100.99, 0.99]"
      ]
     },
     "execution_count": 51,
     "metadata": {},
     "output_type": "execute_result"
    }
   ],
   "source": [
    "prices"
   ]
  },
  {
   "cell_type": "code",
   "execution_count": 52,
   "id": "d00f0b91-9443-427e-88f5-69ca6b74ca3c",
   "metadata": {},
   "outputs": [
    {
     "data": {
      "text/plain": [
       "['biscuit', 'chocolate', 'candy']"
      ]
     },
     "execution_count": 52,
     "metadata": {},
     "output_type": "execute_result"
    }
   ],
   "source": [
    "items"
   ]
  },
  {
   "cell_type": "code",
   "execution_count": 53,
   "id": "c1ea0aae-bbda-406f-9fc4-692ccf8972e5",
   "metadata": {},
   "outputs": [
    {
     "data": {
      "text/plain": [
       "[12.45, 100.99, 0.99, 'biscuit', 'chocolate', 'candy']"
      ]
     },
     "execution_count": 53,
     "metadata": {},
     "output_type": "execute_result"
    }
   ],
   "source": [
    "prices + items"
   ]
  },
  {
   "cell_type": "code",
   "execution_count": 54,
   "id": "d05f1fa2-b5f7-43a0-88ef-28262f265f40",
   "metadata": {},
   "outputs": [
    {
     "data": {
      "text/plain": [
       "[10, 20, 30, 40, 50, 60, 70, 80, 90]"
      ]
     },
     "execution_count": 54,
     "metadata": {},
     "output_type": "execute_result"
    }
   ],
   "source": [
    "nums"
   ]
  },
  {
   "cell_type": "code",
   "execution_count": 55,
   "id": "6ee53927-46ab-4d4d-8bce-df19aa846c38",
   "metadata": {},
   "outputs": [
    {
     "data": {
      "text/plain": [
       "[10, 20, 30, 70, 80, 90]"
      ]
     },
     "execution_count": 55,
     "metadata": {},
     "output_type": "execute_result"
    }
   ],
   "source": [
    "n = 3\n",
    "nums[:n] + nums[-n:]"
   ]
  },
  {
   "cell_type": "code",
   "execution_count": null,
   "id": "2f5e5039-1f48-483b-8db5-7ace085f041b",
   "metadata": {},
   "outputs": [],
   "source": []
  },
  {
   "cell_type": "code",
   "execution_count": null,
   "id": "75d63bf4-a35b-4337-8dbd-6818b1122352",
   "metadata": {},
   "outputs": [],
   "source": []
  },
  {
   "cell_type": "code",
   "execution_count": null,
   "id": "47f1c71b-deac-43ff-98d2-f2ca442c4244",
   "metadata": {},
   "outputs": [],
   "source": []
  },
  {
   "cell_type": "code",
   "execution_count": null,
   "id": "9c9ee36c-7e42-48f6-9ec9-3c0e0ef11c35",
   "metadata": {},
   "outputs": [],
   "source": []
  }
 ],
 "metadata": {
  "kernelspec": {
   "display_name": "Python 3 (ipykernel)",
   "language": "python",
   "name": "python3"
  },
  "language_info": {
   "codemirror_mode": {
    "name": "ipython",
    "version": 3
   },
   "file_extension": ".py",
   "mimetype": "text/x-python",
   "name": "python",
   "nbconvert_exporter": "python",
   "pygments_lexer": "ipython3",
   "version": "3.11.0"
  }
 },
 "nbformat": 4,
 "nbformat_minor": 5
}
