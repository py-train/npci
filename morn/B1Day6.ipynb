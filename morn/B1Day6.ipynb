{
 "cells": [
  {
   "cell_type": "markdown",
   "id": "65de8c74-5d32-4807-bc87-0475f2f3a8ee",
   "metadata": {},
   "source": [
    "### Templates\n",
    "\n",
    "- Partially specified content (with placeholders)\n",
    "- Rendering/Patching\n",
    "    - Get data\n",
    "    - Replace placeholders with data\n",
    "    - Return fully-specified content"
   ]
  },
  {
   "cell_type": "code",
   "execution_count": 4,
   "id": "0115f627-24d6-4ad7-a501-785305ac7b6e",
   "metadata": {},
   "outputs": [],
   "source": [
    "import jinja2\n",
    "from jinja2 import Template"
   ]
  },
  {
   "cell_type": "code",
   "execution_count": 2,
   "id": "c169dc00-0103-4ddf-b9f2-4231440e3182",
   "metadata": {},
   "outputs": [],
   "source": [
    "data = {\n",
    "    'name': 'Ash',\n",
    "    'greeting': 'Huh?!'\n",
    "}"
   ]
  },
  {
   "cell_type": "code",
   "execution_count": 3,
   "id": "25e1c61f-00de-40bd-9afe-80b42c2e5ada",
   "metadata": {},
   "outputs": [],
   "source": [
    "tpl_str = '''\n",
    "    Hello {{name}} {{greeting}}\n",
    "'''"
   ]
  },
  {
   "cell_type": "code",
   "execution_count": 6,
   "id": "8da0e2b8-0021-4226-9762-b36ffd1f1f6d",
   "metadata": {},
   "outputs": [],
   "source": [
    "tpl = Template(tpl_str)"
   ]
  },
  {
   "cell_type": "code",
   "execution_count": 10,
   "id": "43baf51d-db05-4870-9d74-46717ed3556f",
   "metadata": {},
   "outputs": [
    {
     "data": {
      "text/plain": [
       "'\\n    Hello Ash Huh?!'"
      ]
     },
     "execution_count": 10,
     "metadata": {},
     "output_type": "execute_result"
    }
   ],
   "source": [
    "tpl.render(data)\n",
    "tpl.render(name='asdfsad', greeting='asdfasdf')\n",
    "tpl.render()\n",
    "tpl.render(**data)"
   ]
  },
  {
   "cell_type": "code",
   "execution_count": null,
   "id": "c244a958-c88d-4a33-93f7-5294dd0f4356",
   "metadata": {},
   "outputs": [],
   "source": []
  },
  {
   "cell_type": "code",
   "execution_count": 11,
   "id": "764dbcd4-bf7e-475d-a57a-8896fc40f46f",
   "metadata": {},
   "outputs": [],
   "source": [
    "data = [\n",
    "    {\n",
    "        'name': 'Ash',\n",
    "        'greeting': 'Huh?!'\n",
    "    },\n",
    "    {\n",
    "        'name': 'Bash',\n",
    "        'greeting': 'Beatup!'\n",
    "    },\n",
    "    {\n",
    "        'name': 'Cash',\n",
    "        'greeting': 'Money!'\n",
    "    },\n",
    "]"
   ]
  },
  {
   "cell_type": "code",
   "execution_count": 12,
   "id": "476f8405-da3b-4fb3-b117-670593fa297f",
   "metadata": {},
   "outputs": [],
   "source": [
    "tpl_str = '''\n",
    "    Hello \n",
    "    {% for item in data %}\n",
    "    {{item.name}} {{item.greeting}}\n",
    "\n",
    "    {% endfor %}\n",
    "'''"
   ]
  },
  {
   "cell_type": "code",
   "execution_count": null,
   "id": "865cfc94-af7d-4bea-a273-9976cea11913",
   "metadata": {},
   "outputs": [],
   "source": []
  },
  {
   "cell_type": "code",
   "execution_count": 13,
   "id": "032647f3-84bc-40f9-b9b2-a91500571908",
   "metadata": {},
   "outputs": [],
   "source": [
    "tpl = Template(tpl_str)"
   ]
  },
  {
   "cell_type": "code",
   "execution_count": 15,
   "id": "234a55ce-1007-4fa4-a388-767b8c89a79a",
   "metadata": {},
   "outputs": [
    {
     "name": "stdout",
     "output_type": "stream",
     "text": [
      "\n",
      "    Hello \n",
      "    \n",
      "    Ash Huh?!\n",
      "\n",
      "    \n",
      "    Bash Beatup!\n",
      "\n",
      "    \n",
      "    Cash Money!\n",
      "\n",
      "    \n"
     ]
    }
   ],
   "source": [
    "print(tpl.render(data=data))"
   ]
  },
  {
   "cell_type": "code",
   "execution_count": null,
   "id": "f60af269-2386-4346-a998-c4137bc4e06f",
   "metadata": {},
   "outputs": [],
   "source": []
  },
  {
   "cell_type": "code",
   "execution_count": null,
   "id": "d9b8ef6e-6092-497d-a0a5-1f6617117841",
   "metadata": {},
   "outputs": [],
   "source": []
  }
 ],
 "metadata": {
  "kernelspec": {
   "display_name": "Python 3 (ipykernel)",
   "language": "python",
   "name": "python3"
  },
  "language_info": {
   "codemirror_mode": {
    "name": "ipython",
    "version": 3
   },
   "file_extension": ".py",
   "mimetype": "text/x-python",
   "name": "python",
   "nbconvert_exporter": "python",
   "pygments_lexer": "ipython3",
   "version": "3.11.0"
  }
 },
 "nbformat": 4,
 "nbformat_minor": 5
}
