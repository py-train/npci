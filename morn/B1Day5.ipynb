{
 "cells": [
  {
   "cell_type": "markdown",
   "id": "7c9906c7-5e89-4061-979c-546dc0d13a92",
   "metadata": {},
   "source": [
    "# Day 5 Agenda\n",
    "\n",
    "- Set type\n",
    "- While loop\n",
    "- csv file format\n",
    "- operator overloading\n",
    "- [Regular expressions]\n",
    "- Basic of Web Dev\n",
    "- Django quickstart\n",
    "- VSCode setup"
   ]
  },
  {
   "cell_type": "markdown",
   "id": "702d0722-0967-4922-95a4-8e10e13d89e1",
   "metadata": {},
   "source": [
    "## Set\n",
    "\n",
    "- Unique value storage\n",
    "- Operations\n",
    "    - Union\n",
    "    - Intersection\n",
    "    - Difference\n",
    "    - Super/sub set"
   ]
  },
  {
   "cell_type": "code",
   "execution_count": 1,
   "id": "4731ce08-7503-4923-8df6-e31891868329",
   "metadata": {},
   "outputs": [],
   "source": [
    "nums = {1, 2, 3, 3, 2, 1}"
   ]
  },
  {
   "cell_type": "code",
   "execution_count": 2,
   "id": "3353090f-c7e8-400c-8ed2-7c740e2aeae4",
   "metadata": {},
   "outputs": [
    {
     "data": {
      "text/plain": [
       "set"
      ]
     },
     "execution_count": 2,
     "metadata": {},
     "output_type": "execute_result"
    }
   ],
   "source": [
    "type(nums)"
   ]
  },
  {
   "cell_type": "code",
   "execution_count": 3,
   "id": "7e7be02f-082a-487b-a2ea-52d624f8102c",
   "metadata": {},
   "outputs": [
    {
     "data": {
      "text/plain": [
       "3"
      ]
     },
     "execution_count": 3,
     "metadata": {},
     "output_type": "execute_result"
    }
   ],
   "source": [
    "len(nums)"
   ]
  },
  {
   "cell_type": "code",
   "execution_count": 4,
   "id": "6723e893-af7b-45af-a0c6-554916ba2970",
   "metadata": {},
   "outputs": [
    {
     "data": {
      "text/plain": [
       "{1, 2, 3}"
      ]
     },
     "execution_count": 4,
     "metadata": {},
     "output_type": "execute_result"
    }
   ],
   "source": [
    "nums"
   ]
  },
  {
   "cell_type": "code",
   "execution_count": 15,
   "id": "937414f6-1ef4-4c01-8eba-5fcd3e5926e9",
   "metadata": {},
   "outputs": [],
   "source": [
    "twos = {2,4,6,8,10,12,14,16}\n",
    "threes = {3,6,9,12,15,18}\n",
    "tens = {10}"
   ]
  },
  {
   "cell_type": "code",
   "execution_count": 6,
   "id": "4d94eaa9-d785-4104-af68-522a9aa11028",
   "metadata": {},
   "outputs": [
    {
     "data": {
      "text/plain": [
       "{6, 12}"
      ]
     },
     "execution_count": 6,
     "metadata": {},
     "output_type": "execute_result"
    }
   ],
   "source": [
    "twos.intersection(threes)"
   ]
  },
  {
   "cell_type": "code",
   "execution_count": 7,
   "id": "61d708a7-7e80-426a-a32e-10c24cb404f6",
   "metadata": {},
   "outputs": [
    {
     "data": {
      "text/plain": [
       "{2, 3, 4, 6, 8, 9, 10, 12, 14, 15, 16, 18}"
      ]
     },
     "execution_count": 7,
     "metadata": {},
     "output_type": "execute_result"
    }
   ],
   "source": [
    "twos.union(threes)"
   ]
  },
  {
   "cell_type": "code",
   "execution_count": 8,
   "id": "162daa68-e4f4-4f09-83cf-269e4da81a2e",
   "metadata": {},
   "outputs": [
    {
     "name": "stdout",
     "output_type": "stream",
     "text": [
      "2\n",
      "4\n",
      "6\n",
      "8\n",
      "10\n",
      "12\n",
      "14\n",
      "16\n"
     ]
    }
   ],
   "source": [
    "for two in twos:\n",
    "    print(two)"
   ]
  },
  {
   "cell_type": "code",
   "execution_count": 9,
   "id": "615dda2d-d6de-49c8-a6be-d8930e93ef90",
   "metadata": {},
   "outputs": [],
   "source": [
    "twos.intersection_update(threes)"
   ]
  },
  {
   "cell_type": "code",
   "execution_count": 10,
   "id": "ebc36e7e-6212-4040-89c1-0873c31e480b",
   "metadata": {},
   "outputs": [
    {
     "data": {
      "text/plain": [
       "{6, 12}"
      ]
     },
     "execution_count": 10,
     "metadata": {},
     "output_type": "execute_result"
    }
   ],
   "source": [
    "twos"
   ]
  },
  {
   "cell_type": "code",
   "execution_count": 17,
   "id": "93ab75e5-909e-44a3-b6ac-a7e14fd7fb5b",
   "metadata": {},
   "outputs": [
    {
     "data": {
      "text/plain": [
       "{2, 4, 8, 10, 14, 16}"
      ]
     },
     "execution_count": 17,
     "metadata": {},
     "output_type": "execute_result"
    }
   ],
   "source": [
    "twos.difference(threes)"
   ]
  },
  {
   "cell_type": "code",
   "execution_count": 19,
   "id": "c240e1f1-19a7-4ec9-beb7-47e8723910ec",
   "metadata": {},
   "outputs": [
    {
     "data": {
      "text/plain": [
       "{3, 9, 15, 18}"
      ]
     },
     "execution_count": 19,
     "metadata": {},
     "output_type": "execute_result"
    }
   ],
   "source": [
    "threes.difference(twos)"
   ]
  },
  {
   "cell_type": "code",
   "execution_count": 20,
   "id": "5be0a17d-21b6-449b-9996-6e7af8a31a67",
   "metadata": {},
   "outputs": [
    {
     "data": {
      "text/plain": [
       "{2, 3, 4, 8, 9, 10, 14, 15, 16, 18}"
      ]
     },
     "execution_count": 20,
     "metadata": {},
     "output_type": "execute_result"
    }
   ],
   "source": [
    "threes.symmetric_difference(twos)"
   ]
  },
  {
   "cell_type": "code",
   "execution_count": 21,
   "id": "80941244-8667-4415-9b1c-a9e534a93db1",
   "metadata": {},
   "outputs": [
    {
     "data": {
      "text/plain": [
       "{2, 3, 4, 8, 9, 10, 14, 15, 16, 18}"
      ]
     },
     "execution_count": 21,
     "metadata": {},
     "output_type": "execute_result"
    }
   ],
   "source": [
    "twos.symmetric_difference(threes)"
   ]
  },
  {
   "cell_type": "code",
   "execution_count": 16,
   "id": "b5e4b6ce-f95a-4266-a9d5-c7f381589535",
   "metadata": {},
   "outputs": [
    {
     "data": {
      "text/plain": [
       "True"
      ]
     },
     "execution_count": 16,
     "metadata": {},
     "output_type": "execute_result"
    }
   ],
   "source": [
    "tens.issubset(twos)"
   ]
  },
  {
   "cell_type": "markdown",
   "id": "919e64ac-dc43-4fec-98a9-cd73214b88d2",
   "metadata": {},
   "source": [
    "## While loop\n",
    "\n",
    "- Most generic looping construct (but not th emost programmer friendly)\n",
    "- Use `while` only when condition for stopping iteration is not known/not in programmer's control"
   ]
  },
  {
   "cell_type": "code",
   "execution_count": 22,
   "id": "ef7a2452-5d5d-4904-b558-a23da9a345eb",
   "metadata": {},
   "outputs": [
    {
     "name": "stdin",
     "output_type": "stream",
     "text": [
      "Enter Number 12\n"
     ]
    },
    {
     "name": "stdout",
     "output_type": "stream",
     "text": [
      "144\n"
     ]
    },
    {
     "name": "stdin",
     "output_type": "stream",
     "text": [
      "Enter Number 14\n"
     ]
    },
    {
     "name": "stdout",
     "output_type": "stream",
     "text": [
      "196\n"
     ]
    },
    {
     "name": "stdin",
     "output_type": "stream",
     "text": [
      "Enter Number 22\n"
     ]
    },
    {
     "name": "stdout",
     "output_type": "stream",
     "text": [
      "484\n"
     ]
    },
    {
     "name": "stdin",
     "output_type": "stream",
     "text": [
      "Enter Number 0\n"
     ]
    }
   ],
   "source": [
    "num = int(input('Enter Number'))\n",
    "while num != 0:\n",
    "    print(num**2)\n",
    "    num = int(input('Enter Number'))\n",
    "    "
   ]
  },
  {
   "cell_type": "code",
   "execution_count": 23,
   "id": "ce824348-35a0-4f73-b8f6-aec20fb1c74c",
   "metadata": {},
   "outputs": [],
   "source": [
    "import random"
   ]
  },
  {
   "cell_type": "code",
   "execution_count": 27,
   "id": "d5ec41d9-d3a2-4638-aa07-50540544bec7",
   "metadata": {},
   "outputs": [
    {
     "data": {
      "text/plain": [
       "54"
      ]
     },
     "execution_count": 27,
     "metadata": {},
     "output_type": "execute_result"
    }
   ],
   "source": [
    "random.randint(0,100)"
   ]
  },
  {
   "cell_type": "code",
   "execution_count": 30,
   "id": "ccfbacec-5f0d-4323-8a95-80f2ebed50d6",
   "metadata": {},
   "outputs": [
    {
     "name": "stdin",
     "output_type": "stream",
     "text": [
      "Your guess:  50\n"
     ]
    },
    {
     "name": "stdout",
     "output_type": "stream",
     "text": [
      "Go higher!\n"
     ]
    },
    {
     "name": "stdin",
     "output_type": "stream",
     "text": [
      "Your guess:  75\n"
     ]
    },
    {
     "name": "stdout",
     "output_type": "stream",
     "text": [
      "Go higher!\n"
     ]
    },
    {
     "name": "stdin",
     "output_type": "stream",
     "text": [
      "Your guess:  87\n"
     ]
    },
    {
     "name": "stdout",
     "output_type": "stream",
     "text": [
      "Go lower!\n"
     ]
    },
    {
     "name": "stdin",
     "output_type": "stream",
     "text": [
      "Your guess:  81\n"
     ]
    },
    {
     "name": "stdout",
     "output_type": "stream",
     "text": [
      "Go higher!\n"
     ]
    },
    {
     "name": "stdin",
     "output_type": "stream",
     "text": [
      "Your guess:  84\n"
     ]
    },
    {
     "name": "stdout",
     "output_type": "stream",
     "text": [
      "Go higher!\n"
     ]
    },
    {
     "name": "stdin",
     "output_type": "stream",
     "text": [
      "Your guess:  86\n"
     ]
    },
    {
     "name": "stdout",
     "output_type": "stream",
     "text": [
      "Go lower!\n"
     ]
    },
    {
     "name": "stdin",
     "output_type": "stream",
     "text": [
      "Your guess:  85\n"
     ]
    },
    {
     "name": "stdout",
     "output_type": "stream",
     "text": [
      "You got it in 7 chances!!\n"
     ]
    }
   ],
   "source": [
    "secret = random.randint(0,100)\n",
    "chances = 0\n",
    "\n",
    "while True:\n",
    "    guess = int(input('Your guess: '))\n",
    "    chances += 1\n",
    "    if guess > secret:\n",
    "        print('Go lower!')\n",
    "    elif guess < secret:\n",
    "        print('Go higher!')\n",
    "    # elif guess == secret:\n",
    "    else:\n",
    "        print(f'You got it in {chances} chances!!')\n",
    "        break"
   ]
  },
  {
   "cell_type": "markdown",
   "id": "416f96ca-386c-4bc1-918b-fbbbbe496f9b",
   "metadata": {},
   "source": [
    "## CSV Files"
   ]
  },
  {
   "cell_type": "code",
   "execution_count": 31,
   "id": "05b0659c-5786-4fd0-a4ee-0f93f60729b9",
   "metadata": {},
   "outputs": [],
   "source": [
    "import csv"
   ]
  },
  {
   "cell_type": "code",
   "execution_count": 32,
   "id": "08236c65-1f08-4f1b-b2e8-d96ddc069380",
   "metadata": {},
   "outputs": [
    {
     "data": {
      "text/plain": [
       "<_io.TextIOWrapper name='../data/tips.csv' mode='r' encoding='UTF-8'>"
      ]
     },
     "execution_count": 32,
     "metadata": {},
     "output_type": "execute_result"
    }
   ],
   "source": [
    "f = open('../data/tips.csv')\n",
    "f"
   ]
  },
  {
   "cell_type": "code",
   "execution_count": 33,
   "id": "8f3cd690-b0fa-4517-9645-b369c00eb01c",
   "metadata": {},
   "outputs": [
    {
     "data": {
      "text/plain": [
       "<_csv.reader at 0x105769d20>"
      ]
     },
     "execution_count": 33,
     "metadata": {},
     "output_type": "execute_result"
    }
   ],
   "source": [
    "rdr = csv.reader(f)\n",
    "rdr"
   ]
  },
  {
   "cell_type": "code",
   "execution_count": 34,
   "id": "8dc4223a-cedd-4a11-80e2-9784fcc00e5f",
   "metadata": {},
   "outputs": [
    {
     "name": "stdout",
     "output_type": "stream",
     "text": [
      "['total_bill', 'tip', 'sex', 'smoker', 'day', 'time', 'size']\n",
      "['16.99', '1.01', 'Female', 'No', 'Sun', 'Dinner', '2']\n",
      "['10.34', '1.66', 'Male', 'No', 'Sun', 'Dinner', '3']\n",
      "['21.01', '3.5', 'Male', 'No', 'Sun', 'Dinner', '3']\n",
      "['23.68', '3.31', 'Male', 'No', 'Sun', 'Dinner', '2']\n",
      "['24.59', '3.61', 'Female', 'No', 'Sun', 'Dinner', '4']\n",
      "['25.29', '4.71', 'Male', 'No', 'Sun', 'Dinner', '4']\n",
      "['8.77', '2', 'Male', 'No', 'Sun', 'Dinner', '2']\n",
      "['26.88', '3.12', 'Male', 'No', 'Sun', 'Dinner', '4']\n",
      "['15.04', '1.96', 'Male', 'No', 'Sun', 'Dinner', '2']\n",
      "['14.78', '3.23', 'Male', 'No', 'Sun', 'Dinner', '2']\n",
      "['10.27', '1.71', 'Male', 'No', 'Sun', 'Dinner', '2']\n",
      "['35.26', '5', 'Female', 'No', 'Sun', 'Dinner', '4']\n",
      "['15.42', '1.57', 'Male', 'No', 'Sun', 'Dinner', '2']\n",
      "['18.43', '3', 'Male', 'No', 'Sun', 'Dinner', '4']\n",
      "['14.83', '3.02', 'Female', 'No', 'Sun', 'Dinner', '2']\n",
      "['21.58', '3.92', 'Male', 'No', 'Sun', 'Dinner', '2']\n",
      "['10.33', '1.67', 'Female', 'No', 'Sun', 'Dinner', '3']\n",
      "['16.29', '3.71', 'Male', 'No', 'Sun', 'Dinner', '3']\n",
      "['16.97', '3.5', 'Female', 'No', 'Sun', 'Dinner', '3']\n",
      "['20.65', '3.35', 'Male', 'No', 'Sat', 'Dinner', '3']\n",
      "['17.92', '4.08', 'Male', 'No', 'Sat', 'Dinner', '2']\n",
      "['20.29', '2.75', 'Female', 'No', 'Sat', 'Dinner', '2']\n",
      "['15.77', '2.23', 'Female', 'No', 'Sat', 'Dinner', '2']\n",
      "['39.42', '7.58', 'Male', 'No', 'Sat', 'Dinner', '4']\n",
      "['19.82', '3.18', 'Male', 'No', 'Sat', 'Dinner', '2']\n",
      "['17.81', '2.34', 'Male', 'No', 'Sat', 'Dinner', '4']\n",
      "['13.37', '2', 'Male', 'No', 'Sat', 'Dinner', '2']\n",
      "['12.69', '2', 'Male', 'No', 'Sat', 'Dinner', '2']\n",
      "['21.7', '4.3', 'Male', 'No', 'Sat', 'Dinner', '2']\n",
      "['19.65', '3', 'Female', 'No', 'Sat', 'Dinner', '2']\n",
      "['9.55', '1.45', 'Male', 'No', 'Sat', 'Dinner', '2']\n",
      "['18.35', '2.5', 'Male', 'No', 'Sat', 'Dinner', '4']\n",
      "['15.06', '3', 'Female', 'No', 'Sat', 'Dinner', '2']\n",
      "['20.69', '2.45', 'Female', 'No', 'Sat', 'Dinner', '4']\n",
      "['17.78', '3.27', 'Male', 'No', 'Sat', 'Dinner', '2']\n",
      "['24.06', '3.6', 'Male', 'No', 'Sat', 'Dinner', '3']\n",
      "['16.31', '2', 'Male', 'No', 'Sat', 'Dinner', '3']\n",
      "['16.93', '3.07', 'Female', 'No', 'Sat', 'Dinner', '3']\n",
      "['18.69', '2.31', 'Male', 'No', 'Sat', 'Dinner', '3']\n",
      "['31.27', '5', 'Male', 'No', 'Sat', 'Dinner', '3']\n",
      "['16.04', '2.24', 'Male', 'No', 'Sat', 'Dinner', '3']\n",
      "['17.46', '2.54', 'Male', 'No', 'Sun', 'Dinner', '2']\n",
      "['13.94', '3.06', 'Male', 'No', 'Sun', 'Dinner', '2']\n",
      "['9.68', '1.32', 'Male', 'No', 'Sun', 'Dinner', '2']\n",
      "['30.4', '5.6', 'Male', 'No', 'Sun', 'Dinner', '4']\n",
      "['18.29', '3', 'Male', 'No', 'Sun', 'Dinner', '2']\n",
      "['22.23', '5', 'Male', 'No', 'Sun', 'Dinner', '2']\n",
      "['32.4', '6', 'Male', 'No', 'Sun', 'Dinner', '4']\n",
      "['28.55', '2.05', 'Male', 'No', 'Sun', 'Dinner', '3']\n",
      "['18.04', '3', 'Male', 'No', 'Sun', 'Dinner', '2']\n",
      "['12.54', '2.5', 'Male', 'No', 'Sun', 'Dinner', '2']\n",
      "['10.29', '2.6', 'Female', 'No', 'Sun', 'Dinner', '2']\n",
      "['34.81', '5.2', 'Female', 'No', 'Sun', 'Dinner', '4']\n",
      "['9.94', '1.56', 'Male', 'No', 'Sun', 'Dinner', '2']\n",
      "['25.56', '4.34', 'Male', 'No', 'Sun', 'Dinner', '4']\n",
      "['19.49', '3.51', 'Male', 'No', 'Sun', 'Dinner', '2']\n",
      "['38.01', '3', 'Male', 'Yes', 'Sat', 'Dinner', '4']\n",
      "['26.41', '1.5', 'Female', 'No', 'Sat', 'Dinner', '2']\n",
      "['11.24', '1.76', 'Male', 'Yes', 'Sat', 'Dinner', '2']\n",
      "['48.27', '6.73', 'Male', 'No', 'Sat', 'Dinner', '4']\n",
      "['20.29', '3.21', 'Male', 'Yes', 'Sat', 'Dinner', '2']\n",
      "['13.81', '2', 'Male', 'Yes', 'Sat', 'Dinner', '2']\n",
      "['11.02', '1.98', 'Male', 'Yes', 'Sat', 'Dinner', '2']\n",
      "['18.29', '3.76', 'Male', 'Yes', 'Sat', 'Dinner', '4']\n",
      "['17.59', '2.64', 'Male', 'No', 'Sat', 'Dinner', '3']\n",
      "['20.08', '3.15', 'Male', 'No', 'Sat', 'Dinner', '3']\n",
      "['16.45', '2.47', 'Female', 'No', 'Sat', 'Dinner', '2']\n",
      "['3.07', '1', 'Female', 'Yes', 'Sat', 'Dinner', '1']\n",
      "['20.23', '2.01', 'Male', 'No', 'Sat', 'Dinner', '2']\n",
      "['15.01', '2.09', 'Male', 'Yes', 'Sat', 'Dinner', '2']\n",
      "['12.02', '1.97', 'Male', 'No', 'Sat', 'Dinner', '2']\n",
      "['17.07', '3', 'Female', 'No', 'Sat', 'Dinner', '3']\n",
      "['26.86', '3.14', 'Female', 'Yes', 'Sat', 'Dinner', '2']\n",
      "['25.28', '5', 'Female', 'Yes', 'Sat', 'Dinner', '2']\n",
      "['14.73', '2.2', 'Female', 'No', 'Sat', 'Dinner', '2']\n",
      "['10.51', '1.25', 'Male', 'No', 'Sat', 'Dinner', '2']\n",
      "['17.92', '3.08', 'Male', 'Yes', 'Sat', 'Dinner', '2']\n",
      "['27.2', '4', 'Male', 'No', 'Thur', 'Lunch', '4']\n",
      "['22.76', '3', 'Male', 'No', 'Thur', 'Lunch', '2']\n",
      "['17.29', '2.71', 'Male', 'No', 'Thur', 'Lunch', '2']\n",
      "['19.44', '3', 'Male', 'Yes', 'Thur', 'Lunch', '2']\n",
      "['16.66', '3.4', 'Male', 'No', 'Thur', 'Lunch', '2']\n",
      "['10.07', '1.83', 'Female', 'No', 'Thur', 'Lunch', '1']\n",
      "['32.68', '5', 'Male', 'Yes', 'Thur', 'Lunch', '2']\n",
      "['15.98', '2.03', 'Male', 'No', 'Thur', 'Lunch', '2']\n",
      "['34.83', '5.17', 'Female', 'No', 'Thur', 'Lunch', '4']\n",
      "['13.03', '2', 'Male', 'No', 'Thur', 'Lunch', '2']\n",
      "['18.28', '4', 'Male', 'No', 'Thur', 'Lunch', '2']\n",
      "['24.71', '5.85', 'Male', 'No', 'Thur', 'Lunch', '2']\n",
      "['21.16', '3', 'Male', 'No', 'Thur', 'Lunch', '2']\n",
      "['28.97', '3', 'Male', 'Yes', 'Fri', 'Dinner', '2']\n",
      "['22.49', '3.5', 'Male', 'No', 'Fri', 'Dinner', '2']\n",
      "['5.75', '1', 'Female', 'Yes', 'Fri', 'Dinner', '2']\n",
      "['16.32', '4.3', 'Female', 'Yes', 'Fri', 'Dinner', '2']\n",
      "['22.75', '3.25', 'Female', 'No', 'Fri', 'Dinner', '2']\n",
      "['40.17', '4.73', 'Male', 'Yes', 'Fri', 'Dinner', '4']\n",
      "['27.28', '4', 'Male', 'Yes', 'Fri', 'Dinner', '2']\n",
      "['12.03', '1.5', 'Male', 'Yes', 'Fri', 'Dinner', '2']\n",
      "['21.01', '3', 'Male', 'Yes', 'Fri', 'Dinner', '2']\n",
      "['12.46', '1.5', 'Male', 'No', 'Fri', 'Dinner', '2']\n",
      "['11.35', '2.5', 'Female', 'Yes', 'Fri', 'Dinner', '2']\n",
      "['15.38', '3', 'Female', 'Yes', 'Fri', 'Dinner', '2']\n",
      "['44.3', '2.5', 'Female', 'Yes', 'Sat', 'Dinner', '3']\n",
      "['22.42', '3.48', 'Female', 'Yes', 'Sat', 'Dinner', '2']\n",
      "['20.92', '4.08', 'Female', 'No', 'Sat', 'Dinner', '2']\n",
      "['15.36', '1.64', 'Male', 'Yes', 'Sat', 'Dinner', '2']\n",
      "['20.49', '4.06', 'Male', 'Yes', 'Sat', 'Dinner', '2']\n",
      "['25.21', '4.29', 'Male', 'Yes', 'Sat', 'Dinner', '2']\n",
      "['18.24', '3.76', 'Male', 'No', 'Sat', 'Dinner', '2']\n",
      "['14.31', '4', 'Female', 'Yes', 'Sat', 'Dinner', '2']\n",
      "['14', '3', 'Male', 'No', 'Sat', 'Dinner', '2']\n",
      "['7.25', '1', 'Female', 'No', 'Sat', 'Dinner', '1']\n",
      "['38.07', '4', 'Male', 'No', 'Sun', 'Dinner', '3']\n",
      "['23.95', '2.55', 'Male', 'No', 'Sun', 'Dinner', '2']\n",
      "['25.71', '4', 'Female', 'No', 'Sun', 'Dinner', '3']\n",
      "['17.31', '3.5', 'Female', 'No', 'Sun', 'Dinner', '2']\n",
      "['29.93', '5.07', 'Male', 'No', 'Sun', 'Dinner', '4']\n",
      "['10.65', '1.5', 'Female', 'No', 'Thur', 'Lunch', '2']\n",
      "['12.43', '1.8', 'Female', 'No', 'Thur', 'Lunch', '2']\n",
      "['24.08', '2.92', 'Female', 'No', 'Thur', 'Lunch', '4']\n",
      "['11.69', '2.31', 'Male', 'No', 'Thur', 'Lunch', '2']\n",
      "['13.42', '1.68', 'Female', 'No', 'Thur', 'Lunch', '2']\n",
      "['14.26', '2.5', 'Male', 'No', 'Thur', 'Lunch', '2']\n",
      "['15.95', '2', 'Male', 'No', 'Thur', 'Lunch', '2']\n",
      "['12.48', '2.52', 'Female', 'No', 'Thur', 'Lunch', '2']\n",
      "['29.8', '4.2', 'Female', 'No', 'Thur', 'Lunch', '6']\n",
      "['8.52', '1.48', 'Male', 'No', 'Thur', 'Lunch', '2']\n",
      "['14.52', '2', 'Female', 'No', 'Thur', 'Lunch', '2']\n",
      "['11.38', '2', 'Female', 'No', 'Thur', 'Lunch', '2']\n",
      "['22.82', '2.18', 'Male', 'No', 'Thur', 'Lunch', '3']\n",
      "['19.08', '1.5', 'Male', 'No', 'Thur', 'Lunch', '2']\n",
      "['20.27', '2.83', 'Female', 'No', 'Thur', 'Lunch', '2']\n",
      "['11.17', '1.5', 'Female', 'No', 'Thur', 'Lunch', '2']\n",
      "['12.26', '2', 'Female', 'No', 'Thur', 'Lunch', '2']\n",
      "['18.26', '3.25', 'Female', 'No', 'Thur', 'Lunch', '2']\n",
      "['8.51', '1.25', 'Female', 'No', 'Thur', 'Lunch', '2']\n",
      "['10.33', '2', 'Female', 'No', 'Thur', 'Lunch', '2']\n",
      "['14.15', '2', 'Female', 'No', 'Thur', 'Lunch', '2']\n",
      "['16', '2', 'Male', 'Yes', 'Thur', 'Lunch', '2']\n",
      "['13.16', '2.75', 'Female', 'No', 'Thur', 'Lunch', '2']\n",
      "['17.47', '3.5', 'Female', 'No', 'Thur', 'Lunch', '2']\n",
      "['34.3', '6.7', 'Male', 'No', 'Thur', 'Lunch', '6']\n",
      "['41.19', '5', 'Male', 'No', 'Thur', 'Lunch', '5']\n",
      "['27.05', '5', 'Female', 'No', 'Thur', 'Lunch', '6']\n",
      "['16.43', '2.3', 'Female', 'No', 'Thur', 'Lunch', '2']\n",
      "['8.35', '1.5', 'Female', 'No', 'Thur', 'Lunch', '2']\n",
      "['18.64', '1.36', 'Female', 'No', 'Thur', 'Lunch', '3']\n",
      "['11.87', '1.63', 'Female', 'No', 'Thur', 'Lunch', '2']\n",
      "['9.78', '1.73', 'Male', 'No', 'Thur', 'Lunch', '2']\n",
      "['7.51', '2', 'Male', 'No', 'Thur', 'Lunch', '2']\n",
      "['14.07', '2.5', 'Male', 'No', 'Sun', 'Dinner', '2']\n",
      "['13.13', '2', 'Male', 'No', 'Sun', 'Dinner', '2']\n",
      "['17.26', '2.74', 'Male', 'No', 'Sun', 'Dinner', '3']\n",
      "['24.55', '2', 'Male', 'No', 'Sun', 'Dinner', '4']\n",
      "['19.77', '2', 'Male', 'No', 'Sun', 'Dinner', '4']\n",
      "['29.85', '5.14', 'Female', 'No', 'Sun', 'Dinner', '5']\n",
      "['48.17', '5', 'Male', 'No', 'Sun', 'Dinner', '6']\n",
      "['25', '3.75', 'Female', 'No', 'Sun', 'Dinner', '4']\n",
      "['13.39', '2.61', 'Female', 'No', 'Sun', 'Dinner', '2']\n",
      "['16.49', '2', 'Male', 'No', 'Sun', 'Dinner', '4']\n",
      "['21.5', '3.5', 'Male', 'No', 'Sun', 'Dinner', '4']\n",
      "['12.66', '2.5', 'Male', 'No', 'Sun', 'Dinner', '2']\n",
      "['16.21', '2', 'Female', 'No', 'Sun', 'Dinner', '3']\n",
      "['13.81', '2', 'Male', 'No', 'Sun', 'Dinner', '2']\n",
      "['17.51', '3', 'Female', 'Yes', 'Sun', 'Dinner', '2']\n",
      "['24.52', '3.48', 'Male', 'No', 'Sun', 'Dinner', '3']\n",
      "['20.76', '2.24', 'Male', 'No', 'Sun', 'Dinner', '2']\n",
      "['31.71', '4.5', 'Male', 'No', 'Sun', 'Dinner', '4']\n",
      "['10.59', '1.61', 'Female', 'Yes', 'Sat', 'Dinner', '2']\n",
      "['10.63', '2', 'Female', 'Yes', 'Sat', 'Dinner', '2']\n",
      "['50.81', '10', 'Male', 'Yes', 'Sat', 'Dinner', '3']\n",
      "['15.81', '3.16', 'Male', 'Yes', 'Sat', 'Dinner', '2']\n",
      "['7.25', '5.15', 'Male', 'Yes', 'Sun', 'Dinner', '2']\n",
      "['31.85', '3.18', 'Male', 'Yes', 'Sun', 'Dinner', '2']\n",
      "['16.82', '4', 'Male', 'Yes', 'Sun', 'Dinner', '2']\n",
      "['32.9', '3.11', 'Male', 'Yes', 'Sun', 'Dinner', '2']\n",
      "['17.89', '2', 'Male', 'Yes', 'Sun', 'Dinner', '2']\n",
      "['14.48', '2', 'Male', 'Yes', 'Sun', 'Dinner', '2']\n",
      "['9.6', '4', 'Female', 'Yes', 'Sun', 'Dinner', '2']\n",
      "['34.63', '3.55', 'Male', 'Yes', 'Sun', 'Dinner', '2']\n",
      "['34.65', '3.68', 'Male', 'Yes', 'Sun', 'Dinner', '4']\n",
      "['23.33', '5.65', 'Male', 'Yes', 'Sun', 'Dinner', '2']\n",
      "['45.35', '3.5', 'Male', 'Yes', 'Sun', 'Dinner', '3']\n",
      "['23.17', '6.5', 'Male', 'Yes', 'Sun', 'Dinner', '4']\n",
      "['40.55', '3', 'Male', 'Yes', 'Sun', 'Dinner', '2']\n",
      "['20.69', '5', 'Male', 'No', 'Sun', 'Dinner', '5']\n",
      "['20.9', '3.5', 'Female', 'Yes', 'Sun', 'Dinner', '3']\n",
      "['30.46', '2', 'Male', 'Yes', 'Sun', 'Dinner', '5']\n",
      "['18.15', '3.5', 'Female', 'Yes', 'Sun', 'Dinner', '3']\n",
      "['23.1', '4', 'Male', 'Yes', 'Sun', 'Dinner', '3']\n",
      "['15.69', '1.5', 'Male', 'Yes', 'Sun', 'Dinner', '2']\n",
      "['19.81', '4.19', 'Female', 'Yes', 'Thur', 'Lunch', '2']\n",
      "['28.44', '2.56', 'Male', 'Yes', 'Thur', 'Lunch', '2']\n",
      "['15.48', '2.02', 'Male', 'Yes', 'Thur', 'Lunch', '2']\n",
      "['16.58', '4', 'Male', 'Yes', 'Thur', 'Lunch', '2']\n",
      "['7.56', '1.44', 'Male', 'No', 'Thur', 'Lunch', '2']\n",
      "['10.34', '2', 'Male', 'Yes', 'Thur', 'Lunch', '2']\n",
      "['43.11', '5', 'Female', 'Yes', 'Thur', 'Lunch', '4']\n",
      "['13', '2', 'Female', 'Yes', 'Thur', 'Lunch', '2']\n",
      "['13.51', '2', 'Male', 'Yes', 'Thur', 'Lunch', '2']\n",
      "['18.71', '4', 'Male', 'Yes', 'Thur', 'Lunch', '3']\n",
      "['12.74', '2.01', 'Female', 'Yes', 'Thur', 'Lunch', '2']\n",
      "['13', '2', 'Female', 'Yes', 'Thur', 'Lunch', '2']\n",
      "['16.4', '2.5', 'Female', 'Yes', 'Thur', 'Lunch', '2']\n",
      "['20.53', '4', 'Male', 'Yes', 'Thur', 'Lunch', '4']\n",
      "['16.47', '3.23', 'Female', 'Yes', 'Thur', 'Lunch', '3']\n",
      "['26.59', '3.41', 'Male', 'Yes', 'Sat', 'Dinner', '3']\n",
      "['38.73', '3', 'Male', 'Yes', 'Sat', 'Dinner', '4']\n",
      "['24.27', '2.03', 'Male', 'Yes', 'Sat', 'Dinner', '2']\n",
      "['12.76', '2.23', 'Female', 'Yes', 'Sat', 'Dinner', '2']\n",
      "['30.06', '2', 'Male', 'Yes', 'Sat', 'Dinner', '3']\n",
      "['25.89', '5.16', 'Male', 'Yes', 'Sat', 'Dinner', '4']\n",
      "['48.33', '9', 'Male', 'No', 'Sat', 'Dinner', '4']\n",
      "['13.27', '2.5', 'Female', 'Yes', 'Sat', 'Dinner', '2']\n",
      "['28.17', '6.5', 'Female', 'Yes', 'Sat', 'Dinner', '3']\n",
      "['12.9', '1.1', 'Female', 'Yes', 'Sat', 'Dinner', '2']\n",
      "['28.15', '3', 'Male', 'Yes', 'Sat', 'Dinner', '5']\n",
      "['11.59', '1.5', 'Male', 'Yes', 'Sat', 'Dinner', '2']\n",
      "['7.74', '1.44', 'Male', 'Yes', 'Sat', 'Dinner', '2']\n",
      "['30.14', '3.09', 'Female', 'Yes', 'Sat', 'Dinner', '4']\n",
      "['12.16', '2.2', 'Male', 'Yes', 'Fri', 'Lunch', '2']\n",
      "['13.42', '3.48', 'Female', 'Yes', 'Fri', 'Lunch', '2']\n",
      "['8.58', '1.92', 'Male', 'Yes', 'Fri', 'Lunch', '1']\n",
      "['15.98', '3', 'Female', 'No', 'Fri', 'Lunch', '3']\n",
      "['13.42', '1.58', 'Male', 'Yes', 'Fri', 'Lunch', '2']\n",
      "['16.27', '2.5', 'Female', 'Yes', 'Fri', 'Lunch', '2']\n",
      "['10.09', '2', 'Female', 'Yes', 'Fri', 'Lunch', '2']\n",
      "['20.45', '3', 'Male', 'No', 'Sat', 'Dinner', '4']\n",
      "['13.28', '2.72', 'Male', 'No', 'Sat', 'Dinner', '2']\n",
      "['22.12', '2.88', 'Female', 'Yes', 'Sat', 'Dinner', '2']\n",
      "['24.01', '2', 'Male', 'Yes', 'Sat', 'Dinner', '4']\n",
      "['15.69', '3', 'Male', 'Yes', 'Sat', 'Dinner', '3']\n",
      "['11.61', '3.39', 'Male', 'No', 'Sat', 'Dinner', '2']\n",
      "['10.77', '1.47', 'Male', 'No', 'Sat', 'Dinner', '2']\n",
      "['15.53', '3', 'Male', 'Yes', 'Sat', 'Dinner', '2']\n",
      "['10.07', '1.25', 'Male', 'No', 'Sat', 'Dinner', '2']\n",
      "['12.6', '1', 'Male', 'Yes', 'Sat', 'Dinner', '2']\n",
      "['32.83', '1.17', 'Male', 'Yes', 'Sat', 'Dinner', '2']\n",
      "['35.83', '4.67', 'Female', 'No', 'Sat', 'Dinner', '3']\n",
      "['29.03', '5.92', 'Male', 'No', 'Sat', 'Dinner', '3']\n",
      "['27.18', '2', 'Female', 'Yes', 'Sat', 'Dinner', '2']\n",
      "['22.67', '2', 'Male', 'Yes', 'Sat', 'Dinner', '2']\n",
      "['17.82', '1.75', 'Male', 'No', 'Sat', 'Dinner', '2']\n",
      "['18.78', '3', 'Female', 'No', 'Thur', 'Dinner', '2']\n"
     ]
    }
   ],
   "source": [
    "for row in rdr:\n",
    "    print(row)"
   ]
  },
  {
   "cell_type": "code",
   "execution_count": 35,
   "id": "79cce95a-0e15-4e24-b8db-d320d1119edf",
   "metadata": {},
   "outputs": [],
   "source": [
    "nums = [1,2,3,4]"
   ]
  },
  {
   "cell_type": "code",
   "execution_count": 37,
   "id": "a8ec1fc7-d242-4da5-8441-05a8e3c2ffa2",
   "metadata": {},
   "outputs": [
    {
     "data": {
      "text/plain": [
       "<list_iterator at 0x1051f20e0>"
      ]
     },
     "execution_count": 37,
     "metadata": {},
     "output_type": "execute_result"
    }
   ],
   "source": [
    "numsi = iter(nums)\n",
    "numsi"
   ]
  },
  {
   "cell_type": "code",
   "execution_count": 42,
   "id": "9af44ccb-237e-4958-b2ea-0226fd9e3ce5",
   "metadata": {},
   "outputs": [
    {
     "ename": "StopIteration",
     "evalue": "",
     "output_type": "error",
     "traceback": [
      "\u001b[0;31m---------------------------------------------------------------------------\u001b[0m",
      "\u001b[0;31mStopIteration\u001b[0m                             Traceback (most recent call last)",
      "Cell \u001b[0;32mIn[42], line 1\u001b[0m\n\u001b[0;32m----> 1\u001b[0m \u001b[38;5;28mnext\u001b[39m(numsi)\n",
      "\u001b[0;31mStopIteration\u001b[0m: "
     ]
    }
   ],
   "source": [
    "next(numsi)"
   ]
  },
  {
   "cell_type": "code",
   "execution_count": null,
   "id": "00b8a95f-1969-4923-8113-497023106c58",
   "metadata": {},
   "outputs": [],
   "source": [
    "nums.__iter__     # iterable"
   ]
  },
  {
   "cell_type": "code",
   "execution_count": null,
   "id": "249d7a96-915b-4a45-939a-e8657deabd60",
   "metadata": {},
   "outputs": [],
   "source": [
    "numsi.__next__     # next can be called on this object"
   ]
  },
  {
   "cell_type": "code",
   "execution_count": 47,
   "id": "5e461e0e-5c90-43ce-9b63-0b6d25a09b90",
   "metadata": {
    "scrolled": true
   },
   "outputs": [
    {
     "data": {
      "text/plain": [
       "731.58"
      ]
     },
     "execution_count": 47,
     "metadata": {},
     "output_type": "execute_result"
    }
   ],
   "source": [
    "f = open('../data/tips.csv')\n",
    "rdr = csv.reader(f)\n",
    "next(rdr)    # throwing away header\n",
    "# _ = next(rdr)\n",
    "\n",
    "total_tip = 0\n",
    "\n",
    "for row in rdr:\n",
    "    total_tip += float(row[1])\n",
    "\n",
    "total_tip"
   ]
  },
  {
   "cell_type": "code",
   "execution_count": 48,
   "id": "133fb418-e832-44f3-a23c-bdc58b607589",
   "metadata": {},
   "outputs": [],
   "source": [
    "import django"
   ]
  },
  {
   "cell_type": "code",
   "execution_count": null,
   "id": "07e65908-a774-4acc-879f-e03b1ddea58f",
   "metadata": {},
   "outputs": [],
   "source": []
  }
 ],
 "metadata": {
  "kernelspec": {
   "display_name": "Python 3 (ipykernel)",
   "language": "python",
   "name": "python3"
  },
  "language_info": {
   "codemirror_mode": {
    "name": "ipython",
    "version": 3
   },
   "file_extension": ".py",
   "mimetype": "text/x-python",
   "name": "python",
   "nbconvert_exporter": "python",
   "pygments_lexer": "ipython3",
   "version": "3.11.0"
  }
 },
 "nbformat": 4,
 "nbformat_minor": 5
}
