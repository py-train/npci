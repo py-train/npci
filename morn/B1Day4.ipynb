{
 "cells": [
  {
   "cell_type": "markdown",
   "id": "7198a259-ffa2-4bf2-81bf-796aa97f36de",
   "metadata": {},
   "source": [
    "# Day 4 Agenda\n",
    "\n",
    "- Modules\n",
    "- File Formats\n",
    "    - JSON\n",
    "    - YAML\n",
    "    - CSV??\n",
    "    - ??\n",
    "- Object Orientation/classes"
   ]
  },
  {
   "cell_type": "code",
   "execution_count": 2,
   "id": "668c20e0-5f07-4b92-bb6c-bc9e66b6826a",
   "metadata": {},
   "outputs": [],
   "source": [
    "import random"
   ]
  },
  {
   "cell_type": "code",
   "execution_count": 3,
   "id": "38f1150f-345a-40fc-bbcd-f6b123e2afc5",
   "metadata": {},
   "outputs": [
    {
     "ename": "ModuleNotFoundError",
     "evalue": "No module named 'adsfsdf'",
     "output_type": "error",
     "traceback": [
      "\u001b[0;31m---------------------------------------------------------------------------\u001b[0m",
      "\u001b[0;31mModuleNotFoundError\u001b[0m                       Traceback (most recent call last)",
      "Cell \u001b[0;32mIn[3], line 1\u001b[0m\n\u001b[0;32m----> 1\u001b[0m \u001b[38;5;28;01mimport\u001b[39;00m \u001b[38;5;21;01madsfsdf\u001b[39;00m\n",
      "\u001b[0;31mModuleNotFoundError\u001b[0m: No module named 'adsfsdf'"
     ]
    }
   ],
   "source": [
    "import adsfsdf"
   ]
  },
  {
   "cell_type": "code",
   "execution_count": 4,
   "id": "53e36fae-0f25-4c03-9420-cad4cdf63f9b",
   "metadata": {},
   "outputs": [
    {
     "data": {
      "text/plain": [
       "<module 'random' from '/opt/anaconda3/lib/python3.11/random.py'>"
      ]
     },
     "execution_count": 4,
     "metadata": {},
     "output_type": "execute_result"
    }
   ],
   "source": [
    "random"
   ]
  },
  {
   "cell_type": "code",
   "execution_count": 5,
   "id": "cb6566dd-213d-4d12-93a9-d2153e117729",
   "metadata": {},
   "outputs": [
    {
     "data": {
      "text/plain": [
       "module"
      ]
     },
     "execution_count": 5,
     "metadata": {},
     "output_type": "execute_result"
    }
   ],
   "source": [
    "type(random)"
   ]
  },
  {
   "cell_type": "code",
   "execution_count": null,
   "id": "cf879e22-069b-47fc-8436-cffb6c8dcb02",
   "metadata": {},
   "outputs": [],
   "source": [
    "random."
   ]
  },
  {
   "cell_type": "code",
   "execution_count": 6,
   "id": "b0ed3dff-fc64-4815-98f7-521a29210b2e",
   "metadata": {},
   "outputs": [
    {
     "data": {
      "text/plain": [
       "[10, 20, 30, 40, 50, 60, 70, 80, 90]"
      ]
     },
     "execution_count": 6,
     "metadata": {},
     "output_type": "execute_result"
    }
   ],
   "source": [
    "list(range(10,100,10))"
   ]
  },
  {
   "cell_type": "code",
   "execution_count": 12,
   "id": "1115fd9c-9eec-4696-8fc8-2bc572283eef",
   "metadata": {},
   "outputs": [
    {
     "data": {
      "text/plain": [
       "60"
      ]
     },
     "execution_count": 12,
     "metadata": {},
     "output_type": "execute_result"
    }
   ],
   "source": [
    "random.randrange(10,100,10)"
   ]
  },
  {
   "cell_type": "code",
   "execution_count": 26,
   "id": "98089672-b1ff-4a6b-b191-0f095fd5e54a",
   "metadata": {},
   "outputs": [
    {
     "data": {
      "text/plain": [
       "86"
      ]
     },
     "execution_count": 26,
     "metadata": {},
     "output_type": "execute_result"
    }
   ],
   "source": [
    "random.randint(10,100,)"
   ]
  },
  {
   "cell_type": "code",
   "execution_count": 24,
   "id": "a6b02647-c881-41bc-b949-84fe3eef72ce",
   "metadata": {},
   "outputs": [
    {
     "data": {
      "text/plain": [
       "0.4438570903452179"
      ]
     },
     "execution_count": 24,
     "metadata": {},
     "output_type": "execute_result"
    }
   ],
   "source": [
    "random.random()"
   ]
  },
  {
   "cell_type": "code",
   "execution_count": 27,
   "id": "833d95fc-a0ee-47bd-9064-64d4f043ace6",
   "metadata": {},
   "outputs": [],
   "source": [
    "numsofnums = [\n",
    "    [1,2,3],\n",
    "    [4,5,6],\n",
    "]"
   ]
  },
  {
   "cell_type": "code",
   "execution_count": 49,
   "id": "985ba724-5ef2-4fc4-b933-6427dda1d1a2",
   "metadata": {},
   "outputs": [
    {
     "data": {
      "text/plain": [
       "5"
      ]
     },
     "execution_count": 49,
     "metadata": {},
     "output_type": "execute_result"
    }
   ],
   "source": [
    "random.randint(1,6)"
   ]
  },
  {
   "cell_type": "code",
   "execution_count": 50,
   "id": "3d84e7e3-6e0c-4c5e-9615-01fad9cc50c7",
   "metadata": {},
   "outputs": [],
   "source": [
    "import glob"
   ]
  },
  {
   "cell_type": "code",
   "execution_count": 51,
   "id": "8bd1be00-959d-44b2-80c8-0e6ca9e3b73d",
   "metadata": {},
   "outputs": [
    {
     "data": {
      "text/plain": [
       "<module 'glob' from '/opt/anaconda3/lib/python3.11/glob.py'>"
      ]
     },
     "execution_count": 51,
     "metadata": {},
     "output_type": "execute_result"
    }
   ],
   "source": [
    "glob"
   ]
  },
  {
   "cell_type": "code",
   "execution_count": 53,
   "id": "21e68a90-cc51-4890-976e-497b292e2605",
   "metadata": {},
   "outputs": [
    {
     "data": {
      "text/plain": [
       "['/Users/ashishgulati/Train/npci/npci/morn/B1Day4.ipynb',\n",
       " '/Users/ashishgulati/Train/npci/npci/morn/B1Day2.ipynb',\n",
       " '/Users/ashishgulati/Train/npci/npci/morn/B1Day3.ipynb',\n",
       " '/Users/ashishgulati/Train/npci/npci/morn/B1Day1.ipynb']"
      ]
     },
     "execution_count": 53,
     "metadata": {},
     "output_type": "execute_result"
    }
   ],
   "source": [
    "glob.glob('/Users/ashishgulati/Train/npci/npci/morn/*.*py*')"
   ]
  },
  {
   "cell_type": "code",
   "execution_count": 54,
   "id": "d8618e6c-1254-47f3-904f-5ef84b7d4782",
   "metadata": {},
   "outputs": [
    {
     "data": {
      "text/plain": [
       "['/Users/ashishgulati/Train/npci/npci/eve/B2Day3.ipynb',\n",
       " '/Users/ashishgulati/Train/npci/npci/eve/B2Day1.ipynb',\n",
       " '/Users/ashishgulati/Train/npci/npci/eve/B2Day2.ipynb']"
      ]
     },
     "execution_count": 54,
     "metadata": {},
     "output_type": "execute_result"
    }
   ],
   "source": [
    "glob.glob('/Users/ashishgulati/Train/npci/npci/eve/*.*py*')"
   ]
  },
  {
   "cell_type": "markdown",
   "id": "c21ac81d-abc3-400f-8f97-9b98ac4b69c6",
   "metadata": {},
   "source": [
    "## File Formats: JSON"
   ]
  },
  {
   "cell_type": "code",
   "execution_count": 55,
   "id": "396e83b7-2051-444b-ac32-d51a6a7fd6ce",
   "metadata": {},
   "outputs": [],
   "source": [
    "import json"
   ]
  },
  {
   "cell_type": "code",
   "execution_count": 56,
   "id": "321c4d97-0e6e-462a-a188-dc84c8c10ba6",
   "metadata": {},
   "outputs": [
    {
     "data": {
      "text/plain": [
       "<module 'json' from '/opt/anaconda3/lib/python3.11/json/__init__.py'>"
      ]
     },
     "execution_count": 56,
     "metadata": {},
     "output_type": "execute_result"
    }
   ],
   "source": [
    "json"
   ]
  },
  {
   "cell_type": "code",
   "execution_count": 58,
   "id": "7c4e8f7f-8f55-4976-a344-50a336605163",
   "metadata": {},
   "outputs": [
    {
     "data": {
      "text/plain": [
       "[{'hostanme': 'mac1',\n",
       "  'ip': ['192.168.1.18', '10.10.2.9'],\n",
       "  'proc': 'i5',\n",
       "  'mem': 128,\n",
       "  'os': {'base': 'win32', 'bitsize': 32}},\n",
       " {'hostanme': 'mac2',\n",
       "  'ip': ['192.168.1.19', '10.10.2.11'],\n",
       "  'proc': 'i5',\n",
       "  'mem': 128,\n",
       "  'os': {'base': 'win32', 'bitsize': 32}}]"
      ]
     },
     "execution_count": 58,
     "metadata": {},
     "output_type": "execute_result"
    }
   ],
   "source": [
    "f = open('../data/datacenter.json')\n",
    "dc = json.load(f)\n",
    "dc"
   ]
  },
  {
   "cell_type": "code",
   "execution_count": 59,
   "id": "9fdc22d4-56ff-41ba-8adb-ce4bff761358",
   "metadata": {},
   "outputs": [
    {
     "data": {
      "text/plain": [
       "list"
      ]
     },
     "execution_count": 59,
     "metadata": {},
     "output_type": "execute_result"
    }
   ],
   "source": [
    "type(dc)"
   ]
  },
  {
   "cell_type": "code",
   "execution_count": 60,
   "id": "e9f82289-62db-4aca-8a62-dbde4439ed46",
   "metadata": {},
   "outputs": [
    {
     "data": {
      "text/plain": [
       "2"
      ]
     },
     "execution_count": 60,
     "metadata": {},
     "output_type": "execute_result"
    }
   ],
   "source": [
    "len(dc)"
   ]
  },
  {
   "cell_type": "code",
   "execution_count": 61,
   "id": "ef8e17d7-613c-43ad-8876-346530c8d099",
   "metadata": {},
   "outputs": [
    {
     "data": {
      "text/plain": [
       "dict"
      ]
     },
     "execution_count": 61,
     "metadata": {},
     "output_type": "execute_result"
    }
   ],
   "source": [
    "type(dc[0])"
   ]
  },
  {
   "cell_type": "code",
   "execution_count": 62,
   "id": "2cae421c-c814-4b11-8d2c-9872f7dbec87",
   "metadata": {},
   "outputs": [
    {
     "data": {
      "text/plain": [
       "{'hostanme': 'mac1',\n",
       " 'ip': ['192.168.1.18', '10.10.2.9'],\n",
       " 'proc': 'i5',\n",
       " 'mem': 128,\n",
       " 'os': {'base': 'win32', 'bitsize': 32}}"
      ]
     },
     "execution_count": 62,
     "metadata": {},
     "output_type": "execute_result"
    }
   ],
   "source": [
    "dc[0]"
   ]
  },
  {
   "cell_type": "code",
   "execution_count": 63,
   "id": "309cc499-e78d-4a82-8a26-a59199951012",
   "metadata": {},
   "outputs": [
    {
     "data": {
      "text/plain": [
       "dict_keys(['hostanme', 'ip', 'proc', 'mem', 'os'])"
      ]
     },
     "execution_count": 63,
     "metadata": {},
     "output_type": "execute_result"
    }
   ],
   "source": [
    "dc[0].keys()"
   ]
  },
  {
   "cell_type": "code",
   "execution_count": 65,
   "id": "cdd5dd50-6f1f-485a-a4c6-6d6f82aa816e",
   "metadata": {},
   "outputs": [
    {
     "data": {
      "text/plain": [
       "'mac1'"
      ]
     },
     "execution_count": 65,
     "metadata": {},
     "output_type": "execute_result"
    }
   ],
   "source": [
    "dc[0]['hostanme']"
   ]
  },
  {
   "cell_type": "code",
   "execution_count": 69,
   "id": "c1f0357b-f042-418d-ac98-3d8ebad145d1",
   "metadata": {},
   "outputs": [
    {
     "data": {
      "text/plain": [
       "'10.10.2.11'"
      ]
     },
     "execution_count": 69,
     "metadata": {},
     "output_type": "execute_result"
    }
   ],
   "source": [
    "# 2nd ip of 2nd machine\n",
    "dc[1]['ip'][-1]\n",
    "# '.'.join(dc[1]['ip'][-1].split('.')[:-1])"
   ]
  },
  {
   "cell_type": "code",
   "execution_count": 72,
   "id": "1fedd5c6-7289-474a-be52-e62d75b70f8f",
   "metadata": {},
   "outputs": [
    {
     "data": {
      "text/plain": [
       "32"
      ]
     },
     "execution_count": 72,
     "metadata": {},
     "output_type": "execute_result"
    }
   ],
   "source": [
    "# bitsize of the second server\n",
    "dc[1]['os']['bitsize']"
   ]
  },
  {
   "cell_type": "code",
   "execution_count": 73,
   "id": "aff434cc-9e21-41d2-bc38-771811680408",
   "metadata": {},
   "outputs": [
    {
     "data": {
      "text/plain": [
       "['192.168.1.18', '10.10.2.9']"
      ]
     },
     "execution_count": 73,
     "metadata": {},
     "output_type": "execute_result"
    }
   ],
   "source": [
    "# collect all ips of all server in the datacenter\n",
    "dc[0]['ip']"
   ]
  },
  {
   "cell_type": "code",
   "execution_count": 74,
   "id": "3a82e17e-3847-4509-b901-13749fdf915c",
   "metadata": {},
   "outputs": [
    {
     "data": {
      "text/plain": [
       "['192.168.1.19', '10.10.2.11']"
      ]
     },
     "execution_count": 74,
     "metadata": {},
     "output_type": "execute_result"
    }
   ],
   "source": [
    "dc[1]['ip']"
   ]
  },
  {
   "cell_type": "code",
   "execution_count": 78,
   "id": "43bc047b-fa71-45ac-8748-11eced28afe2",
   "metadata": {},
   "outputs": [
    {
     "data": {
      "text/plain": [
       "['192.168.1.18', '10.10.2.9', '192.168.1.19', '10.10.2.11']"
      ]
     },
     "execution_count": 78,
     "metadata": {},
     "output_type": "execute_result"
    }
   ],
   "source": [
    "allips = []\n",
    "\n",
    "for server in dc:\n",
    "    # allips += server['ip']\n",
    "    # allips.append(server['ip'])       -- will return lol\n",
    "    allips.extend(server['ip'])\n",
    "\n",
    "allips"
   ]
  },
  {
   "cell_type": "code",
   "execution_count": null,
   "id": "d0ed62e8-a953-4a61-99e1-772148b3d7d8",
   "metadata": {},
   "outputs": [],
   "source": [
    "# for ip in allips:\n",
    "#     ping(ip)"
   ]
  },
  {
   "cell_type": "code",
   "execution_count": 81,
   "id": "ab594553-afe1-44f3-a588-67a673eb66b4",
   "metadata": {},
   "outputs": [],
   "source": [
    "newip = '121.121.12.12'"
   ]
  },
  {
   "cell_type": "code",
   "execution_count": 82,
   "id": "b343f1ad-dfca-4a9b-b3b2-72ae79298420",
   "metadata": {},
   "outputs": [],
   "source": [
    "dc[1]['ip'].append(newip)"
   ]
  },
  {
   "cell_type": "code",
   "execution_count": 82,
   "id": "54b3f6b8-76bb-457f-a4b1-354a4943ff62",
   "metadata": {},
   "outputs": [],
   "source": [
    "# dc[1]['ip'].extend(newip)       NO!"
   ]
  },
  {
   "cell_type": "code",
   "execution_count": 83,
   "id": "f933cc1e-e5a4-4ed8-ac34-2ffd79807e50",
   "metadata": {},
   "outputs": [
    {
     "data": {
      "text/plain": [
       "['192.168.1.19', '10.10.2.11', '121.121.12.12']"
      ]
     },
     "execution_count": 83,
     "metadata": {},
     "output_type": "execute_result"
    }
   ],
   "source": [
    "dc[1]['ip']"
   ]
  },
  {
   "cell_type": "code",
   "execution_count": null,
   "id": "ce77391f-ba40-4d11-8174-8084f15ecf38",
   "metadata": {},
   "outputs": [],
   "source": [
    "# dc[1]['ip'] += newip       NO!\n",
    "dc[1]['ip'] += [newip]"
   ]
  },
  {
   "cell_type": "code",
   "execution_count": 84,
   "id": "2cd10004-cd48-4f19-936b-73c5c9481e45",
   "metadata": {},
   "outputs": [
    {
     "data": {
      "text/plain": [
       "[{'hostanme': 'mac1',\n",
       "  'ip': ['192.168.1.18', '10.10.2.9'],\n",
       "  'proc': 'i5',\n",
       "  'mem': 128,\n",
       "  'os': {'base': 'win32', 'bitsize': 32}},\n",
       " {'hostanme': 'mac2',\n",
       "  'ip': ['192.168.1.19', '10.10.2.11', '121.121.12.12'],\n",
       "  'proc': 'i5',\n",
       "  'mem': 128,\n",
       "  'os': {'base': 'win32', 'bitsize': 32}}]"
      ]
     },
     "execution_count": 84,
     "metadata": {},
     "output_type": "execute_result"
    }
   ],
   "source": [
    "dc"
   ]
  },
  {
   "cell_type": "markdown",
   "id": "f51decee-e845-409d-91c2-fac32b648318",
   "metadata": {},
   "source": [
    "### Geo JSON exercise\n",
    "\n",
    "1. Find all `formatted_address`s in the data"
   ]
  },
  {
   "cell_type": "code",
   "execution_count": 85,
   "id": "0569e505-7630-40a6-bb88-c1a1cd744d24",
   "metadata": {},
   "outputs": [
    {
     "data": {
      "text/plain": [
       "{'results': [{'address_components': [{'long_name': 'Dubai',\n",
       "     'short_name': 'Dubai',\n",
       "     'types': ['administrative_area_level_1', 'political']},\n",
       "    {'long_name': 'United Arab Emirates',\n",
       "     'short_name': 'AE',\n",
       "     'types': ['country', 'political']}],\n",
       "   'formatted_address': 'Sheikh Mohamed Bin Zayed Road (E311), Exit 60,Muhaisanah 2 - Dubai - United Arab Emirates',\n",
       "   'geometry': {'location': {'lat': 25.258679, 'lng': 55.410943},\n",
       "    'location_type': 'GEOMETRIC_CENTER',\n",
       "    'viewport': {'northeast': {'lat': 25.2600279802915,\n",
       "      'lng': 55.41229198029149},\n",
       "     'southwest': {'lat': 25.2573300197085, 'lng': 55.4095940197085}}},\n",
       "   'place_id': 'ChIJocpip3FeXz4RbMBhekhoTrI',\n",
       "   'types': ['establishment', 'point_of_interest']},\n",
       "  {'address_components': [{'long_name': 'Dubai',\n",
       "     'short_name': 'Dubai',\n",
       "     'types': ['locality', 'political']},\n",
       "    {'long_name': 'Muhaisnah',\n",
       "     'short_name': 'Muhaisnah',\n",
       "     'types': ['political', 'sublocality', 'sublocality_level_1']},\n",
       "    {'long_name': 'Dubai',\n",
       "     'short_name': 'Dubai',\n",
       "     'types': ['administrative_area_level_1', 'political']},\n",
       "    {'long_name': 'United Arab Emirates',\n",
       "     'short_name': 'AE',\n",
       "     'types': ['country', 'political']}],\n",
       "   'formatted_address': 'Dubai - United Arab Emirates',\n",
       "   'geometry': {'location': {'lat': 25.2606109, 'lng': 55.4114503},\n",
       "    'location_type': 'GEOMETRIC_CENTER',\n",
       "    'viewport': {'northeast': {'lat': 25.2619598802915,\n",
       "      'lng': 55.41279928029149},\n",
       "     'southwest': {'lat': 25.2592619197085, 'lng': 55.4101013197085}}},\n",
       "   'place_id': 'ChIJi9qVpnFeXz4Ruo4YztmXDHU',\n",
       "   'types': ['establishment', 'point_of_interest']}],\n",
       " 'status': 'OK'}"
      ]
     },
     "execution_count": 85,
     "metadata": {},
     "output_type": "execute_result"
    }
   ],
   "source": [
    "geo = json.load(open('../data/geocode.json'))\n",
    "geo"
   ]
  },
  {
   "cell_type": "code",
   "execution_count": 86,
   "id": "69f78fee-9ded-4858-9139-dbd43c8fed72",
   "metadata": {},
   "outputs": [
    {
     "data": {
      "text/plain": [
       "dict_keys(['results', 'status'])"
      ]
     },
     "execution_count": 86,
     "metadata": {},
     "output_type": "execute_result"
    }
   ],
   "source": [
    "geo.keys()"
   ]
  },
  {
   "cell_type": "code",
   "execution_count": 88,
   "id": "655cbae8-7840-4dcd-8672-7e452735206f",
   "metadata": {},
   "outputs": [
    {
     "data": {
      "text/plain": [
       "2"
      ]
     },
     "execution_count": 88,
     "metadata": {},
     "output_type": "execute_result"
    }
   ],
   "source": [
    "len(geo['results'])"
   ]
  },
  {
   "cell_type": "code",
   "execution_count": 92,
   "id": "666824e3-e722-4e70-910b-1ae011a1f2a6",
   "metadata": {},
   "outputs": [
    {
     "name": "stdout",
     "output_type": "stream",
     "text": [
      "Sheikh Mohamed Bin Zayed Road (E311), Exit 60,Muhaisanah 2 - Dubai - United Arab Emirates\n",
      "Dubai - United Arab Emirates\n"
     ]
    }
   ],
   "source": [
    "for result in geo['results']:\n",
    "    print(result['formatted_address'])"
   ]
  },
  {
   "cell_type": "code",
   "execution_count": 90,
   "id": "9a672586-8389-479a-8804-82d11e9292a8",
   "metadata": {},
   "outputs": [
    {
     "data": {
      "text/plain": [
       "dict_keys(['address_components', 'formatted_address', 'geometry', 'place_id', 'types'])"
      ]
     },
     "execution_count": 90,
     "metadata": {},
     "output_type": "execute_result"
    }
   ],
   "source": [
    "geo['results'][0].keys()"
   ]
  },
  {
   "cell_type": "code",
   "execution_count": 96,
   "id": "6b4023fb-4865-4284-826c-a9dce9c3912c",
   "metadata": {},
   "outputs": [
    {
     "data": {
      "text/plain": [
       "dict_values([25.258679, 55.410943])"
      ]
     },
     "execution_count": 96,
     "metadata": {},
     "output_type": "execute_result"
    }
   ],
   "source": [
    "geo['results'][0]['geometry']['location'].values()"
   ]
  },
  {
   "cell_type": "code",
   "execution_count": 98,
   "id": "5dbd49f9-2cb2-431f-b42b-c8dcbbffadce",
   "metadata": {},
   "outputs": [
    {
     "name": "stdout",
     "output_type": "stream",
     "text": [
      "Sheikh Mohamed Bin Zayed Road (E311), Exit 60,Muhaisanah 2 - Dubai - United Arab Emirates {'lat': 25.258679, 'lng': 55.410943}\n",
      "Dubai - United Arab Emirates {'lat': 25.2606109, 'lng': 55.4114503}\n"
     ]
    }
   ],
   "source": [
    "for result in geo['results']:\n",
    "    print(result['formatted_address'], result['geometry']['location'])"
   ]
  },
  {
   "cell_type": "code",
   "execution_count": 100,
   "id": "ffcebfe8-b573-459a-a115-068e92359092",
   "metadata": {},
   "outputs": [],
   "source": [
    "fout = open('geomod.json', 'w')"
   ]
  },
  {
   "cell_type": "code",
   "execution_count": 101,
   "id": "ff079e2d-da07-4117-b532-aef398557c74",
   "metadata": {},
   "outputs": [],
   "source": [
    "json.dump(geo, fout)"
   ]
  },
  {
   "cell_type": "code",
   "execution_count": 104,
   "id": "87c82258-56cf-4079-931c-6a17ac3ce16e",
   "metadata": {},
   "outputs": [
    {
     "data": {
      "text/plain": [
       "True"
      ]
     },
     "execution_count": 104,
     "metadata": {},
     "output_type": "execute_result"
    }
   ],
   "source": [
    "fout.closed"
   ]
  },
  {
   "cell_type": "code",
   "execution_count": 103,
   "id": "ffb72bda-343c-4bb4-a6cb-d33d1fdc46e3",
   "metadata": {},
   "outputs": [],
   "source": [
    "# fout.flush()\n",
    "fout.close()"
   ]
  },
  {
   "cell_type": "markdown",
   "id": "2f3119ed-fe61-40aa-bf9d-616548b661a3",
   "metadata": {},
   "source": [
    "### YML"
   ]
  },
  {
   "cell_type": "code",
   "execution_count": 105,
   "id": "9cb27801-b26e-43ae-801e-2f14b83ad301",
   "metadata": {},
   "outputs": [],
   "source": [
    "import yaml"
   ]
  },
  {
   "cell_type": "code",
   "execution_count": 107,
   "id": "f55e6eb3-0a4d-4aec-8cb3-6561ce8d9f38",
   "metadata": {},
   "outputs": [],
   "source": [
    "from yaml import load, dump, Loader, Dumper"
   ]
  },
  {
   "cell_type": "code",
   "execution_count": 109,
   "id": "3b0a0d75-2e7c-43b8-b3de-124d397cf082",
   "metadata": {},
   "outputs": [
    {
     "data": {
      "text/plain": [
       "{'version': 2,\n",
       " 'build': {'os': 'ubuntu-22.04', 'tools': {'python': '3.11'}},\n",
       " 'sphinx': {'configuration': 'mypyc/doc/conf.py'},\n",
       " 'formats': ['pdf', 'htmlzip', 'epub'],\n",
       " 'python': {'install': [{'requirements': 'docs/requirements-docs.txt'}]}}"
      ]
     },
     "execution_count": 109,
     "metadata": {},
     "output_type": "execute_result"
    }
   ],
   "source": [
    "f = open('../data/readthedocs.yaml')\n",
    "rtdconfig = load(f, Loader)\n",
    "rtdconfig"
   ]
  },
  {
   "cell_type": "code",
   "execution_count": 111,
   "id": "2b10b4cb-5369-4d04-9f35-2df69b35c208",
   "metadata": {},
   "outputs": [
    {
     "data": {
      "text/plain": [
       "'docs/requirements-docs.txt'"
      ]
     },
     "execution_count": 111,
     "metadata": {},
     "output_type": "execute_result"
    }
   ],
   "source": [
    "rtdconfig['python']['install'][0]['requirements']"
   ]
  },
  {
   "cell_type": "markdown",
   "id": "4c2937af-d188-4352-9a0d-58ff03c28a28",
   "metadata": {},
   "source": [
    "## OO/ Classes\n",
    "\n",
    "    Data + Code = Class (Encapsulation)\n",
    "\n",
    "### Thumb Rules for implementing python classes\n",
    "\n",
    "1. Use the `class` keyword and give your call a name\n",
    "   \n",
    "       class Stack:\n",
    "           ...\n",
    "\n",
    "2. Write all your methods with `self` as the first argument\n",
    "   \n",
    "       def push(self, val):\n",
    "           ...\n",
    "\n",
    "3. Define an `__init__` method that does data creation/instantiation/initialization (again with a `self` arg)\n",
    "\n",
    "       def __init__(self):\n",
    "           self.data = []\n",
    "\n",
    "### Notes\n",
    "- Remember: `self` is not a keyword in python!\n",
    "- Remember: the name `__init__` is important! `_init_` or `init` will work and not throw errors. But they will not have the effect of a constructor!"
   ]
  },
  {
   "cell_type": "code",
   "execution_count": 112,
   "id": "e7b3bdab-3ea3-4c29-9430-635cb808455e",
   "metadata": {},
   "outputs": [],
   "source": [
    "stack = []"
   ]
  },
  {
   "cell_type": "code",
   "execution_count": 119,
   "id": "a408b29b-3815-40a3-836e-d886ab241e37",
   "metadata": {},
   "outputs": [],
   "source": [
    "def push(s, val):\n",
    "    s.append(val)"
   ]
  },
  {
   "cell_type": "code",
   "execution_count": 120,
   "id": "f6d6f7cc-854c-42e0-a080-dc590a46b323",
   "metadata": {},
   "outputs": [],
   "source": [
    "def pop(s):\n",
    "    return s.pop()"
   ]
  },
  {
   "cell_type": "code",
   "execution_count": 115,
   "id": "72117234-749b-4fa6-9eff-e9efeb3f6999",
   "metadata": {},
   "outputs": [],
   "source": [
    "push(10)\n",
    "push(20)\n",
    "push(30)\n",
    "v1 = pop()\n",
    "push(40)\n",
    "v2 = pop()"
   ]
  },
  {
   "cell_type": "code",
   "execution_count": 116,
   "id": "49925cf7-6fcf-4fdf-92a2-1fb5bbb82f63",
   "metadata": {},
   "outputs": [
    {
     "data": {
      "text/plain": [
       "[10, 20]"
      ]
     },
     "execution_count": 116,
     "metadata": {},
     "output_type": "execute_result"
    }
   ],
   "source": [
    "stack"
   ]
  },
  {
   "cell_type": "code",
   "execution_count": 117,
   "id": "db0f0784-fcda-4a1d-b4ea-2a03f350aac1",
   "metadata": {},
   "outputs": [
    {
     "data": {
      "text/plain": [
       "30"
      ]
     },
     "execution_count": 117,
     "metadata": {},
     "output_type": "execute_result"
    }
   ],
   "source": [
    "v1"
   ]
  },
  {
   "cell_type": "code",
   "execution_count": 118,
   "id": "8162822d-7e03-4ec0-aeff-c40336bd0f11",
   "metadata": {},
   "outputs": [
    {
     "data": {
      "text/plain": [
       "40"
      ]
     },
     "execution_count": 118,
     "metadata": {},
     "output_type": "execute_result"
    }
   ],
   "source": [
    "v2"
   ]
  },
  {
   "cell_type": "code",
   "execution_count": 121,
   "id": "3ee2f4f5-2312-494c-88a9-f447f518e181",
   "metadata": {},
   "outputs": [],
   "source": [
    "push(stack, 10)\n",
    "push(stack, 20)\n",
    "push(stack, 30)\n",
    "v1 = pop(stack)\n",
    "push(stack, 40)\n",
    "v2 = pop(stack)"
   ]
  },
  {
   "cell_type": "code",
   "execution_count": 122,
   "id": "3f9f3196-136f-482c-9e9d-8bd461ef3029",
   "metadata": {},
   "outputs": [
    {
     "data": {
      "text/plain": [
       "[10, 20, 10, 20]"
      ]
     },
     "execution_count": 122,
     "metadata": {},
     "output_type": "execute_result"
    }
   ],
   "source": [
    "stack"
   ]
  },
  {
   "cell_type": "code",
   "execution_count": 123,
   "id": "f9e02019-44a0-42da-8864-78f418e2cb1d",
   "metadata": {},
   "outputs": [],
   "source": [
    "stack2 = []"
   ]
  },
  {
   "cell_type": "code",
   "execution_count": 124,
   "id": "3eba3371-67d7-4c26-904d-78e68ac0f966",
   "metadata": {},
   "outputs": [],
   "source": [
    "push(stack2, 10)\n",
    "push(stack2, 20)\n",
    "push(stack2, 30)\n",
    "v1 = pop(stack2)\n",
    "push(stack2, 40)\n",
    "v2 = pop(stack2)"
   ]
  },
  {
   "cell_type": "code",
   "execution_count": 126,
   "id": "4cea76ac-65bf-4a4f-a710-392d765fa476",
   "metadata": {},
   "outputs": [
    {
     "ename": "AttributeError",
     "evalue": "'dict' object has no attribute 'append'",
     "output_type": "error",
     "traceback": [
      "\u001b[0;31m---------------------------------------------------------------------------\u001b[0m",
      "\u001b[0;31mAttributeError\u001b[0m                            Traceback (most recent call last)",
      "Cell \u001b[0;32mIn[126], line 3\u001b[0m\n\u001b[1;32m      1\u001b[0m stack3 \u001b[38;5;241m=\u001b[39m {}\n\u001b[0;32m----> 3\u001b[0m push(stack3, \u001b[38;5;241m10\u001b[39m)\n",
      "Cell \u001b[0;32mIn[119], line 2\u001b[0m, in \u001b[0;36mpush\u001b[0;34m(s, val)\u001b[0m\n\u001b[1;32m      1\u001b[0m \u001b[38;5;28;01mdef\u001b[39;00m \u001b[38;5;21mpush\u001b[39m(s, val):\n\u001b[0;32m----> 2\u001b[0m     s\u001b[38;5;241m.\u001b[39mappend(val)\n",
      "\u001b[0;31mAttributeError\u001b[0m: 'dict' object has no attribute 'append'"
     ]
    }
   ],
   "source": [
    "stack3 = {}\n",
    "\n",
    "push(stack3, 10)"
   ]
  },
  {
   "cell_type": "code",
   "execution_count": 137,
   "id": "d4c7c049-6956-45cb-ab54-3525750eaeaf",
   "metadata": {},
   "outputs": [],
   "source": [
    "class Stack:\n",
    "    def __init__(self):\n",
    "        self.stack = []\n",
    "    \n",
    "    def push(self, val):\n",
    "        self.stack.append(val)\n",
    "\n",
    "    def pop(self):\n",
    "        return self.stack.pop()"
   ]
  },
  {
   "cell_type": "code",
   "execution_count": 138,
   "id": "235b4d68-ce5f-4636-a2ed-499ff1d1a87f",
   "metadata": {},
   "outputs": [],
   "source": [
    "s1 = Stack()\n",
    "s2 = Stack()"
   ]
  },
  {
   "cell_type": "code",
   "execution_count": 139,
   "id": "5c9fb91e-4b3e-4cc6-87e1-dd7603d82355",
   "metadata": {},
   "outputs": [],
   "source": [
    "s1.push(10)\n",
    "s2.push(20)\n",
    "s1.pop()\n",
    "s2.push(30)"
   ]
  },
  {
   "cell_type": "code",
   "execution_count": 140,
   "id": "611ddb08-ecfd-4c97-bebb-c067d4151702",
   "metadata": {},
   "outputs": [
    {
     "data": {
      "text/plain": [
       "[]"
      ]
     },
     "execution_count": 140,
     "metadata": {},
     "output_type": "execute_result"
    }
   ],
   "source": [
    "s1.stack"
   ]
  },
  {
   "cell_type": "code",
   "execution_count": 141,
   "id": "b5b58fa4-7c08-40b4-afb5-ea246a4f05d7",
   "metadata": {},
   "outputs": [
    {
     "data": {
      "text/plain": [
       "[20, 30]"
      ]
     },
     "execution_count": 141,
     "metadata": {},
     "output_type": "execute_result"
    }
   ],
   "source": [
    "s2.stack"
   ]
  },
  {
   "cell_type": "code",
   "execution_count": null,
   "id": "cdd839ce-51e7-4cc4-91a4-fa93f20fe927",
   "metadata": {},
   "outputs": [],
   "source": []
  }
 ],
 "metadata": {
  "kernelspec": {
   "display_name": "Python 3 (ipykernel)",
   "language": "python",
   "name": "python3"
  },
  "language_info": {
   "codemirror_mode": {
    "name": "ipython",
    "version": 3
   },
   "file_extension": ".py",
   "mimetype": "text/x-python",
   "name": "python",
   "nbconvert_exporter": "python",
   "pygments_lexer": "ipython3",
   "version": "3.11.0"
  }
 },
 "nbformat": 4,
 "nbformat_minor": 5
}
